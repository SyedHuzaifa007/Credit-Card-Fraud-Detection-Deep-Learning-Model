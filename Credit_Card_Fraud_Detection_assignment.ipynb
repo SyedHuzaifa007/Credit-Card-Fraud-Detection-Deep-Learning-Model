{
  "nbformat": 4,
  "nbformat_minor": 0,
  "metadata": {
    "kernelspec": {
      "display_name": "Python 3",
      "language": "python",
      "name": "python3"
    },
    "language_info": {
      "codemirror_mode": {
        "name": "ipython",
        "version": 3
      },
      "file_extension": ".py",
      "mimetype": "text/x-python",
      "name": "python",
      "nbconvert_exporter": "python",
      "pygments_lexer": "ipython3",
      "version": "3.7.3"
    },
    "colab": {
      "name": "Credit Card Fraud Detection assignment.ipynb",
      "provenance": [],
      "collapsed_sections": [],
      "include_colab_link": true
    }
  },
  "cells": [
    {
      "cell_type": "markdown",
      "metadata": {
        "id": "view-in-github",
        "colab_type": "text"
      },
      "source": [
        "<a href=\"https://colab.research.google.com/github/SyedHuzaifa007/Credit-Card-Fraud-Detection-Deep-Learning-Model/blob/main/Credit_Card_Fraud_Detection_assignment.ipynb\" target=\"_parent\"><img src=\"https://colab.research.google.com/assets/colab-badge.svg\" alt=\"Open In Colab\"/></a>"
      ]
    },
    {
      "cell_type": "markdown",
      "metadata": {
        "id": "MuDH34_xCUbd"
      },
      "source": [
        "# Credit Card Fraud Detection::"
      ]
    },
    {
      "cell_type": "markdown",
      "metadata": {
        "id": "ak21mTSXCUbt"
      },
      "source": [
        "Download dataset from this link:\n",
        "\n",
        "https://www.kaggle.com/mlg-ulb/creditcardfraud"
      ]
    },
    {
      "cell_type": "markdown",
      "metadata": {
        "id": "mX-eM6WOCUbu"
      },
      "source": [
        "# Description about dataset::"
      ]
    },
    {
      "cell_type": "markdown",
      "metadata": {
        "id": "dte_3cuRCUbu"
      },
      "source": [
        "The datasets contains transactions made by credit cards in September 2013 by european cardholders.\n",
        "This dataset presents transactions that occurred in two days, where we have 492 frauds out of 284,807 transactions. The dataset is highly unbalanced, the positive class (frauds) account for 0.172% of all transactions.\n",
        "\n",
        "It contains only numerical input variables which are the result of a PCA transformation. Unfortunately, due to confidentiality issues, we cannot provide the original features and more background information about the data. Features V1, V2, … V28 are the principal components obtained with PCA, the only features which have not been transformed with PCA are 'Time' and 'Amount'. Feature 'Time' contains the seconds elapsed between each transaction and the first transaction in the dataset. The feature 'Amount' is the transaction Amount, this feature can be used for example-dependant cost-senstive learning. \n",
        "\n",
        "\n",
        "### Feature 'Class' is the response variable and it takes value 1 in case of fraud and 0 otherwise."
      ]
    },
    {
      "cell_type": "markdown",
      "metadata": {
        "id": "gBrDnuZhCUbv"
      },
      "source": [
        "# WORKFLOW :"
      ]
    },
    {
      "cell_type": "markdown",
      "metadata": {
        "id": "ULhsuHUaCUbv"
      },
      "source": [
        "1.Load Data\n",
        "\n",
        "2.Check Missing Values ( If Exist ; Fill each record with mean of its feature )\n",
        "\n",
        "3.Standardized the Input Variables. \n",
        "\n",
        "4.Split into 50% Training(Samples,Labels) , 30% Test(Samples,Labels) and 20% Validation Data(Samples,Labels).\n",
        "\n",
        "5.Model : input Layer (No. of features ), 3 hidden layers including 10,8,6 unit & Output Layer with activation function relu/tanh (check by experiment).\n",
        "\n",
        "6.Compilation Step (Note : Its a Binary problem , select loss , metrics according to it)\n",
        "\n",
        "7.Train the Model with Epochs (100).\n",
        "\n",
        "8.If the model gets overfit tune your model by changing the units , No. of layers , epochs , add dropout layer or add Regularizer according to the need .\n",
        "\n",
        "9.Prediction should be > 92%\n",
        "10.Evaluation Step\n",
        "11Prediction\n"
      ]
    },
    {
      "cell_type": "markdown",
      "metadata": {
        "id": "uKLPh7H6CUbv"
      },
      "source": [
        "# Task::"
      ]
    },
    {
      "cell_type": "markdown",
      "metadata": {
        "id": "rdMRPkKDCUbw"
      },
      "source": [
        "## Identify fraudulent credit card transactions."
      ]
    },
    {
      "cell_type": "code",
      "metadata": {
        "colab": {
          "base_uri": "https://localhost:8080/"
        },
        "id": "vF_5qwRUf0Mx",
        "outputId": "640a9eb7-d384-4e6e-85c1-25e4a97ea2f2"
      },
      "source": [
        "from google.colab import drive\n",
        "drive.mount('/content/drive')"
      ],
      "execution_count": 1,
      "outputs": [
        {
          "output_type": "stream",
          "text": [
            "Mounted at /content/drive\n"
          ],
          "name": "stdout"
        }
      ]
    },
    {
      "cell_type": "code",
      "metadata": {
        "id": "rgWbfJtJCUbw"
      },
      "source": [
        "# Importing Modules\n",
        "import numpy as np\n",
        "import pandas as pd\n",
        "import matplotlib.pyplot as plt\n",
        "import seaborn as sns\n",
        "from scipy import stats\n",
        "import tensorflow as tf\n",
        "from tensorflow.keras.models import Sequential\n",
        "from tensorflow.keras.layers import Dense, Dropout\n",
        "from tensorflow.keras import regularizers\n",
        "import tensorboard\n",
        "from pylab import rcParams"
      ],
      "execution_count": 2,
      "outputs": []
    },
    {
      "cell_type": "code",
      "metadata": {
        "colab": {
          "base_uri": "https://localhost:8080/",
          "height": 221
        },
        "id": "KusaLjcjCUbx",
        "outputId": "e68a2e75-58ae-444b-bc1d-c4e00e535596"
      },
      "source": [
        "# Loading The Data\n",
        "df = pd.read_csv(\"/content/drive/MyDrive/ML_Datasets/creditcard.csv\")\n",
        "df.head()"
      ],
      "execution_count": 55,
      "outputs": [
        {
          "output_type": "execute_result",
          "data": {
            "text/html": [
              "<div>\n",
              "<style scoped>\n",
              "    .dataframe tbody tr th:only-of-type {\n",
              "        vertical-align: middle;\n",
              "    }\n",
              "\n",
              "    .dataframe tbody tr th {\n",
              "        vertical-align: top;\n",
              "    }\n",
              "\n",
              "    .dataframe thead th {\n",
              "        text-align: right;\n",
              "    }\n",
              "</style>\n",
              "<table border=\"1\" class=\"dataframe\">\n",
              "  <thead>\n",
              "    <tr style=\"text-align: right;\">\n",
              "      <th></th>\n",
              "      <th>Time</th>\n",
              "      <th>V1</th>\n",
              "      <th>V2</th>\n",
              "      <th>V3</th>\n",
              "      <th>V4</th>\n",
              "      <th>V5</th>\n",
              "      <th>V6</th>\n",
              "      <th>V7</th>\n",
              "      <th>V8</th>\n",
              "      <th>V9</th>\n",
              "      <th>V10</th>\n",
              "      <th>V11</th>\n",
              "      <th>V12</th>\n",
              "      <th>V13</th>\n",
              "      <th>V14</th>\n",
              "      <th>V15</th>\n",
              "      <th>V16</th>\n",
              "      <th>V17</th>\n",
              "      <th>V18</th>\n",
              "      <th>V19</th>\n",
              "      <th>V20</th>\n",
              "      <th>V21</th>\n",
              "      <th>V22</th>\n",
              "      <th>V23</th>\n",
              "      <th>V24</th>\n",
              "      <th>V25</th>\n",
              "      <th>V26</th>\n",
              "      <th>V27</th>\n",
              "      <th>V28</th>\n",
              "      <th>Amount</th>\n",
              "      <th>Class</th>\n",
              "    </tr>\n",
              "  </thead>\n",
              "  <tbody>\n",
              "    <tr>\n",
              "      <th>0</th>\n",
              "      <td>0.0</td>\n",
              "      <td>-1.359807</td>\n",
              "      <td>-0.072781</td>\n",
              "      <td>2.536347</td>\n",
              "      <td>1.378155</td>\n",
              "      <td>-0.338321</td>\n",
              "      <td>0.462388</td>\n",
              "      <td>0.239599</td>\n",
              "      <td>0.098698</td>\n",
              "      <td>0.363787</td>\n",
              "      <td>0.090794</td>\n",
              "      <td>-0.551600</td>\n",
              "      <td>-0.617801</td>\n",
              "      <td>-0.991390</td>\n",
              "      <td>-0.311169</td>\n",
              "      <td>1.468177</td>\n",
              "      <td>-0.470401</td>\n",
              "      <td>0.207971</td>\n",
              "      <td>0.025791</td>\n",
              "      <td>0.403993</td>\n",
              "      <td>0.251412</td>\n",
              "      <td>-0.018307</td>\n",
              "      <td>0.277838</td>\n",
              "      <td>-0.110474</td>\n",
              "      <td>0.066928</td>\n",
              "      <td>0.128539</td>\n",
              "      <td>-0.189115</td>\n",
              "      <td>0.133558</td>\n",
              "      <td>-0.021053</td>\n",
              "      <td>149.62</td>\n",
              "      <td>0</td>\n",
              "    </tr>\n",
              "    <tr>\n",
              "      <th>1</th>\n",
              "      <td>0.0</td>\n",
              "      <td>1.191857</td>\n",
              "      <td>0.266151</td>\n",
              "      <td>0.166480</td>\n",
              "      <td>0.448154</td>\n",
              "      <td>0.060018</td>\n",
              "      <td>-0.082361</td>\n",
              "      <td>-0.078803</td>\n",
              "      <td>0.085102</td>\n",
              "      <td>-0.255425</td>\n",
              "      <td>-0.166974</td>\n",
              "      <td>1.612727</td>\n",
              "      <td>1.065235</td>\n",
              "      <td>0.489095</td>\n",
              "      <td>-0.143772</td>\n",
              "      <td>0.635558</td>\n",
              "      <td>0.463917</td>\n",
              "      <td>-0.114805</td>\n",
              "      <td>-0.183361</td>\n",
              "      <td>-0.145783</td>\n",
              "      <td>-0.069083</td>\n",
              "      <td>-0.225775</td>\n",
              "      <td>-0.638672</td>\n",
              "      <td>0.101288</td>\n",
              "      <td>-0.339846</td>\n",
              "      <td>0.167170</td>\n",
              "      <td>0.125895</td>\n",
              "      <td>-0.008983</td>\n",
              "      <td>0.014724</td>\n",
              "      <td>2.69</td>\n",
              "      <td>0</td>\n",
              "    </tr>\n",
              "    <tr>\n",
              "      <th>2</th>\n",
              "      <td>1.0</td>\n",
              "      <td>-1.358354</td>\n",
              "      <td>-1.340163</td>\n",
              "      <td>1.773209</td>\n",
              "      <td>0.379780</td>\n",
              "      <td>-0.503198</td>\n",
              "      <td>1.800499</td>\n",
              "      <td>0.791461</td>\n",
              "      <td>0.247676</td>\n",
              "      <td>-1.514654</td>\n",
              "      <td>0.207643</td>\n",
              "      <td>0.624501</td>\n",
              "      <td>0.066084</td>\n",
              "      <td>0.717293</td>\n",
              "      <td>-0.165946</td>\n",
              "      <td>2.345865</td>\n",
              "      <td>-2.890083</td>\n",
              "      <td>1.109969</td>\n",
              "      <td>-0.121359</td>\n",
              "      <td>-2.261857</td>\n",
              "      <td>0.524980</td>\n",
              "      <td>0.247998</td>\n",
              "      <td>0.771679</td>\n",
              "      <td>0.909412</td>\n",
              "      <td>-0.689281</td>\n",
              "      <td>-0.327642</td>\n",
              "      <td>-0.139097</td>\n",
              "      <td>-0.055353</td>\n",
              "      <td>-0.059752</td>\n",
              "      <td>378.66</td>\n",
              "      <td>0</td>\n",
              "    </tr>\n",
              "    <tr>\n",
              "      <th>3</th>\n",
              "      <td>1.0</td>\n",
              "      <td>-0.966272</td>\n",
              "      <td>-0.185226</td>\n",
              "      <td>1.792993</td>\n",
              "      <td>-0.863291</td>\n",
              "      <td>-0.010309</td>\n",
              "      <td>1.247203</td>\n",
              "      <td>0.237609</td>\n",
              "      <td>0.377436</td>\n",
              "      <td>-1.387024</td>\n",
              "      <td>-0.054952</td>\n",
              "      <td>-0.226487</td>\n",
              "      <td>0.178228</td>\n",
              "      <td>0.507757</td>\n",
              "      <td>-0.287924</td>\n",
              "      <td>-0.631418</td>\n",
              "      <td>-1.059647</td>\n",
              "      <td>-0.684093</td>\n",
              "      <td>1.965775</td>\n",
              "      <td>-1.232622</td>\n",
              "      <td>-0.208038</td>\n",
              "      <td>-0.108300</td>\n",
              "      <td>0.005274</td>\n",
              "      <td>-0.190321</td>\n",
              "      <td>-1.175575</td>\n",
              "      <td>0.647376</td>\n",
              "      <td>-0.221929</td>\n",
              "      <td>0.062723</td>\n",
              "      <td>0.061458</td>\n",
              "      <td>123.50</td>\n",
              "      <td>0</td>\n",
              "    </tr>\n",
              "    <tr>\n",
              "      <th>4</th>\n",
              "      <td>2.0</td>\n",
              "      <td>-1.158233</td>\n",
              "      <td>0.877737</td>\n",
              "      <td>1.548718</td>\n",
              "      <td>0.403034</td>\n",
              "      <td>-0.407193</td>\n",
              "      <td>0.095921</td>\n",
              "      <td>0.592941</td>\n",
              "      <td>-0.270533</td>\n",
              "      <td>0.817739</td>\n",
              "      <td>0.753074</td>\n",
              "      <td>-0.822843</td>\n",
              "      <td>0.538196</td>\n",
              "      <td>1.345852</td>\n",
              "      <td>-1.119670</td>\n",
              "      <td>0.175121</td>\n",
              "      <td>-0.451449</td>\n",
              "      <td>-0.237033</td>\n",
              "      <td>-0.038195</td>\n",
              "      <td>0.803487</td>\n",
              "      <td>0.408542</td>\n",
              "      <td>-0.009431</td>\n",
              "      <td>0.798278</td>\n",
              "      <td>-0.137458</td>\n",
              "      <td>0.141267</td>\n",
              "      <td>-0.206010</td>\n",
              "      <td>0.502292</td>\n",
              "      <td>0.219422</td>\n",
              "      <td>0.215153</td>\n",
              "      <td>69.99</td>\n",
              "      <td>0</td>\n",
              "    </tr>\n",
              "  </tbody>\n",
              "</table>\n",
              "</div>"
            ],
            "text/plain": [
              "   Time        V1        V2        V3  ...       V27       V28  Amount  Class\n",
              "0   0.0 -1.359807 -0.072781  2.536347  ...  0.133558 -0.021053  149.62      0\n",
              "1   0.0  1.191857  0.266151  0.166480  ... -0.008983  0.014724    2.69      0\n",
              "2   1.0 -1.358354 -1.340163  1.773209  ... -0.055353 -0.059752  378.66      0\n",
              "3   1.0 -0.966272 -0.185226  1.792993  ...  0.062723  0.061458  123.50      0\n",
              "4   2.0 -1.158233  0.877737  1.548718  ...  0.219422  0.215153   69.99      0\n",
              "\n",
              "[5 rows x 31 columns]"
            ]
          },
          "metadata": {
            "tags": []
          },
          "execution_count": 55
        }
      ]
    },
    {
      "cell_type": "code",
      "metadata": {
        "id": "pmA22XBcPdUR"
      },
      "source": [
        "# Configuring Modules\n",
        "%matplotlib inline\n",
        "sns.set(style='whitegrid', palette='muted', font_scale = 1.5)\n",
        "rcParams['figure.figsize'] = 14, 8\n",
        "Random_Seed = 42\n",
        "labels = ['Valid', 'Fraud']"
      ],
      "execution_count": 57,
      "outputs": []
    },
    {
      "cell_type": "code",
      "metadata": {
        "id": "T2BAfWkwCUbx"
      },
      "source": [
        "# Renaming Columns\n",
        "df.rename(columns = {\"Class\": \"Fraud\"}, inplace = True)"
      ],
      "execution_count": 58,
      "outputs": []
    },
    {
      "cell_type": "code",
      "metadata": {
        "colab": {
          "base_uri": "https://localhost:8080/",
          "height": 221
        },
        "id": "oStDzFuTvyg2",
        "outputId": "01145eba-b64c-475e-b3d2-8a99655e5ba8"
      },
      "source": [
        " df.head()"
      ],
      "execution_count": 59,
      "outputs": [
        {
          "output_type": "execute_result",
          "data": {
            "text/html": [
              "<div>\n",
              "<style scoped>\n",
              "    .dataframe tbody tr th:only-of-type {\n",
              "        vertical-align: middle;\n",
              "    }\n",
              "\n",
              "    .dataframe tbody tr th {\n",
              "        vertical-align: top;\n",
              "    }\n",
              "\n",
              "    .dataframe thead th {\n",
              "        text-align: right;\n",
              "    }\n",
              "</style>\n",
              "<table border=\"1\" class=\"dataframe\">\n",
              "  <thead>\n",
              "    <tr style=\"text-align: right;\">\n",
              "      <th></th>\n",
              "      <th>Time</th>\n",
              "      <th>V1</th>\n",
              "      <th>V2</th>\n",
              "      <th>V3</th>\n",
              "      <th>V4</th>\n",
              "      <th>V5</th>\n",
              "      <th>V6</th>\n",
              "      <th>V7</th>\n",
              "      <th>V8</th>\n",
              "      <th>V9</th>\n",
              "      <th>V10</th>\n",
              "      <th>V11</th>\n",
              "      <th>V12</th>\n",
              "      <th>V13</th>\n",
              "      <th>V14</th>\n",
              "      <th>V15</th>\n",
              "      <th>V16</th>\n",
              "      <th>V17</th>\n",
              "      <th>V18</th>\n",
              "      <th>V19</th>\n",
              "      <th>V20</th>\n",
              "      <th>V21</th>\n",
              "      <th>V22</th>\n",
              "      <th>V23</th>\n",
              "      <th>V24</th>\n",
              "      <th>V25</th>\n",
              "      <th>V26</th>\n",
              "      <th>V27</th>\n",
              "      <th>V28</th>\n",
              "      <th>Amount</th>\n",
              "      <th>Fraud</th>\n",
              "    </tr>\n",
              "  </thead>\n",
              "  <tbody>\n",
              "    <tr>\n",
              "      <th>0</th>\n",
              "      <td>0.0</td>\n",
              "      <td>-1.359807</td>\n",
              "      <td>-0.072781</td>\n",
              "      <td>2.536347</td>\n",
              "      <td>1.378155</td>\n",
              "      <td>-0.338321</td>\n",
              "      <td>0.462388</td>\n",
              "      <td>0.239599</td>\n",
              "      <td>0.098698</td>\n",
              "      <td>0.363787</td>\n",
              "      <td>0.090794</td>\n",
              "      <td>-0.551600</td>\n",
              "      <td>-0.617801</td>\n",
              "      <td>-0.991390</td>\n",
              "      <td>-0.311169</td>\n",
              "      <td>1.468177</td>\n",
              "      <td>-0.470401</td>\n",
              "      <td>0.207971</td>\n",
              "      <td>0.025791</td>\n",
              "      <td>0.403993</td>\n",
              "      <td>0.251412</td>\n",
              "      <td>-0.018307</td>\n",
              "      <td>0.277838</td>\n",
              "      <td>-0.110474</td>\n",
              "      <td>0.066928</td>\n",
              "      <td>0.128539</td>\n",
              "      <td>-0.189115</td>\n",
              "      <td>0.133558</td>\n",
              "      <td>-0.021053</td>\n",
              "      <td>149.62</td>\n",
              "      <td>0</td>\n",
              "    </tr>\n",
              "    <tr>\n",
              "      <th>1</th>\n",
              "      <td>0.0</td>\n",
              "      <td>1.191857</td>\n",
              "      <td>0.266151</td>\n",
              "      <td>0.166480</td>\n",
              "      <td>0.448154</td>\n",
              "      <td>0.060018</td>\n",
              "      <td>-0.082361</td>\n",
              "      <td>-0.078803</td>\n",
              "      <td>0.085102</td>\n",
              "      <td>-0.255425</td>\n",
              "      <td>-0.166974</td>\n",
              "      <td>1.612727</td>\n",
              "      <td>1.065235</td>\n",
              "      <td>0.489095</td>\n",
              "      <td>-0.143772</td>\n",
              "      <td>0.635558</td>\n",
              "      <td>0.463917</td>\n",
              "      <td>-0.114805</td>\n",
              "      <td>-0.183361</td>\n",
              "      <td>-0.145783</td>\n",
              "      <td>-0.069083</td>\n",
              "      <td>-0.225775</td>\n",
              "      <td>-0.638672</td>\n",
              "      <td>0.101288</td>\n",
              "      <td>-0.339846</td>\n",
              "      <td>0.167170</td>\n",
              "      <td>0.125895</td>\n",
              "      <td>-0.008983</td>\n",
              "      <td>0.014724</td>\n",
              "      <td>2.69</td>\n",
              "      <td>0</td>\n",
              "    </tr>\n",
              "    <tr>\n",
              "      <th>2</th>\n",
              "      <td>1.0</td>\n",
              "      <td>-1.358354</td>\n",
              "      <td>-1.340163</td>\n",
              "      <td>1.773209</td>\n",
              "      <td>0.379780</td>\n",
              "      <td>-0.503198</td>\n",
              "      <td>1.800499</td>\n",
              "      <td>0.791461</td>\n",
              "      <td>0.247676</td>\n",
              "      <td>-1.514654</td>\n",
              "      <td>0.207643</td>\n",
              "      <td>0.624501</td>\n",
              "      <td>0.066084</td>\n",
              "      <td>0.717293</td>\n",
              "      <td>-0.165946</td>\n",
              "      <td>2.345865</td>\n",
              "      <td>-2.890083</td>\n",
              "      <td>1.109969</td>\n",
              "      <td>-0.121359</td>\n",
              "      <td>-2.261857</td>\n",
              "      <td>0.524980</td>\n",
              "      <td>0.247998</td>\n",
              "      <td>0.771679</td>\n",
              "      <td>0.909412</td>\n",
              "      <td>-0.689281</td>\n",
              "      <td>-0.327642</td>\n",
              "      <td>-0.139097</td>\n",
              "      <td>-0.055353</td>\n",
              "      <td>-0.059752</td>\n",
              "      <td>378.66</td>\n",
              "      <td>0</td>\n",
              "    </tr>\n",
              "    <tr>\n",
              "      <th>3</th>\n",
              "      <td>1.0</td>\n",
              "      <td>-0.966272</td>\n",
              "      <td>-0.185226</td>\n",
              "      <td>1.792993</td>\n",
              "      <td>-0.863291</td>\n",
              "      <td>-0.010309</td>\n",
              "      <td>1.247203</td>\n",
              "      <td>0.237609</td>\n",
              "      <td>0.377436</td>\n",
              "      <td>-1.387024</td>\n",
              "      <td>-0.054952</td>\n",
              "      <td>-0.226487</td>\n",
              "      <td>0.178228</td>\n",
              "      <td>0.507757</td>\n",
              "      <td>-0.287924</td>\n",
              "      <td>-0.631418</td>\n",
              "      <td>-1.059647</td>\n",
              "      <td>-0.684093</td>\n",
              "      <td>1.965775</td>\n",
              "      <td>-1.232622</td>\n",
              "      <td>-0.208038</td>\n",
              "      <td>-0.108300</td>\n",
              "      <td>0.005274</td>\n",
              "      <td>-0.190321</td>\n",
              "      <td>-1.175575</td>\n",
              "      <td>0.647376</td>\n",
              "      <td>-0.221929</td>\n",
              "      <td>0.062723</td>\n",
              "      <td>0.061458</td>\n",
              "      <td>123.50</td>\n",
              "      <td>0</td>\n",
              "    </tr>\n",
              "    <tr>\n",
              "      <th>4</th>\n",
              "      <td>2.0</td>\n",
              "      <td>-1.158233</td>\n",
              "      <td>0.877737</td>\n",
              "      <td>1.548718</td>\n",
              "      <td>0.403034</td>\n",
              "      <td>-0.407193</td>\n",
              "      <td>0.095921</td>\n",
              "      <td>0.592941</td>\n",
              "      <td>-0.270533</td>\n",
              "      <td>0.817739</td>\n",
              "      <td>0.753074</td>\n",
              "      <td>-0.822843</td>\n",
              "      <td>0.538196</td>\n",
              "      <td>1.345852</td>\n",
              "      <td>-1.119670</td>\n",
              "      <td>0.175121</td>\n",
              "      <td>-0.451449</td>\n",
              "      <td>-0.237033</td>\n",
              "      <td>-0.038195</td>\n",
              "      <td>0.803487</td>\n",
              "      <td>0.408542</td>\n",
              "      <td>-0.009431</td>\n",
              "      <td>0.798278</td>\n",
              "      <td>-0.137458</td>\n",
              "      <td>0.141267</td>\n",
              "      <td>-0.206010</td>\n",
              "      <td>0.502292</td>\n",
              "      <td>0.219422</td>\n",
              "      <td>0.215153</td>\n",
              "      <td>69.99</td>\n",
              "      <td>0</td>\n",
              "    </tr>\n",
              "  </tbody>\n",
              "</table>\n",
              "</div>"
            ],
            "text/plain": [
              "   Time        V1        V2        V3  ...       V27       V28  Amount  Fraud\n",
              "0   0.0 -1.359807 -0.072781  2.536347  ...  0.133558 -0.021053  149.62      0\n",
              "1   0.0  1.191857  0.266151  0.166480  ... -0.008983  0.014724    2.69      0\n",
              "2   1.0 -1.358354 -1.340163  1.773209  ... -0.055353 -0.059752  378.66      0\n",
              "3   1.0 -0.966272 -0.185226  1.792993  ...  0.062723  0.061458  123.50      0\n",
              "4   2.0 -1.158233  0.877737  1.548718  ...  0.219422  0.215153   69.99      0\n",
              "\n",
              "[5 rows x 31 columns]"
            ]
          },
          "metadata": {
            "tags": []
          },
          "execution_count": 59
        }
      ]
    },
    {
      "cell_type": "code",
      "metadata": {
        "colab": {
          "base_uri": "https://localhost:8080/"
        },
        "id": "cJMf1iEbQKdQ",
        "outputId": "f816244c-af4c-45b0-c58a-f9af07f3127c"
      },
      "source": [
        "df.shape"
      ],
      "execution_count": 60,
      "outputs": [
        {
          "output_type": "execute_result",
          "data": {
            "text/plain": [
              "(284807, 31)"
            ]
          },
          "metadata": {
            "tags": []
          },
          "execution_count": 60
        }
      ]
    },
    {
      "cell_type": "code",
      "metadata": {
        "colab": {
          "base_uri": "https://localhost:8080/"
        },
        "id": "IMCRpYlHQOLj",
        "outputId": "f12ff4cf-dffb-45ba-b799-d55f6c6de656"
      },
      "source": [
        "# Checking Data For Null Values\n",
        "df.isnull().sum()"
      ],
      "execution_count": 61,
      "outputs": [
        {
          "output_type": "execute_result",
          "data": {
            "text/plain": [
              "Time      0\n",
              "V1        0\n",
              "V2        0\n",
              "V3        0\n",
              "V4        0\n",
              "V5        0\n",
              "V6        0\n",
              "V7        0\n",
              "V8        0\n",
              "V9        0\n",
              "V10       0\n",
              "V11       0\n",
              "V12       0\n",
              "V13       0\n",
              "V14       0\n",
              "V15       0\n",
              "V16       0\n",
              "V17       0\n",
              "V18       0\n",
              "V19       0\n",
              "V20       0\n",
              "V21       0\n",
              "V22       0\n",
              "V23       0\n",
              "V24       0\n",
              "V25       0\n",
              "V26       0\n",
              "V27       0\n",
              "V28       0\n",
              "Amount    0\n",
              "Fraud     0\n",
              "dtype: int64"
            ]
          },
          "metadata": {
            "tags": []
          },
          "execution_count": 61
        }
      ]
    },
    {
      "cell_type": "markdown",
      "metadata": {
        "id": "k67LLHi_QV9c"
      },
      "source": [
        "OUR DATA CONTAINS NO NULL VALUES"
      ]
    },
    {
      "cell_type": "code",
      "metadata": {
        "colab": {
          "base_uri": "https://localhost:8080/",
          "height": 665
        },
        "id": "V5-ThNAmm3a9",
        "outputId": "b67db5d7-d013-4bd6-c3f0-91457667bae4"
      },
      "source": [
        "# Checking Correlations\n",
        "corr = df.corr()\n",
        "\n",
        "# generate a mask for the upper triangle\n",
        "mask = np.zeros_like(corr, dtype=np.bool)\n",
        "mask[np.triu_indices_from(mask)] = True\n",
        "\n",
        "# figure size\n",
        "f, ax = plt.subplots(figsize=(20, 10))\n",
        "\n",
        "# generate a custom diverging colormap\n",
        "cmap = sns.diverging_palette(220, 10, as_cmap=True)\n",
        "\n",
        "# draw the heatmap with the mask and correct aspect ratio\n",
        "sns.heatmap(corr, mask=mask, cmap='CMRmap_r', vmax=.3, center=0, square=True,\n",
        "            linewidths=.5, cbar_kws={\"shrink\": .5})"
      ],
      "execution_count": 62,
      "outputs": [
        {
          "output_type": "execute_result",
          "data": {
            "text/plain": [
              "<matplotlib.axes._subplots.AxesSubplot at 0x7f9d234c9c10>"
            ]
          },
          "metadata": {
            "tags": []
          },
          "execution_count": 62
        },
        {
          "output_type": "display_data",
          "data": {
            "image/png": "[encoded data removed]",
            "text/plain": [
              "<Figure size 1440x720 with 2 Axes>"
            ]
          },
          "metadata": {
            "tags": []
          }
        }
      ]
    },
    {
      "cell_type": "code",
      "metadata": {
        "colab": {
          "base_uri": "https://localhost:8080/",
          "height": 535
        },
        "id": "wlr7dud2QZpA",
        "outputId": "30144d5f-61e1-4704-d1c7-4d772094f1d8"
      },
      "source": [
        "# Visualizing The Data\n",
        "count_classes = pd.value_counts(df['Fraud'], sort = True)\n",
        "count_classes.plot(kind = 'bar', rot=0)\n",
        "plt.title(\"Transaction class distribution\")\n",
        "plt.xticks(range(2), labels)\n",
        "plt.xlabel(\"Fraud\")\n",
        "plt.ylabel(\"Frequency\");"
      ],
      "execution_count": 63,
      "outputs": [
        {
          "output_type": "display_data",
          "data": {
            "image/png": "[encoded data removed]",
            "text/plain": [
              "<Figure size 1008x576 with 1 Axes>"
            ]
          },
          "metadata": {
            "tags": []
          }
        }
      ]
    },
    {
      "cell_type": "code",
      "metadata": {
        "id": "geMt_1EKCUby"
      },
      "source": [
        "# Renaming The Columns\n",
        "Frauds = df[df.Fraud == 1]\n",
        "Valid = df[df.Fraud == 0]"
      ],
      "execution_count": 64,
      "outputs": []
    },
    {
      "cell_type": "code",
      "metadata": {
        "id": "W0miNNIfCUbz",
        "colab": {
          "base_uri": "https://localhost:8080/"
        },
        "outputId": "4714a839-f13d-4083-bddd-751f5e9c01d1"
      },
      "source": [
        "print(Frauds.shape)\n",
        "print(Valid.shape)"
      ],
      "execution_count": 65,
      "outputs": [
        {
          "output_type": "stream",
          "text": [
            "(492, 31)\n",
            "(284315, 31)\n"
          ],
          "name": "stdout"
        }
      ]
    },
    {
      "cell_type": "code",
      "metadata": {
        "colab": {
          "base_uri": "https://localhost:8080/"
        },
        "id": "0IDKN_a0g6Jj",
        "outputId": "83b3f274-cbd5-42e6-d248-307b02a628fb"
      },
      "source": [
        "len(df)"
      ],
      "execution_count": 94,
      "outputs": [
        {
          "output_type": "execute_result",
          "data": {
            "text/plain": [
              "284807"
            ]
          },
          "metadata": {
            "tags": []
          },
          "execution_count": 94
        }
      ]
    },
    {
      "cell_type": "markdown",
      "metadata": {
        "id": "9RfRDFtZhUV8"
      },
      "source": [
        "There are total 284807 number of transactions"
      ]
    },
    {
      "cell_type": "code",
      "metadata": {
        "colab": {
          "base_uri": "https://localhost:8080/"
        },
        "id": "2Fh_MWithc6K",
        "outputId": "1d514c15-5d80-41de-fd0d-5dd75effdb6d"
      },
      "source": [
        "len(Frauds)"
      ],
      "execution_count": 97,
      "outputs": [
        {
          "output_type": "execute_result",
          "data": {
            "text/plain": [
              "492"
            ]
          },
          "metadata": {
            "tags": []
          },
          "execution_count": 97
        }
      ]
    },
    {
      "cell_type": "markdown",
      "metadata": {
        "id": "J9xnV2V6iWgN"
      },
      "source": [
        "Out of 284807 transactions 492 are the fraud transactions"
      ]
    },
    {
      "cell_type": "code",
      "metadata": {
        "colab": {
          "base_uri": "https://localhost:8080/"
        },
        "id": "6A1Myx-liYLZ",
        "outputId": "b028f836-025f-44b7-d428-4f80c8ccadbf"
      },
      "source": [
        "valid = len(df) - len(Frauds)\n",
        "valid"
      ],
      "execution_count": 98,
      "outputs": [
        {
          "output_type": "execute_result",
          "data": {
            "text/plain": [
              "284315"
            ]
          },
          "metadata": {
            "tags": []
          },
          "execution_count": 98
        }
      ]
    },
    {
      "cell_type": "markdown",
      "metadata": {
        "id": "bNjRC8ugiz30"
      },
      "source": [
        "Out of 284807 transactions 284315 are the valid transactions"
      ]
    },
    {
      "cell_type": "code",
      "metadata": {
        "colab": {
          "base_uri": "https://localhost:8080/"
        },
        "id": "5lgYeuh3i4pt",
        "outputId": "04d3217a-6209-4f65-b86d-c35f01ce23ea"
      },
      "source": [
        "perc_fraud = len(Frauds) / len(df) * 100\n",
        "perc_fraud"
      ],
      "execution_count": 100,
      "outputs": [
        {
          "output_type": "execute_result",
          "data": {
            "text/plain": [
              "0.1727485630620034"
            ]
          },
          "metadata": {
            "tags": []
          },
          "execution_count": 100
        }
      ]
    },
    {
      "cell_type": "markdown",
      "metadata": {
        "id": "pcPJ5MsMjXhl"
      },
      "source": [
        "As you can see out of total transactions only 0.17 % are the fraud transactions.It means that we have highly imbalance dataset in our hand. There is a large margin between the valid transactions and fraud transactions."
      ]
    },
    {
      "cell_type": "code",
      "metadata": {
        "id": "4dVTVTCFCUbz",
        "colab": {
          "base_uri": "https://localhost:8080/"
        },
        "outputId": "4c23c116-711b-4f58-95ea-452ff4f29140"
      },
      "source": [
        "# Checking Important Stats of Amount used in Fraud Transactions\n",
        "Frauds.Amount.describe()"
      ],
      "execution_count": 66,
      "outputs": [
        {
          "output_type": "execute_result",
          "data": {
            "text/plain": [
              "count     492.000000\n",
              "mean      122.211321\n",
              "std       256.683288\n",
              "min         0.000000\n",
              "25%         1.000000\n",
              "50%         9.250000\n",
              "75%       105.890000\n",
              "max      2125.870000\n",
              "Name: Amount, dtype: float64"
            ]
          },
          "metadata": {
            "tags": []
          },
          "execution_count": 66
        }
      ]
    },
    {
      "cell_type": "code",
      "metadata": {
        "id": "WM4n9N33CUbz",
        "colab": {
          "base_uri": "https://localhost:8080/"
        },
        "outputId": "12a0d50d-b13e-46e4-d838-cff070094779"
      },
      "source": [
        "# Checking Imprtant Stats of Amount used in Valid Transactions\n",
        "Valid.Amount.describe()"
      ],
      "execution_count": 67,
      "outputs": [
        {
          "output_type": "execute_result",
          "data": {
            "text/plain": [
              "count    284315.000000\n",
              "mean         88.291022\n",
              "std         250.105092\n",
              "min           0.000000\n",
              "25%           5.650000\n",
              "50%          22.000000\n",
              "75%          77.050000\n",
              "max       25691.160000\n",
              "Name: Amount, dtype: float64"
            ]
          },
          "metadata": {
            "tags": []
          },
          "execution_count": 67
        }
      ]
    },
    {
      "cell_type": "code",
      "metadata": {
        "id": "Q6NhhhQtCUbz",
        "colab": {
          "base_uri": "https://localhost:8080/",
          "height": 573
        },
        "outputId": "87ada88c-2959-4bbb-80af-c77452edaf92"
      },
      "source": [
        "# Amount per transaction by class\n",
        "f, (ax1, ax2) = plt.subplots(2, 1, sharex=True)\n",
        "f.suptitle('Amount Per Transaction')\n",
        "\n",
        "bins = 50\n",
        "\n",
        "ax1.hist(Frauds.Amount, bins = bins, color='blue')\n",
        "ax1.set_title('Fraud Transactions')\n",
        "\n",
        "ax2.hist(Valid.Amount, bins = bins, color='red', alpha = 0.5)\n",
        "ax2.set_title('Valid Transactions')\n",
        "\n",
        "plt.xlabel('Amount ($)')\n",
        "plt.ylabel('Number of Transactions')\n",
        "plt.xlim((0, 20000))\n",
        "plt.yscale('log')\n",
        "plt.show();"
      ],
      "execution_count": 68,
      "outputs": [
        {
          "output_type": "display_data",
          "data": {
            "image/png": "[encoded data removed]",
            "text/plain": [
              "<Figure size 1008x576 with 2 Axes>"
            ]
          },
          "metadata": {
            "tags": []
          }
        }
      ]
    },
    {
      "cell_type": "code",
      "metadata": {
        "id": "bZ2VVGtxCUbz",
        "colab": {
          "base_uri": "https://localhost:8080/",
          "height": 573
        },
        "outputId": "0f40caa1-7471-4210-c4f1-9d025e8b3503"
      },
      "source": [
        "# Time of transaction vs Amount by class\n",
        "f, (ax1, ax2) = plt.subplots(2, 1, sharex=True)\n",
        "f.suptitle('Time of Transaction VS Amount')\n",
        "\n",
        "ax1.scatter(Frauds.Time, Frauds.Amount)\n",
        "ax1.set_title('Fraud Transactions')\n",
        "\n",
        "ax2.scatter(Valid.Time,Valid.Amount)\n",
        "ax2.set_title('Valid Transactions')\n",
        "\n",
        "plt.xlabel('Time (in Seconds)')\n",
        "plt.ylabel('Amount')\n",
        "plt.show()"
      ],
      "execution_count": 69,
      "outputs": [
        {
          "output_type": "display_data",
          "data": {
            "image/png": "[encoded data removed]",
            "text/plain": [
              "<Figure size 1008x576 with 2 Axes>"
            ]
          },
          "metadata": {
            "tags": []
          }
        }
      ]
    },
    {
      "cell_type": "code",
      "metadata": {
        "colab": {
          "base_uri": "https://localhost:8080/"
        },
        "id": "uqyOBqKIoEsA",
        "outputId": "8ccf271f-d466-4ea5-a1af-6499361fb026"
      },
      "source": [
        "# Splitting The Dataset Into Testing And Training Dataset\n",
        "df.shape"
      ],
      "execution_count": 70,
      "outputs": [
        {
          "output_type": "execute_result",
          "data": {
            "text/plain": [
              "(284807, 31)"
            ]
          },
          "metadata": {
            "tags": []
          },
          "execution_count": 70
        }
      ]
    },
    {
      "cell_type": "code",
      "metadata": {
        "colab": {
          "base_uri": "https://localhost:8080/"
        },
        "id": "D-pi_aIR4y68",
        "outputId": "929302ab-a25c-4ccf-c24d-fb8c314b3122"
      },
      "source": [
        "# Training Data\n",
        "train_data = df.iloc[:199365,:]\n",
        "train_data.shape"
      ],
      "execution_count": 71,
      "outputs": [
        {
          "output_type": "execute_result",
          "data": {
            "text/plain": [
              "(199365, 31)"
            ]
          },
          "metadata": {
            "tags": []
          },
          "execution_count": 71
        }
      ]
    },
    {
      "cell_type": "code",
      "metadata": {
        "colab": {
          "base_uri": "https://localhost:8080/"
        },
        "id": "Gfl-fR5z5Ead",
        "outputId": "14ac0a66-62df-4a7a-bce1-de5ccae66852"
      },
      "source": [
        "# Testing Data\n",
        "test_data = df.iloc[199365:,:]\n",
        "test_data.shape"
      ],
      "execution_count": 72,
      "outputs": [
        {
          "output_type": "execute_result",
          "data": {
            "text/plain": [
              "(85442, 31)"
            ]
          },
          "metadata": {
            "tags": []
          },
          "execution_count": 72
        }
      ]
    },
    {
      "cell_type": "code",
      "metadata": {
        "colab": {
          "base_uri": "https://localhost:8080/",
          "height": 221
        },
        "id": "5u2O87f_5PRu",
        "outputId": "f66bdf67-0a76-4a25-c8af-9e27badd2ad4"
      },
      "source": [
        "train_data.head()"
      ],
      "execution_count": 73,
      "outputs": [
        {
          "output_type": "execute_result",
          "data": {
            "text/html": [
              "<div>\n",
              "<style scoped>\n",
              "    .dataframe tbody tr th:only-of-type {\n",
              "        vertical-align: middle;\n",
              "    }\n",
              "\n",
              "    .dataframe tbody tr th {\n",
              "        vertical-align: top;\n",
              "    }\n",
              "\n",
              "    .dataframe thead th {\n",
              "        text-align: right;\n",
              "    }\n",
              "</style>\n",
              "<table border=\"1\" class=\"dataframe\">\n",
              "  <thead>\n",
              "    <tr style=\"text-align: right;\">\n",
              "      <th></th>\n",
              "      <th>Time</th>\n",
              "      <th>V1</th>\n",
              "      <th>V2</th>\n",
              "      <th>V3</th>\n",
              "      <th>V4</th>\n",
              "      <th>V5</th>\n",
              "      <th>V6</th>\n",
              "      <th>V7</th>\n",
              "      <th>V8</th>\n",
              "      <th>V9</th>\n",
              "      <th>V10</th>\n",
              "      <th>V11</th>\n",
              "      <th>V12</th>\n",
              "      <th>V13</th>\n",
              "      <th>V14</th>\n",
              "      <th>V15</th>\n",
              "      <th>V16</th>\n",
              "      <th>V17</th>\n",
              "      <th>V18</th>\n",
              "      <th>V19</th>\n",
              "      <th>V20</th>\n",
              "      <th>V21</th>\n",
              "      <th>V22</th>\n",
              "      <th>V23</th>\n",
              "      <th>V24</th>\n",
              "      <th>V25</th>\n",
              "      <th>V26</th>\n",
              "      <th>V27</th>\n",
              "      <th>V28</th>\n",
              "      <th>Amount</th>\n",
              "      <th>Fraud</th>\n",
              "    </tr>\n",
              "  </thead>\n",
              "  <tbody>\n",
              "    <tr>\n",
              "      <th>0</th>\n",
              "      <td>0.0</td>\n",
              "      <td>-1.359807</td>\n",
              "      <td>-0.072781</td>\n",
              "      <td>2.536347</td>\n",
              "      <td>1.378155</td>\n",
              "      <td>-0.338321</td>\n",
              "      <td>0.462388</td>\n",
              "      <td>0.239599</td>\n",
              "      <td>0.098698</td>\n",
              "      <td>0.363787</td>\n",
              "      <td>0.090794</td>\n",
              "      <td>-0.551600</td>\n",
              "      <td>-0.617801</td>\n",
              "      <td>-0.991390</td>\n",
              "      <td>-0.311169</td>\n",
              "      <td>1.468177</td>\n",
              "      <td>-0.470401</td>\n",
              "      <td>0.207971</td>\n",
              "      <td>0.025791</td>\n",
              "      <td>0.403993</td>\n",
              "      <td>0.251412</td>\n",
              "      <td>-0.018307</td>\n",
              "      <td>0.277838</td>\n",
              "      <td>-0.110474</td>\n",
              "      <td>0.066928</td>\n",
              "      <td>0.128539</td>\n",
              "      <td>-0.189115</td>\n",
              "      <td>0.133558</td>\n",
              "      <td>-0.021053</td>\n",
              "      <td>149.62</td>\n",
              "      <td>0</td>\n",
              "    </tr>\n",
              "    <tr>\n",
              "      <th>1</th>\n",
              "      <td>0.0</td>\n",
              "      <td>1.191857</td>\n",
              "      <td>0.266151</td>\n",
              "      <td>0.166480</td>\n",
              "      <td>0.448154</td>\n",
              "      <td>0.060018</td>\n",
              "      <td>-0.082361</td>\n",
              "      <td>-0.078803</td>\n",
              "      <td>0.085102</td>\n",
              "      <td>-0.255425</td>\n",
              "      <td>-0.166974</td>\n",
              "      <td>1.612727</td>\n",
              "      <td>1.065235</td>\n",
              "      <td>0.489095</td>\n",
              "      <td>-0.143772</td>\n",
              "      <td>0.635558</td>\n",
              "      <td>0.463917</td>\n",
              "      <td>-0.114805</td>\n",
              "      <td>-0.183361</td>\n",
              "      <td>-0.145783</td>\n",
              "      <td>-0.069083</td>\n",
              "      <td>-0.225775</td>\n",
              "      <td>-0.638672</td>\n",
              "      <td>0.101288</td>\n",
              "      <td>-0.339846</td>\n",
              "      <td>0.167170</td>\n",
              "      <td>0.125895</td>\n",
              "      <td>-0.008983</td>\n",
              "      <td>0.014724</td>\n",
              "      <td>2.69</td>\n",
              "      <td>0</td>\n",
              "    </tr>\n",
              "    <tr>\n",
              "      <th>2</th>\n",
              "      <td>1.0</td>\n",
              "      <td>-1.358354</td>\n",
              "      <td>-1.340163</td>\n",
              "      <td>1.773209</td>\n",
              "      <td>0.379780</td>\n",
              "      <td>-0.503198</td>\n",
              "      <td>1.800499</td>\n",
              "      <td>0.791461</td>\n",
              "      <td>0.247676</td>\n",
              "      <td>-1.514654</td>\n",
              "      <td>0.207643</td>\n",
              "      <td>0.624501</td>\n",
              "      <td>0.066084</td>\n",
              "      <td>0.717293</td>\n",
              "      <td>-0.165946</td>\n",
              "      <td>2.345865</td>\n",
              "      <td>-2.890083</td>\n",
              "      <td>1.109969</td>\n",
              "      <td>-0.121359</td>\n",
              "      <td>-2.261857</td>\n",
              "      <td>0.524980</td>\n",
              "      <td>0.247998</td>\n",
              "      <td>0.771679</td>\n",
              "      <td>0.909412</td>\n",
              "      <td>-0.689281</td>\n",
              "      <td>-0.327642</td>\n",
              "      <td>-0.139097</td>\n",
              "      <td>-0.055353</td>\n",
              "      <td>-0.059752</td>\n",
              "      <td>378.66</td>\n",
              "      <td>0</td>\n",
              "    </tr>\n",
              "    <tr>\n",
              "      <th>3</th>\n",
              "      <td>1.0</td>\n",
              "      <td>-0.966272</td>\n",
              "      <td>-0.185226</td>\n",
              "      <td>1.792993</td>\n",
              "      <td>-0.863291</td>\n",
              "      <td>-0.010309</td>\n",
              "      <td>1.247203</td>\n",
              "      <td>0.237609</td>\n",
              "      <td>0.377436</td>\n",
              "      <td>-1.387024</td>\n",
              "      <td>-0.054952</td>\n",
              "      <td>-0.226487</td>\n",
              "      <td>0.178228</td>\n",
              "      <td>0.507757</td>\n",
              "      <td>-0.287924</td>\n",
              "      <td>-0.631418</td>\n",
              "      <td>-1.059647</td>\n",
              "      <td>-0.684093</td>\n",
              "      <td>1.965775</td>\n",
              "      <td>-1.232622</td>\n",
              "      <td>-0.208038</td>\n",
              "      <td>-0.108300</td>\n",
              "      <td>0.005274</td>\n",
              "      <td>-0.190321</td>\n",
              "      <td>-1.175575</td>\n",
              "      <td>0.647376</td>\n",
              "      <td>-0.221929</td>\n",
              "      <td>0.062723</td>\n",
              "      <td>0.061458</td>\n",
              "      <td>123.50</td>\n",
              "      <td>0</td>\n",
              "    </tr>\n",
              "    <tr>\n",
              "      <th>4</th>\n",
              "      <td>2.0</td>\n",
              "      <td>-1.158233</td>\n",
              "      <td>0.877737</td>\n",
              "      <td>1.548718</td>\n",
              "      <td>0.403034</td>\n",
              "      <td>-0.407193</td>\n",
              "      <td>0.095921</td>\n",
              "      <td>0.592941</td>\n",
              "      <td>-0.270533</td>\n",
              "      <td>0.817739</td>\n",
              "      <td>0.753074</td>\n",
              "      <td>-0.822843</td>\n",
              "      <td>0.538196</td>\n",
              "      <td>1.345852</td>\n",
              "      <td>-1.119670</td>\n",
              "      <td>0.175121</td>\n",
              "      <td>-0.451449</td>\n",
              "      <td>-0.237033</td>\n",
              "      <td>-0.038195</td>\n",
              "      <td>0.803487</td>\n",
              "      <td>0.408542</td>\n",
              "      <td>-0.009431</td>\n",
              "      <td>0.798278</td>\n",
              "      <td>-0.137458</td>\n",
              "      <td>0.141267</td>\n",
              "      <td>-0.206010</td>\n",
              "      <td>0.502292</td>\n",
              "      <td>0.219422</td>\n",
              "      <td>0.215153</td>\n",
              "      <td>69.99</td>\n",
              "      <td>0</td>\n",
              "    </tr>\n",
              "  </tbody>\n",
              "</table>\n",
              "</div>"
            ],
            "text/plain": [
              "   Time        V1        V2        V3  ...       V27       V28  Amount  Fraud\n",
              "0   0.0 -1.359807 -0.072781  2.536347  ...  0.133558 -0.021053  149.62      0\n",
              "1   0.0  1.191857  0.266151  0.166480  ... -0.008983  0.014724    2.69      0\n",
              "2   1.0 -1.358354 -1.340163  1.773209  ... -0.055353 -0.059752  378.66      0\n",
              "3   1.0 -0.966272 -0.185226  1.792993  ...  0.062723  0.061458  123.50      0\n",
              "4   2.0 -1.158233  0.877737  1.548718  ...  0.219422  0.215153   69.99      0\n",
              "\n",
              "[5 rows x 31 columns]"
            ]
          },
          "metadata": {
            "tags": []
          },
          "execution_count": 73
        }
      ]
    },
    {
      "cell_type": "code",
      "metadata": {
        "colab": {
          "base_uri": "https://localhost:8080/",
          "height": 221
        },
        "id": "wZc3H2A15UMX",
        "outputId": "4347b79f-dafa-452f-c7ec-ba9278546a90"
      },
      "source": [
        "test_data.head()"
      ],
      "execution_count": 74,
      "outputs": [
        {
          "output_type": "execute_result",
          "data": {
            "text/html": [
              "<div>\n",
              "<style scoped>\n",
              "    .dataframe tbody tr th:only-of-type {\n",
              "        vertical-align: middle;\n",
              "    }\n",
              "\n",
              "    .dataframe tbody tr th {\n",
              "        vertical-align: top;\n",
              "    }\n",
              "\n",
              "    .dataframe thead th {\n",
              "        text-align: right;\n",
              "    }\n",
              "</style>\n",
              "<table border=\"1\" class=\"dataframe\">\n",
              "  <thead>\n",
              "    <tr style=\"text-align: right;\">\n",
              "      <th></th>\n",
              "      <th>Time</th>\n",
              "      <th>V1</th>\n",
              "      <th>V2</th>\n",
              "      <th>V3</th>\n",
              "      <th>V4</th>\n",
              "      <th>V5</th>\n",
              "      <th>V6</th>\n",
              "      <th>V7</th>\n",
              "      <th>V8</th>\n",
              "      <th>V9</th>\n",
              "      <th>V10</th>\n",
              "      <th>V11</th>\n",
              "      <th>V12</th>\n",
              "      <th>V13</th>\n",
              "      <th>V14</th>\n",
              "      <th>V15</th>\n",
              "      <th>V16</th>\n",
              "      <th>V17</th>\n",
              "      <th>V18</th>\n",
              "      <th>V19</th>\n",
              "      <th>V20</th>\n",
              "      <th>V21</th>\n",
              "      <th>V22</th>\n",
              "      <th>V23</th>\n",
              "      <th>V24</th>\n",
              "      <th>V25</th>\n",
              "      <th>V26</th>\n",
              "      <th>V27</th>\n",
              "      <th>V28</th>\n",
              "      <th>Amount</th>\n",
              "      <th>Fraud</th>\n",
              "    </tr>\n",
              "  </thead>\n",
              "  <tbody>\n",
              "    <tr>\n",
              "      <th>199365</th>\n",
              "      <td>132929.0</td>\n",
              "      <td>2.152590</td>\n",
              "      <td>-0.900447</td>\n",
              "      <td>-1.092456</td>\n",
              "      <td>-0.994969</td>\n",
              "      <td>-0.613447</td>\n",
              "      <td>-0.760012</td>\n",
              "      <td>-0.530218</td>\n",
              "      <td>-0.222248</td>\n",
              "      <td>-0.214416</td>\n",
              "      <td>0.746967</td>\n",
              "      <td>-1.256213</td>\n",
              "      <td>-0.762171</td>\n",
              "      <td>0.086847</td>\n",
              "      <td>-0.133543</td>\n",
              "      <td>0.365813</td>\n",
              "      <td>1.400839</td>\n",
              "      <td>-0.115840</td>\n",
              "      <td>-1.594770</td>\n",
              "      <td>1.026636</td>\n",
              "      <td>0.060715</td>\n",
              "      <td>-0.281725</td>\n",
              "      <td>-0.987236</td>\n",
              "      <td>0.358646</td>\n",
              "      <td>-0.782338</td>\n",
              "      <td>-0.480245</td>\n",
              "      <td>-0.647930</td>\n",
              "      <td>-0.023563</td>\n",
              "      <td>-0.044354</td>\n",
              "      <td>55.95</td>\n",
              "      <td>0</td>\n",
              "    </tr>\n",
              "    <tr>\n",
              "      <th>199366</th>\n",
              "      <td>132929.0</td>\n",
              "      <td>1.811278</td>\n",
              "      <td>0.224393</td>\n",
              "      <td>0.542888</td>\n",
              "      <td>3.606222</td>\n",
              "      <td>-0.162910</td>\n",
              "      <td>1.171241</td>\n",
              "      <td>-0.874598</td>\n",
              "      <td>0.419449</td>\n",
              "      <td>-0.546470</td>\n",
              "      <td>1.493825</td>\n",
              "      <td>0.583293</td>\n",
              "      <td>0.884700</td>\n",
              "      <td>0.831223</td>\n",
              "      <td>-0.293394</td>\n",
              "      <td>-0.870717</td>\n",
              "      <td>1.653737</td>\n",
              "      <td>-1.335181</td>\n",
              "      <td>0.431294</td>\n",
              "      <td>-1.605950</td>\n",
              "      <td>-0.198616</td>\n",
              "      <td>0.109290</td>\n",
              "      <td>0.345703</td>\n",
              "      <td>0.365984</td>\n",
              "      <td>0.663253</td>\n",
              "      <td>-0.531272</td>\n",
              "      <td>-0.225013</td>\n",
              "      <td>0.032563</td>\n",
              "      <td>-0.022693</td>\n",
              "      <td>0.79</td>\n",
              "      <td>0</td>\n",
              "    </tr>\n",
              "    <tr>\n",
              "      <th>199367</th>\n",
              "      <td>132929.0</td>\n",
              "      <td>-1.524832</td>\n",
              "      <td>-0.544095</td>\n",
              "      <td>-0.288824</td>\n",
              "      <td>-0.916791</td>\n",
              "      <td>3.524219</td>\n",
              "      <td>-1.830070</td>\n",
              "      <td>1.375925</td>\n",
              "      <td>-0.814647</td>\n",
              "      <td>-0.648070</td>\n",
              "      <td>-0.072189</td>\n",
              "      <td>1.020453</td>\n",
              "      <td>0.808519</td>\n",
              "      <td>0.179530</td>\n",
              "      <td>0.403686</td>\n",
              "      <td>-1.355320</td>\n",
              "      <td>-0.890292</td>\n",
              "      <td>-0.823874</td>\n",
              "      <td>-0.161798</td>\n",
              "      <td>-0.240885</td>\n",
              "      <td>-0.209666</td>\n",
              "      <td>0.272832</td>\n",
              "      <td>1.245119</td>\n",
              "      <td>-0.867245</td>\n",
              "      <td>0.838885</td>\n",
              "      <td>0.860487</td>\n",
              "      <td>-0.081074</td>\n",
              "      <td>-0.252743</td>\n",
              "      <td>-0.377957</td>\n",
              "      <td>30.90</td>\n",
              "      <td>0</td>\n",
              "    </tr>\n",
              "    <tr>\n",
              "      <th>199368</th>\n",
              "      <td>132930.0</td>\n",
              "      <td>0.099135</td>\n",
              "      <td>0.873164</td>\n",
              "      <td>-0.362487</td>\n",
              "      <td>-0.612234</td>\n",
              "      <td>0.747229</td>\n",
              "      <td>-0.629384</td>\n",
              "      <td>0.755890</td>\n",
              "      <td>0.126794</td>\n",
              "      <td>-0.051667</td>\n",
              "      <td>-0.613531</td>\n",
              "      <td>0.826612</td>\n",
              "      <td>-0.315592</td>\n",
              "      <td>-1.848798</td>\n",
              "      <td>-0.465431</td>\n",
              "      <td>-0.757847</td>\n",
              "      <td>0.571839</td>\n",
              "      <td>0.262660</td>\n",
              "      <td>0.450587</td>\n",
              "      <td>0.023705</td>\n",
              "      <td>-0.090654</td>\n",
              "      <td>-0.302759</td>\n",
              "      <td>-0.840999</td>\n",
              "      <td>0.115856</td>\n",
              "      <td>0.613080</td>\n",
              "      <td>-0.528392</td>\n",
              "      <td>0.092546</td>\n",
              "      <td>0.207960</td>\n",
              "      <td>0.071553</td>\n",
              "      <td>1.78</td>\n",
              "      <td>0</td>\n",
              "    </tr>\n",
              "    <tr>\n",
              "      <th>199369</th>\n",
              "      <td>132930.0</td>\n",
              "      <td>2.005556</td>\n",
              "      <td>-0.146704</td>\n",
              "      <td>-1.019430</td>\n",
              "      <td>0.330239</td>\n",
              "      <td>-0.180449</td>\n",
              "      <td>-0.953319</td>\n",
              "      <td>0.053860</td>\n",
              "      <td>-0.165823</td>\n",
              "      <td>0.352282</td>\n",
              "      <td>0.255342</td>\n",
              "      <td>0.953976</td>\n",
              "      <td>0.886864</td>\n",
              "      <td>-0.546470</td>\n",
              "      <td>0.579937</td>\n",
              "      <td>-0.610841</td>\n",
              "      <td>0.088436</td>\n",
              "      <td>-0.475671</td>\n",
              "      <td>-0.341351</td>\n",
              "      <td>0.402815</td>\n",
              "      <td>-0.241755</td>\n",
              "      <td>-0.235137</td>\n",
              "      <td>-0.613122</td>\n",
              "      <td>0.342269</td>\n",
              "      <td>0.063677</td>\n",
              "      <td>-0.359509</td>\n",
              "      <td>0.174021</td>\n",
              "      <td>-0.078440</td>\n",
              "      <td>-0.069642</td>\n",
              "      <td>5.37</td>\n",
              "      <td>0</td>\n",
              "    </tr>\n",
              "  </tbody>\n",
              "</table>\n",
              "</div>"
            ],
            "text/plain": [
              "            Time        V1        V2  ...       V28  Amount  Fraud\n",
              "199365  132929.0  2.152590 -0.900447  ... -0.044354   55.95      0\n",
              "199366  132929.0  1.811278  0.224393  ... -0.022693    0.79      0\n",
              "199367  132929.0 -1.524832 -0.544095  ... -0.377957   30.90      0\n",
              "199368  132930.0  0.099135  0.873164  ...  0.071553    1.78      0\n",
              "199369  132930.0  2.005556 -0.146704  ... -0.069642    5.37      0\n",
              "\n",
              "[5 rows x 31 columns]"
            ]
          },
          "metadata": {
            "tags": []
          },
          "execution_count": 74
        }
      ]
    },
    {
      "cell_type": "code",
      "metadata": {
        "colab": {
          "base_uri": "https://localhost:8080/",
          "height": 221
        },
        "id": "fJxL4xAI5dBc",
        "outputId": "8aa249bf-dca0-4604-a037-bf419c0971a8"
      },
      "source": [
        "# Shuffling Training And Testing Data\n",
        "train_data.sample(frac=1)\n",
        "train_data.head()"
      ],
      "execution_count": 75,
      "outputs": [
        {
          "output_type": "execute_result",
          "data": {
            "text/html": [
              "<div>\n",
              "<style scoped>\n",
              "    .dataframe tbody tr th:only-of-type {\n",
              "        vertical-align: middle;\n",
              "    }\n",
              "\n",
              "    .dataframe tbody tr th {\n",
              "        vertical-align: top;\n",
              "    }\n",
              "\n",
              "    .dataframe thead th {\n",
              "        text-align: right;\n",
              "    }\n",
              "</style>\n",
              "<table border=\"1\" class=\"dataframe\">\n",
              "  <thead>\n",
              "    <tr style=\"text-align: right;\">\n",
              "      <th></th>\n",
              "      <th>Time</th>\n",
              "      <th>V1</th>\n",
              "      <th>V2</th>\n",
              "      <th>V3</th>\n",
              "      <th>V4</th>\n",
              "      <th>V5</th>\n",
              "      <th>V6</th>\n",
              "      <th>V7</th>\n",
              "      <th>V8</th>\n",
              "      <th>V9</th>\n",
              "      <th>V10</th>\n",
              "      <th>V11</th>\n",
              "      <th>V12</th>\n",
              "      <th>V13</th>\n",
              "      <th>V14</th>\n",
              "      <th>V15</th>\n",
              "      <th>V16</th>\n",
              "      <th>V17</th>\n",
              "      <th>V18</th>\n",
              "      <th>V19</th>\n",
              "      <th>V20</th>\n",
              "      <th>V21</th>\n",
              "      <th>V22</th>\n",
              "      <th>V23</th>\n",
              "      <th>V24</th>\n",
              "      <th>V25</th>\n",
              "      <th>V26</th>\n",
              "      <th>V27</th>\n",
              "      <th>V28</th>\n",
              "      <th>Amount</th>\n",
              "      <th>Fraud</th>\n",
              "    </tr>\n",
              "  </thead>\n",
              "  <tbody>\n",
              "    <tr>\n",
              "      <th>0</th>\n",
              "      <td>0.0</td>\n",
              "      <td>-1.359807</td>\n",
              "      <td>-0.072781</td>\n",
              "      <td>2.536347</td>\n",
              "      <td>1.378155</td>\n",
              "      <td>-0.338321</td>\n",
              "      <td>0.462388</td>\n",
              "      <td>0.239599</td>\n",
              "      <td>0.098698</td>\n",
              "      <td>0.363787</td>\n",
              "      <td>0.090794</td>\n",
              "      <td>-0.551600</td>\n",
              "      <td>-0.617801</td>\n",
              "      <td>-0.991390</td>\n",
              "      <td>-0.311169</td>\n",
              "      <td>1.468177</td>\n",
              "      <td>-0.470401</td>\n",
              "      <td>0.207971</td>\n",
              "      <td>0.025791</td>\n",
              "      <td>0.403993</td>\n",
              "      <td>0.251412</td>\n",
              "      <td>-0.018307</td>\n",
              "      <td>0.277838</td>\n",
              "      <td>-0.110474</td>\n",
              "      <td>0.066928</td>\n",
              "      <td>0.128539</td>\n",
              "      <td>-0.189115</td>\n",
              "      <td>0.133558</td>\n",
              "      <td>-0.021053</td>\n",
              "      <td>149.62</td>\n",
              "      <td>0</td>\n",
              "    </tr>\n",
              "    <tr>\n",
              "      <th>1</th>\n",
              "      <td>0.0</td>\n",
              "      <td>1.191857</td>\n",
              "      <td>0.266151</td>\n",
              "      <td>0.166480</td>\n",
              "      <td>0.448154</td>\n",
              "      <td>0.060018</td>\n",
              "      <td>-0.082361</td>\n",
              "      <td>-0.078803</td>\n",
              "      <td>0.085102</td>\n",
              "      <td>-0.255425</td>\n",
              "      <td>-0.166974</td>\n",
              "      <td>1.612727</td>\n",
              "      <td>1.065235</td>\n",
              "      <td>0.489095</td>\n",
              "      <td>-0.143772</td>\n",
              "      <td>0.635558</td>\n",
              "      <td>0.463917</td>\n",
              "      <td>-0.114805</td>\n",
              "      <td>-0.183361</td>\n",
              "      <td>-0.145783</td>\n",
              "      <td>-0.069083</td>\n",
              "      <td>-0.225775</td>\n",
              "      <td>-0.638672</td>\n",
              "      <td>0.101288</td>\n",
              "      <td>-0.339846</td>\n",
              "      <td>0.167170</td>\n",
              "      <td>0.125895</td>\n",
              "      <td>-0.008983</td>\n",
              "      <td>0.014724</td>\n",
              "      <td>2.69</td>\n",
              "      <td>0</td>\n",
              "    </tr>\n",
              "    <tr>\n",
              "      <th>2</th>\n",
              "      <td>1.0</td>\n",
              "      <td>-1.358354</td>\n",
              "      <td>-1.340163</td>\n",
              "      <td>1.773209</td>\n",
              "      <td>0.379780</td>\n",
              "      <td>-0.503198</td>\n",
              "      <td>1.800499</td>\n",
              "      <td>0.791461</td>\n",
              "      <td>0.247676</td>\n",
              "      <td>-1.514654</td>\n",
              "      <td>0.207643</td>\n",
              "      <td>0.624501</td>\n",
              "      <td>0.066084</td>\n",
              "      <td>0.717293</td>\n",
              "      <td>-0.165946</td>\n",
              "      <td>2.345865</td>\n",
              "      <td>-2.890083</td>\n",
              "      <td>1.109969</td>\n",
              "      <td>-0.121359</td>\n",
              "      <td>-2.261857</td>\n",
              "      <td>0.524980</td>\n",
              "      <td>0.247998</td>\n",
              "      <td>0.771679</td>\n",
              "      <td>0.909412</td>\n",
              "      <td>-0.689281</td>\n",
              "      <td>-0.327642</td>\n",
              "      <td>-0.139097</td>\n",
              "      <td>-0.055353</td>\n",
              "      <td>-0.059752</td>\n",
              "      <td>378.66</td>\n",
              "      <td>0</td>\n",
              "    </tr>\n",
              "    <tr>\n",
              "      <th>3</th>\n",
              "      <td>1.0</td>\n",
              "      <td>-0.966272</td>\n",
              "      <td>-0.185226</td>\n",
              "      <td>1.792993</td>\n",
              "      <td>-0.863291</td>\n",
              "      <td>-0.010309</td>\n",
              "      <td>1.247203</td>\n",
              "      <td>0.237609</td>\n",
              "      <td>0.377436</td>\n",
              "      <td>-1.387024</td>\n",
              "      <td>-0.054952</td>\n",
              "      <td>-0.226487</td>\n",
              "      <td>0.178228</td>\n",
              "      <td>0.507757</td>\n",
              "      <td>-0.287924</td>\n",
              "      <td>-0.631418</td>\n",
              "      <td>-1.059647</td>\n",
              "      <td>-0.684093</td>\n",
              "      <td>1.965775</td>\n",
              "      <td>-1.232622</td>\n",
              "      <td>-0.208038</td>\n",
              "      <td>-0.108300</td>\n",
              "      <td>0.005274</td>\n",
              "      <td>-0.190321</td>\n",
              "      <td>-1.175575</td>\n",
              "      <td>0.647376</td>\n",
              "      <td>-0.221929</td>\n",
              "      <td>0.062723</td>\n",
              "      <td>0.061458</td>\n",
              "      <td>123.50</td>\n",
              "      <td>0</td>\n",
              "    </tr>\n",
              "    <tr>\n",
              "      <th>4</th>\n",
              "      <td>2.0</td>\n",
              "      <td>-1.158233</td>\n",
              "      <td>0.877737</td>\n",
              "      <td>1.548718</td>\n",
              "      <td>0.403034</td>\n",
              "      <td>-0.407193</td>\n",
              "      <td>0.095921</td>\n",
              "      <td>0.592941</td>\n",
              "      <td>-0.270533</td>\n",
              "      <td>0.817739</td>\n",
              "      <td>0.753074</td>\n",
              "      <td>-0.822843</td>\n",
              "      <td>0.538196</td>\n",
              "      <td>1.345852</td>\n",
              "      <td>-1.119670</td>\n",
              "      <td>0.175121</td>\n",
              "      <td>-0.451449</td>\n",
              "      <td>-0.237033</td>\n",
              "      <td>-0.038195</td>\n",
              "      <td>0.803487</td>\n",
              "      <td>0.408542</td>\n",
              "      <td>-0.009431</td>\n",
              "      <td>0.798278</td>\n",
              "      <td>-0.137458</td>\n",
              "      <td>0.141267</td>\n",
              "      <td>-0.206010</td>\n",
              "      <td>0.502292</td>\n",
              "      <td>0.219422</td>\n",
              "      <td>0.215153</td>\n",
              "      <td>69.99</td>\n",
              "      <td>0</td>\n",
              "    </tr>\n",
              "  </tbody>\n",
              "</table>\n",
              "</div>"
            ],
            "text/plain": [
              "   Time        V1        V2        V3  ...       V27       V28  Amount  Fraud\n",
              "0   0.0 -1.359807 -0.072781  2.536347  ...  0.133558 -0.021053  149.62      0\n",
              "1   0.0  1.191857  0.266151  0.166480  ... -0.008983  0.014724    2.69      0\n",
              "2   1.0 -1.358354 -1.340163  1.773209  ... -0.055353 -0.059752  378.66      0\n",
              "3   1.0 -0.966272 -0.185226  1.792993  ...  0.062723  0.061458  123.50      0\n",
              "4   2.0 -1.158233  0.877737  1.548718  ...  0.219422  0.215153   69.99      0\n",
              "\n",
              "[5 rows x 31 columns]"
            ]
          },
          "metadata": {
            "tags": []
          },
          "execution_count": 75
        }
      ]
    },
    {
      "cell_type": "code",
      "metadata": {
        "colab": {
          "base_uri": "https://localhost:8080/",
          "height": 221
        },
        "id": "6gCGM1A76qJp",
        "outputId": "aace0465-1763-4c9b-985f-6be712d18e18"
      },
      "source": [
        "test_data.sample(frac = 1)\n",
        "test_data.head()"
      ],
      "execution_count": 76,
      "outputs": [
        {
          "output_type": "execute_result",
          "data": {
            "text/html": [
              "<div>\n",
              "<style scoped>\n",
              "    .dataframe tbody tr th:only-of-type {\n",
              "        vertical-align: middle;\n",
              "    }\n",
              "\n",
              "    .dataframe tbody tr th {\n",
              "        vertical-align: top;\n",
              "    }\n",
              "\n",
              "    .dataframe thead th {\n",
              "        text-align: right;\n",
              "    }\n",
              "</style>\n",
              "<table border=\"1\" class=\"dataframe\">\n",
              "  <thead>\n",
              "    <tr style=\"text-align: right;\">\n",
              "      <th></th>\n",
              "      <th>Time</th>\n",
              "      <th>V1</th>\n",
              "      <th>V2</th>\n",
              "      <th>V3</th>\n",
              "      <th>V4</th>\n",
              "      <th>V5</th>\n",
              "      <th>V6</th>\n",
              "      <th>V7</th>\n",
              "      <th>V8</th>\n",
              "      <th>V9</th>\n",
              "      <th>V10</th>\n",
              "      <th>V11</th>\n",
              "      <th>V12</th>\n",
              "      <th>V13</th>\n",
              "      <th>V14</th>\n",
              "      <th>V15</th>\n",
              "      <th>V16</th>\n",
              "      <th>V17</th>\n",
              "      <th>V18</th>\n",
              "      <th>V19</th>\n",
              "      <th>V20</th>\n",
              "      <th>V21</th>\n",
              "      <th>V22</th>\n",
              "      <th>V23</th>\n",
              "      <th>V24</th>\n",
              "      <th>V25</th>\n",
              "      <th>V26</th>\n",
              "      <th>V27</th>\n",
              "      <th>V28</th>\n",
              "      <th>Amount</th>\n",
              "      <th>Fraud</th>\n",
              "    </tr>\n",
              "  </thead>\n",
              "  <tbody>\n",
              "    <tr>\n",
              "      <th>199365</th>\n",
              "      <td>132929.0</td>\n",
              "      <td>2.152590</td>\n",
              "      <td>-0.900447</td>\n",
              "      <td>-1.092456</td>\n",
              "      <td>-0.994969</td>\n",
              "      <td>-0.613447</td>\n",
              "      <td>-0.760012</td>\n",
              "      <td>-0.530218</td>\n",
              "      <td>-0.222248</td>\n",
              "      <td>-0.214416</td>\n",
              "      <td>0.746967</td>\n",
              "      <td>-1.256213</td>\n",
              "      <td>-0.762171</td>\n",
              "      <td>0.086847</td>\n",
              "      <td>-0.133543</td>\n",
              "      <td>0.365813</td>\n",
              "      <td>1.400839</td>\n",
              "      <td>-0.115840</td>\n",
              "      <td>-1.594770</td>\n",
              "      <td>1.026636</td>\n",
              "      <td>0.060715</td>\n",
              "      <td>-0.281725</td>\n",
              "      <td>-0.987236</td>\n",
              "      <td>0.358646</td>\n",
              "      <td>-0.782338</td>\n",
              "      <td>-0.480245</td>\n",
              "      <td>-0.647930</td>\n",
              "      <td>-0.023563</td>\n",
              "      <td>-0.044354</td>\n",
              "      <td>55.95</td>\n",
              "      <td>0</td>\n",
              "    </tr>\n",
              "    <tr>\n",
              "      <th>199366</th>\n",
              "      <td>132929.0</td>\n",
              "      <td>1.811278</td>\n",
              "      <td>0.224393</td>\n",
              "      <td>0.542888</td>\n",
              "      <td>3.606222</td>\n",
              "      <td>-0.162910</td>\n",
              "      <td>1.171241</td>\n",
              "      <td>-0.874598</td>\n",
              "      <td>0.419449</td>\n",
              "      <td>-0.546470</td>\n",
              "      <td>1.493825</td>\n",
              "      <td>0.583293</td>\n",
              "      <td>0.884700</td>\n",
              "      <td>0.831223</td>\n",
              "      <td>-0.293394</td>\n",
              "      <td>-0.870717</td>\n",
              "      <td>1.653737</td>\n",
              "      <td>-1.335181</td>\n",
              "      <td>0.431294</td>\n",
              "      <td>-1.605950</td>\n",
              "      <td>-0.198616</td>\n",
              "      <td>0.109290</td>\n",
              "      <td>0.345703</td>\n",
              "      <td>0.365984</td>\n",
              "      <td>0.663253</td>\n",
              "      <td>-0.531272</td>\n",
              "      <td>-0.225013</td>\n",
              "      <td>0.032563</td>\n",
              "      <td>-0.022693</td>\n",
              "      <td>0.79</td>\n",
              "      <td>0</td>\n",
              "    </tr>\n",
              "    <tr>\n",
              "      <th>199367</th>\n",
              "      <td>132929.0</td>\n",
              "      <td>-1.524832</td>\n",
              "      <td>-0.544095</td>\n",
              "      <td>-0.288824</td>\n",
              "      <td>-0.916791</td>\n",
              "      <td>3.524219</td>\n",
              "      <td>-1.830070</td>\n",
              "      <td>1.375925</td>\n",
              "      <td>-0.814647</td>\n",
              "      <td>-0.648070</td>\n",
              "      <td>-0.072189</td>\n",
              "      <td>1.020453</td>\n",
              "      <td>0.808519</td>\n",
              "      <td>0.179530</td>\n",
              "      <td>0.403686</td>\n",
              "      <td>-1.355320</td>\n",
              "      <td>-0.890292</td>\n",
              "      <td>-0.823874</td>\n",
              "      <td>-0.161798</td>\n",
              "      <td>-0.240885</td>\n",
              "      <td>-0.209666</td>\n",
              "      <td>0.272832</td>\n",
              "      <td>1.245119</td>\n",
              "      <td>-0.867245</td>\n",
              "      <td>0.838885</td>\n",
              "      <td>0.860487</td>\n",
              "      <td>-0.081074</td>\n",
              "      <td>-0.252743</td>\n",
              "      <td>-0.377957</td>\n",
              "      <td>30.90</td>\n",
              "      <td>0</td>\n",
              "    </tr>\n",
              "    <tr>\n",
              "      <th>199368</th>\n",
              "      <td>132930.0</td>\n",
              "      <td>0.099135</td>\n",
              "      <td>0.873164</td>\n",
              "      <td>-0.362487</td>\n",
              "      <td>-0.612234</td>\n",
              "      <td>0.747229</td>\n",
              "      <td>-0.629384</td>\n",
              "      <td>0.755890</td>\n",
              "      <td>0.126794</td>\n",
              "      <td>-0.051667</td>\n",
              "      <td>-0.613531</td>\n",
              "      <td>0.826612</td>\n",
              "      <td>-0.315592</td>\n",
              "      <td>-1.848798</td>\n",
              "      <td>-0.465431</td>\n",
              "      <td>-0.757847</td>\n",
              "      <td>0.571839</td>\n",
              "      <td>0.262660</td>\n",
              "      <td>0.450587</td>\n",
              "      <td>0.023705</td>\n",
              "      <td>-0.090654</td>\n",
              "      <td>-0.302759</td>\n",
              "      <td>-0.840999</td>\n",
              "      <td>0.115856</td>\n",
              "      <td>0.613080</td>\n",
              "      <td>-0.528392</td>\n",
              "      <td>0.092546</td>\n",
              "      <td>0.207960</td>\n",
              "      <td>0.071553</td>\n",
              "      <td>1.78</td>\n",
              "      <td>0</td>\n",
              "    </tr>\n",
              "    <tr>\n",
              "      <th>199369</th>\n",
              "      <td>132930.0</td>\n",
              "      <td>2.005556</td>\n",
              "      <td>-0.146704</td>\n",
              "      <td>-1.019430</td>\n",
              "      <td>0.330239</td>\n",
              "      <td>-0.180449</td>\n",
              "      <td>-0.953319</td>\n",
              "      <td>0.053860</td>\n",
              "      <td>-0.165823</td>\n",
              "      <td>0.352282</td>\n",
              "      <td>0.255342</td>\n",
              "      <td>0.953976</td>\n",
              "      <td>0.886864</td>\n",
              "      <td>-0.546470</td>\n",
              "      <td>0.579937</td>\n",
              "      <td>-0.610841</td>\n",
              "      <td>0.088436</td>\n",
              "      <td>-0.475671</td>\n",
              "      <td>-0.341351</td>\n",
              "      <td>0.402815</td>\n",
              "      <td>-0.241755</td>\n",
              "      <td>-0.235137</td>\n",
              "      <td>-0.613122</td>\n",
              "      <td>0.342269</td>\n",
              "      <td>0.063677</td>\n",
              "      <td>-0.359509</td>\n",
              "      <td>0.174021</td>\n",
              "      <td>-0.078440</td>\n",
              "      <td>-0.069642</td>\n",
              "      <td>5.37</td>\n",
              "      <td>0</td>\n",
              "    </tr>\n",
              "  </tbody>\n",
              "</table>\n",
              "</div>"
            ],
            "text/plain": [
              "            Time        V1        V2  ...       V28  Amount  Fraud\n",
              "199365  132929.0  2.152590 -0.900447  ... -0.044354   55.95      0\n",
              "199366  132929.0  1.811278  0.224393  ... -0.022693    0.79      0\n",
              "199367  132929.0 -1.524832 -0.544095  ... -0.377957   30.90      0\n",
              "199368  132930.0  0.099135  0.873164  ...  0.071553    1.78      0\n",
              "199369  132930.0  2.005556 -0.146704  ... -0.069642    5.37      0\n",
              "\n",
              "[5 rows x 31 columns]"
            ]
          },
          "metadata": {
            "tags": []
          },
          "execution_count": 76
        }
      ]
    },
    {
      "cell_type": "code",
      "metadata": {
        "id": "6h94jL_m6386"
      },
      "source": [
        "# Droping Labels From Testing And Training Data\n",
        "train_labels = train_data.pop('Fraud')\n",
        "train_labels = train_labels.values\n",
        "test_labels = test_data.pop('Fraud')\n",
        "test_labels = test_labels.values"
      ],
      "execution_count": 77,
      "outputs": []
    },
    {
      "cell_type": "code",
      "metadata": {
        "colab": {
          "base_uri": "https://localhost:8080/"
        },
        "id": "Wphs0xZT7ZBZ",
        "outputId": "3d522285-326c-4c28-f1da-534acdc6b13d"
      },
      "source": [
        "train_labels"
      ],
      "execution_count": 78,
      "outputs": [
        {
          "output_type": "execute_result",
          "data": {
            "text/plain": [
              "array([0, 0, 0, ..., 0, 0, 0])"
            ]
          },
          "metadata": {
            "tags": []
          },
          "execution_count": 78
        }
      ]
    },
    {
      "cell_type": "code",
      "metadata": {
        "colab": {
          "base_uri": "https://localhost:8080/"
        },
        "id": "zBxfHoHX7eMD",
        "outputId": "f4fa5aeb-0048-4345-e53e-711fe2da25a6"
      },
      "source": [
        "test_labels"
      ],
      "execution_count": 79,
      "outputs": [
        {
          "output_type": "execute_result",
          "data": {
            "text/plain": [
              "array([0, 0, 0, ..., 0, 0, 0])"
            ]
          },
          "metadata": {
            "tags": []
          },
          "execution_count": 79
        }
      ]
    },
    {
      "cell_type": "code",
      "metadata": {
        "colab": {
          "base_uri": "https://localhost:8080/"
        },
        "id": "9SO6glL5ZxrM",
        "outputId": "f921ac9d-61ba-4ec2-cca0-fbaa48acce0a"
      },
      "source": [
        "# Building Base Model\n",
        "model = Sequential()\n",
        "model.add(Dense(10, activation = 'relu', input_shape = (train_data.shape[-1],)))\n",
        "model.add(Dense(8, activation = 'relu'))\n",
        "model.add(Dense(6, activation = 'relu'))\n",
        "model.add(Dense(1, activation='sigmoid'))\n",
        "model.compile(optimizer = 'adam', loss = 'binary_crossentropy', metrics = ['accuracy'])\n",
        "model.summary()"
      ],
      "execution_count": 81,
      "outputs": [
        {
          "output_type": "stream",
          "text": [
            "Model: \"sequential_1\"\n",
            "_________________________________________________________________\n",
            "Layer (type)                 Output Shape              Param #   \n",
            "=================================================================\n",
            "dense_9 (Dense)              (None, 10)                310       \n",
            "_________________________________________________________________\n",
            "dense_10 (Dense)             (None, 8)                 88        \n",
            "_________________________________________________________________\n",
            "dense_11 (Dense)             (None, 6)                 54        \n",
            "_________________________________________________________________\n",
            "dense_12 (Dense)             (None, 1)                 7         \n",
            "=================================================================\n",
            "Total params: 459\n",
            "Trainable params: 459\n",
            "Non-trainable params: 0\n",
            "_________________________________________________________________\n"
          ],
          "name": "stdout"
        }
      ]
    },
    {
      "cell_type": "code",
      "metadata": {
        "id": "97ZVXnfo8KOQ",
        "colab": {
          "base_uri": "https://localhost:8080/"
        },
        "outputId": "51ecf6da-51b0-4142-f452-fc4be4c15423"
      },
      "source": [
        "# Building Base Model\n",
        "# from tensorflow.keras.layers import Input\n",
        "# from tensorflow.keras.models import Model\n",
        "# input_dim = train_data.shape[1]\n",
        "# encoding_dim = 14\n",
        "# input_layer = Input(shape=(input_dim, ))\n",
        "# autoencoder = Model(inputs=input_layer, outputs=decoder)\n",
        "# encoder = Dense(encoding_dim, activation=\"tanh\", activity_regularizer=regularizers.l1(10e-5))(input_layer)\n",
        "# encoder = Dense(int(encoding_dim / 2), activation=\"relu\")(encoder)\n",
        "# decoder = Dense(int(encoding_dim / 2), activation='tanh')(encoder)\n",
        "# decoder = Dense(input_dim, activation='relu')(decoder)\n",
        "# autoencoder.summary()"
      ],
      "execution_count": 30,
      "outputs": [
        {
          "output_type": "stream",
          "text": [
            "Model: \"model_1\"\n",
            "_________________________________________________________________\n",
            "Layer (type)                 Output Shape              Param #   \n",
            "=================================================================\n",
            "input_2 (InputLayer)         [(None, 30)]              0         \n",
            "_________________________________________________________________\n",
            "dense_4 (Dense)              (None, 14)                434       \n",
            "_________________________________________________________________\n",
            "dense_5 (Dense)              (None, 7)                 105       \n",
            "_________________________________________________________________\n",
            "dense_6 (Dense)              (None, 7)                 56        \n",
            "_________________________________________________________________\n",
            "dense_7 (Dense)              (None, 30)                240       \n",
            "=================================================================\n",
            "Total params: 835\n",
            "Trainable params: 835\n",
            "Non-trainable params: 0\n",
            "_________________________________________________________________\n"
          ],
          "name": "stdout"
        }
      ]
    },
    {
      "cell_type": "code",
      "metadata": {
        "id": "hTomTHjr-t6z"
      },
      "source": [
        "# Compilation Of the Model\n",
        "# autoencoder.compile(optimizer='adam', loss='mse', metrics=['accuracy'])"
      ],
      "execution_count": 33,
      "outputs": []
    },
    {
      "cell_type": "code",
      "metadata": {
        "id": "8EJqcdyZ_dGm"
      },
      "source": [
        "from keras.callbacks import ModelCheckpoint, TensorBoard\n",
        "checkpointer = ModelCheckpoint(filepath = 'CreditCardFraudDetectionModel.h5', verbose = 0, save_best_only = True)\n",
        "tensorboard = TensorBoard(log_dir = './logs', histogram_freq = 0, write_graph = True, write_images = True)"
      ],
      "execution_count": 82,
      "outputs": []
    },
    {
      "cell_type": "code",
      "metadata": {
        "colab": {
          "base_uri": "https://localhost:8080/"
        },
        "id": "Px_es8qxAP8X",
        "outputId": "0295b235-d898-42fa-c24b-e26e3c02bd72"
      },
      "source": [
        "# Fitting Model\n",
        "history = model.fit(train_data, train_labels, epochs = 100, batch_size = 32, shuffle=True, validation_data=(test_data, test_labels), verbose = 1, callbacks=[checkpointer, tensorboard]).history"
      ],
      "execution_count": 83,
      "outputs": [
        {
          "output_type": "stream",
          "text": [
            "Epoch 1/100\n",
            "6231/6231 [==============================] - 13s 2ms/step - loss: 202.1818 - accuracy: 0.9205 - val_loss: 0.0333 - val_accuracy: 0.9987\n",
            "Epoch 2/100\n",
            "6231/6231 [==============================] - 12s 2ms/step - loss: 0.2688 - accuracy: 0.9974 - val_loss: 0.0160 - val_accuracy: 0.9987\n",
            "Epoch 3/100\n",
            "6231/6231 [==============================] - 12s 2ms/step - loss: 0.0163 - accuracy: 0.9981 - val_loss: 0.0102 - val_accuracy: 0.9987\n",
            "Epoch 4/100\n",
            "6231/6231 [==============================] - 12s 2ms/step - loss: 0.1748 - accuracy: 0.9974 - val_loss: 0.0099 - val_accuracy: 0.9987\n",
            "Epoch 5/100\n",
            "6231/6231 [==============================] - 12s 2ms/step - loss: 0.0227 - accuracy: 0.9981 - val_loss: 0.0098 - val_accuracy: 0.9987\n",
            "Epoch 6/100\n",
            "6231/6231 [==============================] - 12s 2ms/step - loss: 0.0168 - accuracy: 0.9982 - val_loss: 0.0098 - val_accuracy: 0.9987\n",
            "Epoch 7/100\n",
            "6231/6231 [==============================] - 12s 2ms/step - loss: 0.0154 - accuracy: 0.9980 - val_loss: 0.0098 - val_accuracy: 0.9987\n",
            "Epoch 8/100\n",
            "6231/6231 [==============================] - 13s 2ms/step - loss: 0.0138 - accuracy: 0.9981 - val_loss: 0.0098 - val_accuracy: 0.9987\n",
            "Epoch 9/100\n",
            "6231/6231 [==============================] - 12s 2ms/step - loss: 0.0135 - accuracy: 0.9982 - val_loss: 0.0098 - val_accuracy: 0.9987\n",
            "Epoch 10/100\n",
            "6231/6231 [==============================] - 12s 2ms/step - loss: 0.0128 - accuracy: 0.9983 - val_loss: 0.0098 - val_accuracy: 0.9987\n",
            "Epoch 11/100\n",
            "6231/6231 [==============================] - 12s 2ms/step - loss: 0.0145 - accuracy: 0.9980 - val_loss: 0.0098 - val_accuracy: 0.9987\n",
            "Epoch 12/100\n",
            "6231/6231 [==============================] - 12s 2ms/step - loss: 0.0256 - accuracy: 0.9982 - val_loss: 0.0098 - val_accuracy: 0.9987\n",
            "Epoch 13/100\n",
            "6231/6231 [==============================] - 12s 2ms/step - loss: 0.0137 - accuracy: 0.9981 - val_loss: 0.0098 - val_accuracy: 0.9987\n",
            "Epoch 14/100\n",
            "6231/6231 [==============================] - 12s 2ms/step - loss: 0.0681 - accuracy: 0.9977 - val_loss: 0.0098 - val_accuracy: 0.9987\n",
            "Epoch 15/100\n",
            "6231/6231 [==============================] - 12s 2ms/step - loss: 0.0149 - accuracy: 0.9983 - val_loss: 0.0098 - val_accuracy: 0.9987\n",
            "Epoch 16/100\n",
            "6231/6231 [==============================] - 12s 2ms/step - loss: 0.0144 - accuracy: 0.9980 - val_loss: 0.0098 - val_accuracy: 0.9987\n",
            "Epoch 17/100\n",
            "6231/6231 [==============================] - 12s 2ms/step - loss: 0.0144 - accuracy: 0.9980 - val_loss: 0.0098 - val_accuracy: 0.9987\n",
            "Epoch 18/100\n",
            "6231/6231 [==============================] - 12s 2ms/step - loss: 0.0161 - accuracy: 0.9981 - val_loss: 0.0098 - val_accuracy: 0.9987\n",
            "Epoch 19/100\n",
            "6231/6231 [==============================] - 12s 2ms/step - loss: 0.0159 - accuracy: 0.9981 - val_loss: 0.0098 - val_accuracy: 0.9987\n",
            "Epoch 20/100\n",
            "6231/6231 [==============================] - 12s 2ms/step - loss: 0.0139 - accuracy: 0.9981 - val_loss: 0.0098 - val_accuracy: 0.9987\n",
            "Epoch 21/100\n",
            "6231/6231 [==============================] - 12s 2ms/step - loss: 0.0146 - accuracy: 0.9980 - val_loss: 0.0098 - val_accuracy: 0.9987\n",
            "Epoch 22/100\n",
            "6231/6231 [==============================] - 12s 2ms/step - loss: 0.0421 - accuracy: 0.9981 - val_loss: 0.0098 - val_accuracy: 0.9987\n",
            "Epoch 23/100\n",
            "6231/6231 [==============================] - 12s 2ms/step - loss: 0.0143 - accuracy: 0.9980 - val_loss: 0.0098 - val_accuracy: 0.9987\n",
            "Epoch 24/100\n",
            "6231/6231 [==============================] - 12s 2ms/step - loss: 0.0130 - accuracy: 0.9982 - val_loss: 0.0098 - val_accuracy: 0.9987\n",
            "Epoch 25/100\n",
            "6231/6231 [==============================] - 12s 2ms/step - loss: 0.0146 - accuracy: 0.9980 - val_loss: 0.0098 - val_accuracy: 0.9987\n",
            "Epoch 26/100\n",
            "6231/6231 [==============================] - 12s 2ms/step - loss: 0.0436 - accuracy: 0.9979 - val_loss: 0.0098 - val_accuracy: 0.9987\n",
            "Epoch 27/100\n",
            "6231/6231 [==============================] - 12s 2ms/step - loss: 0.0142 - accuracy: 0.9981 - val_loss: 0.0098 - val_accuracy: 0.9987\n",
            "Epoch 28/100\n",
            "6231/6231 [==============================] - 12s 2ms/step - loss: 0.0145 - accuracy: 0.9980 - val_loss: 0.0098 - val_accuracy: 0.9987\n",
            "Epoch 29/100\n",
            "6231/6231 [==============================] - 12s 2ms/step - loss: 0.1295 - accuracy: 0.9981 - val_loss: 0.0098 - val_accuracy: 0.9987\n",
            "Epoch 30/100\n",
            "6231/6231 [==============================] - 12s 2ms/step - loss: 0.0134 - accuracy: 0.9982 - val_loss: 0.0098 - val_accuracy: 0.9987\n",
            "Epoch 31/100\n",
            "6231/6231 [==============================] - 12s 2ms/step - loss: 0.0151 - accuracy: 0.9979 - val_loss: 0.0098 - val_accuracy: 0.9987\n",
            "Epoch 32/100\n",
            "6231/6231 [==============================] - 13s 2ms/step - loss: 0.0263 - accuracy: 0.9982 - val_loss: 0.0098 - val_accuracy: 0.9987\n",
            "Epoch 33/100\n",
            "6231/6231 [==============================] - 12s 2ms/step - loss: 0.0202 - accuracy: 0.9978 - val_loss: 0.0098 - val_accuracy: 0.9987\n",
            "Epoch 34/100\n",
            "6231/6231 [==============================] - 12s 2ms/step - loss: 0.0131 - accuracy: 0.9982 - val_loss: 0.0098 - val_accuracy: 0.9987\n",
            "Epoch 35/100\n",
            "6231/6231 [==============================] - 12s 2ms/step - loss: 0.0129 - accuracy: 0.9983 - val_loss: 0.0098 - val_accuracy: 0.9987\n",
            "Epoch 36/100\n",
            "6231/6231 [==============================] - 12s 2ms/step - loss: 0.0139 - accuracy: 0.9981 - val_loss: 0.0098 - val_accuracy: 0.9987\n",
            "Epoch 37/100\n",
            "6231/6231 [==============================] - 12s 2ms/step - loss: 0.0160 - accuracy: 0.9981 - val_loss: 0.0098 - val_accuracy: 0.9987\n",
            "Epoch 38/100\n",
            "6231/6231 [==============================] - 12s 2ms/step - loss: 0.0130 - accuracy: 0.9982 - val_loss: 0.0098 - val_accuracy: 0.9987\n",
            "Epoch 39/100\n",
            "6231/6231 [==============================] - 12s 2ms/step - loss: 0.0133 - accuracy: 0.9982 - val_loss: 0.0098 - val_accuracy: 0.9987\n",
            "Epoch 40/100\n",
            "6231/6231 [==============================] - 12s 2ms/step - loss: 0.0134 - accuracy: 0.9982 - val_loss: 0.0098 - val_accuracy: 0.9987\n",
            "Epoch 41/100\n",
            "6231/6231 [==============================] - 12s 2ms/step - loss: 0.0190 - accuracy: 0.9981 - val_loss: 0.0098 - val_accuracy: 0.9987\n",
            "Epoch 42/100\n",
            "6231/6231 [==============================] - 12s 2ms/step - loss: 0.0145 - accuracy: 0.9981 - val_loss: 0.0098 - val_accuracy: 0.9987\n",
            "Epoch 43/100\n",
            "6231/6231 [==============================] - 12s 2ms/step - loss: 0.0135 - accuracy: 0.9982 - val_loss: 0.0098 - val_accuracy: 0.9987\n",
            "Epoch 44/100\n",
            "6231/6231 [==============================] - 12s 2ms/step - loss: 0.0148 - accuracy: 0.9979 - val_loss: 0.0098 - val_accuracy: 0.9987\n",
            "Epoch 45/100\n",
            "6231/6231 [==============================] - 12s 2ms/step - loss: 0.0139 - accuracy: 0.9981 - val_loss: 0.0098 - val_accuracy: 0.9987\n",
            "Epoch 46/100\n",
            "6231/6231 [==============================] - 12s 2ms/step - loss: 0.0162 - accuracy: 0.9979 - val_loss: 0.0098 - val_accuracy: 0.9987\n",
            "Epoch 47/100\n",
            "6231/6231 [==============================] - 12s 2ms/step - loss: 0.0133 - accuracy: 0.9982 - val_loss: 0.0098 - val_accuracy: 0.9987\n",
            "Epoch 48/100\n",
            "6231/6231 [==============================] - 12s 2ms/step - loss: 0.0133 - accuracy: 0.9982 - val_loss: 0.0098 - val_accuracy: 0.9987\n",
            "Epoch 49/100\n",
            "6231/6231 [==============================] - 12s 2ms/step - loss: 0.0135 - accuracy: 0.9982 - val_loss: 0.0098 - val_accuracy: 0.9987\n",
            "Epoch 50/100\n",
            "6231/6231 [==============================] - 12s 2ms/step - loss: 0.0423 - accuracy: 0.9981 - val_loss: 0.0098 - val_accuracy: 0.9987\n",
            "Epoch 51/100\n",
            "6231/6231 [==============================] - 12s 2ms/step - loss: 0.0153 - accuracy: 0.9981 - val_loss: 0.0098 - val_accuracy: 0.9987\n",
            "Epoch 52/100\n",
            "6231/6231 [==============================] - 12s 2ms/step - loss: 0.0142 - accuracy: 0.9981 - val_loss: 0.0098 - val_accuracy: 0.9987\n",
            "Epoch 53/100\n",
            "6231/6231 [==============================] - 12s 2ms/step - loss: 0.0153 - accuracy: 0.9979 - val_loss: 0.0098 - val_accuracy: 0.9987\n",
            "Epoch 54/100\n",
            "6231/6231 [==============================] - 12s 2ms/step - loss: 0.0137 - accuracy: 0.9981 - val_loss: 0.0098 - val_accuracy: 0.9987\n",
            "Epoch 55/100\n",
            "6231/6231 [==============================] - 12s 2ms/step - loss: 0.0200 - accuracy: 0.9982 - val_loss: 0.0098 - val_accuracy: 0.9987\n",
            "Epoch 56/100\n",
            "6231/6231 [==============================] - 13s 2ms/step - loss: 0.0150 - accuracy: 0.9979 - val_loss: 0.0098 - val_accuracy: 0.9987\n",
            "Epoch 57/100\n",
            "6231/6231 [==============================] - 13s 2ms/step - loss: 0.0122 - accuracy: 0.9984 - val_loss: 0.0098 - val_accuracy: 0.9987\n",
            "Epoch 58/100\n",
            "6231/6231 [==============================] - 12s 2ms/step - loss: 0.0151 - accuracy: 0.9980 - val_loss: 0.0098 - val_accuracy: 0.9987\n",
            "Epoch 59/100\n",
            "6231/6231 [==============================] - 12s 2ms/step - loss: 0.0140 - accuracy: 0.9981 - val_loss: 0.0098 - val_accuracy: 0.9987\n",
            "Epoch 60/100\n",
            "6231/6231 [==============================] - 12s 2ms/step - loss: 0.0159 - accuracy: 0.9979 - val_loss: 0.0098 - val_accuracy: 0.9987\n",
            "Epoch 61/100\n",
            "6231/6231 [==============================] - 12s 2ms/step - loss: 0.0131 - accuracy: 0.9982 - val_loss: 0.0098 - val_accuracy: 0.9987\n",
            "Epoch 62/100\n",
            "6231/6231 [==============================] - 12s 2ms/step - loss: 0.0147 - accuracy: 0.9980 - val_loss: 0.0098 - val_accuracy: 0.9987\n",
            "Epoch 63/100\n",
            "6231/6231 [==============================] - 12s 2ms/step - loss: 0.0133 - accuracy: 0.9982 - val_loss: 0.0098 - val_accuracy: 0.9987\n",
            "Epoch 64/100\n",
            "6231/6231 [==============================] - 12s 2ms/step - loss: 0.0138 - accuracy: 0.9981 - val_loss: 0.0098 - val_accuracy: 0.9987\n",
            "Epoch 65/100\n",
            "6231/6231 [==============================] - 12s 2ms/step - loss: 0.0139 - accuracy: 0.9981 - val_loss: 0.0098 - val_accuracy: 0.9987\n",
            "Epoch 66/100\n",
            "6231/6231 [==============================] - 12s 2ms/step - loss: 0.0181 - accuracy: 0.9980 - val_loss: 0.0098 - val_accuracy: 0.9987\n",
            "Epoch 67/100\n",
            "6231/6231 [==============================] - 12s 2ms/step - loss: 0.0141 - accuracy: 0.9982 - val_loss: 0.0098 - val_accuracy: 0.9987\n",
            "Epoch 68/100\n",
            "6231/6231 [==============================] - 12s 2ms/step - loss: 0.0150 - accuracy: 0.9979 - val_loss: 0.0098 - val_accuracy: 0.9987\n",
            "Epoch 69/100\n",
            "6231/6231 [==============================] - 12s 2ms/step - loss: 0.0199 - accuracy: 0.9980 - val_loss: 0.0098 - val_accuracy: 0.9987\n",
            "Epoch 70/100\n",
            "6231/6231 [==============================] - 12s 2ms/step - loss: 0.0148 - accuracy: 0.9980 - val_loss: 0.0098 - val_accuracy: 0.9987\n",
            "Epoch 71/100\n",
            "6231/6231 [==============================] - 12s 2ms/step - loss: 0.0133 - accuracy: 0.9983 - val_loss: 0.0098 - val_accuracy: 0.9987\n",
            "Epoch 72/100\n",
            "6231/6231 [==============================] - 12s 2ms/step - loss: 0.0154 - accuracy: 0.9978 - val_loss: 0.0098 - val_accuracy: 0.9987\n",
            "Epoch 73/100\n",
            "6231/6231 [==============================] - 12s 2ms/step - loss: 0.0145 - accuracy: 0.9980 - val_loss: 0.0098 - val_accuracy: 0.9987\n",
            "Epoch 74/100\n",
            "6231/6231 [==============================] - 12s 2ms/step - loss: 0.0136 - accuracy: 0.9981 - val_loss: 0.0098 - val_accuracy: 0.9987\n",
            "Epoch 75/100\n",
            "6231/6231 [==============================] - 12s 2ms/step - loss: 0.0134 - accuracy: 0.9982 - val_loss: 0.0098 - val_accuracy: 0.9987\n",
            "Epoch 76/100\n",
            "6231/6231 [==============================] - 12s 2ms/step - loss: 0.0148 - accuracy: 0.9982 - val_loss: 0.0098 - val_accuracy: 0.9987\n",
            "Epoch 77/100\n",
            "6231/6231 [==============================] - 12s 2ms/step - loss: 0.0133 - accuracy: 0.9982 - val_loss: 0.0098 - val_accuracy: 0.9987\n",
            "Epoch 78/100\n",
            "6231/6231 [==============================] - 12s 2ms/step - loss: 0.0131 - accuracy: 0.9982 - val_loss: 0.0098 - val_accuracy: 0.9987\n",
            "Epoch 79/100\n",
            "6231/6231 [==============================] - 12s 2ms/step - loss: 0.0188 - accuracy: 0.9980 - val_loss: 0.0098 - val_accuracy: 0.9987\n",
            "Epoch 80/100\n",
            "6231/6231 [==============================] - 12s 2ms/step - loss: 0.0129 - accuracy: 0.9982 - val_loss: 0.0098 - val_accuracy: 0.9987\n",
            "Epoch 81/100\n",
            "6231/6231 [==============================] - 13s 2ms/step - loss: 0.0191 - accuracy: 0.9982 - val_loss: 0.0099 - val_accuracy: 0.9987\n",
            "Epoch 82/100\n",
            "6231/6231 [==============================] - 12s 2ms/step - loss: 0.0315 - accuracy: 0.9980 - val_loss: 0.0098 - val_accuracy: 0.9987\n",
            "Epoch 83/100\n",
            "6231/6231 [==============================] - 12s 2ms/step - loss: 0.0143 - accuracy: 0.9980 - val_loss: 0.0098 - val_accuracy: 0.9987\n",
            "Epoch 84/100\n",
            "6231/6231 [==============================] - 12s 2ms/step - loss: 0.0148 - accuracy: 0.9979 - val_loss: 0.0098 - val_accuracy: 0.9987\n",
            "Epoch 85/100\n",
            "6231/6231 [==============================] - 12s 2ms/step - loss: 0.0137 - accuracy: 0.9981 - val_loss: 0.0098 - val_accuracy: 0.9987\n",
            "Epoch 86/100\n",
            "6231/6231 [==============================] - 12s 2ms/step - loss: 0.0368 - accuracy: 0.9979 - val_loss: 0.0098 - val_accuracy: 0.9987\n",
            "Epoch 87/100\n",
            "6231/6231 [==============================] - 12s 2ms/step - loss: 0.0137 - accuracy: 0.9981 - val_loss: 0.0098 - val_accuracy: 0.9987\n",
            "Epoch 88/100\n",
            "6231/6231 [==============================] - 12s 2ms/step - loss: 0.0234 - accuracy: 0.9981 - val_loss: 0.0098 - val_accuracy: 0.9987\n",
            "Epoch 89/100\n",
            "6231/6231 [==============================] - 12s 2ms/step - loss: 0.0123 - accuracy: 0.9983 - val_loss: 0.0099 - val_accuracy: 0.9987\n",
            "Epoch 90/100\n",
            "6231/6231 [==============================] - 13s 2ms/step - loss: 0.0151 - accuracy: 0.9980 - val_loss: 0.0098 - val_accuracy: 0.9987\n",
            "Epoch 91/100\n",
            "6231/6231 [==============================] - 13s 2ms/step - loss: 0.0145 - accuracy: 0.9981 - val_loss: 0.0098 - val_accuracy: 0.9987\n",
            "Epoch 92/100\n",
            "6231/6231 [==============================] - 13s 2ms/step - loss: 0.0149 - accuracy: 0.9979 - val_loss: 0.0098 - val_accuracy: 0.9987\n",
            "Epoch 93/100\n",
            "6231/6231 [==============================] - 12s 2ms/step - loss: 0.0190 - accuracy: 0.9981 - val_loss: 0.0098 - val_accuracy: 0.9987\n",
            "Epoch 94/100\n",
            "6231/6231 [==============================] - 12s 2ms/step - loss: 0.0144 - accuracy: 0.9980 - val_loss: 0.0098 - val_accuracy: 0.9987\n",
            "Epoch 95/100\n",
            "6231/6231 [==============================] - 12s 2ms/step - loss: 0.0141 - accuracy: 0.9981 - val_loss: 0.0098 - val_accuracy: 0.9987\n",
            "Epoch 96/100\n",
            "6231/6231 [==============================] - 12s 2ms/step - loss: 0.0157 - accuracy: 0.9978 - val_loss: 0.0098 - val_accuracy: 0.9987\n",
            "Epoch 97/100\n",
            "6231/6231 [==============================] - 12s 2ms/step - loss: 0.0140 - accuracy: 0.9981 - val_loss: 0.0098 - val_accuracy: 0.9987\n",
            "Epoch 98/100\n",
            "6231/6231 [==============================] - 12s 2ms/step - loss: 0.0444 - accuracy: 0.9978 - val_loss: 0.0098 - val_accuracy: 0.9987\n",
            "Epoch 99/100\n",
            "6231/6231 [==============================] - 12s 2ms/step - loss: 0.0153 - accuracy: 0.9981 - val_loss: 0.0098 - val_accuracy: 0.9987\n",
            "Epoch 100/100\n",
            "6231/6231 [==============================] - 12s 2ms/step - loss: 0.0148 - accuracy: 0.9980 - val_loss: 0.0098 - val_accuracy: 0.9987\n"
          ],
          "name": "stdout"
        }
      ]
    },
    {
      "cell_type": "code",
      "metadata": {
        "colab": {
          "base_uri": "https://localhost:8080/",
          "height": 201
        },
        "id": "fAG3XeEu23Sk",
        "outputId": "7beda459-b2e9-4d41-94d1-a8e69179ff06"
      },
      "source": [
        "# Storing History In A Data Frame\n",
        "history_df = pd.DataFrame(history)\n",
        "history_df.tail()"
      ],
      "execution_count": 84,
      "outputs": [
        {
          "output_type": "execute_result",
          "data": {
            "text/html": [
              "<div>\n",
              "<style scoped>\n",
              "    .dataframe tbody tr th:only-of-type {\n",
              "        vertical-align: middle;\n",
              "    }\n",
              "\n",
              "    .dataframe tbody tr th {\n",
              "        vertical-align: top;\n",
              "    }\n",
              "\n",
              "    .dataframe thead th {\n",
              "        text-align: right;\n",
              "    }\n",
              "</style>\n",
              "<table border=\"1\" class=\"dataframe\">\n",
              "  <thead>\n",
              "    <tr style=\"text-align: right;\">\n",
              "      <th></th>\n",
              "      <th>loss</th>\n",
              "      <th>accuracy</th>\n",
              "      <th>val_loss</th>\n",
              "      <th>val_accuracy</th>\n",
              "    </tr>\n",
              "  </thead>\n",
              "  <tbody>\n",
              "    <tr>\n",
              "      <th>95</th>\n",
              "      <td>0.013965</td>\n",
              "      <td>0.998074</td>\n",
              "      <td>0.009797</td>\n",
              "      <td>0.998736</td>\n",
              "    </tr>\n",
              "    <tr>\n",
              "      <th>96</th>\n",
              "      <td>0.013969</td>\n",
              "      <td>0.998074</td>\n",
              "      <td>0.009817</td>\n",
              "      <td>0.998736</td>\n",
              "    </tr>\n",
              "    <tr>\n",
              "      <th>97</th>\n",
              "      <td>0.088092</td>\n",
              "      <td>0.998074</td>\n",
              "      <td>0.009797</td>\n",
              "      <td>0.998736</td>\n",
              "    </tr>\n",
              "    <tr>\n",
              "      <th>98</th>\n",
              "      <td>0.014733</td>\n",
              "      <td>0.998074</td>\n",
              "      <td>0.009814</td>\n",
              "      <td>0.998736</td>\n",
              "    </tr>\n",
              "    <tr>\n",
              "      <th>99</th>\n",
              "      <td>0.014334</td>\n",
              "      <td>0.998074</td>\n",
              "      <td>0.009823</td>\n",
              "      <td>0.998736</td>\n",
              "    </tr>\n",
              "  </tbody>\n",
              "</table>\n",
              "</div>"
            ],
            "text/plain": [
              "        loss  accuracy  val_loss  val_accuracy\n",
              "95  0.013965  0.998074  0.009797      0.998736\n",
              "96  0.013969  0.998074  0.009817      0.998736\n",
              "97  0.088092  0.998074  0.009797      0.998736\n",
              "98  0.014733  0.998074  0.009814      0.998736\n",
              "99  0.014334  0.998074  0.009823      0.998736"
            ]
          },
          "metadata": {
            "tags": []
          },
          "execution_count": 84
        }
      ]
    },
    {
      "cell_type": "code",
      "metadata": {
        "colab": {
          "base_uri": "https://localhost:8080/",
          "height": 535
        },
        "id": "i1m248J918AS",
        "outputId": "43738d6b-66bf-4698-d4d8-ec1c95006066"
      },
      "source": [
        "# Plotting Loss\n",
        "plt.plot(history['loss'])\n",
        "plt.plot(history['val_loss'])\n",
        "plt.title('Model Loss')\n",
        "plt.ylabel('Loss')\n",
        "plt.xlabel('Epoch')\n",
        "plt.legend(['Train', 'Test'], loc='upper right');"
      ],
      "execution_count": 85,
      "outputs": [
        {
          "output_type": "display_data",
          "data": {
            "image/png": "[encoded data removed]",
            "text/plain": [
              "<Figure size 1008x576 with 1 Axes>"
            ]
          },
          "metadata": {
            "tags": []
          }
        }
      ]
    },
    {
      "cell_type": "code",
      "metadata": {
        "id": "emgq3jFf2hoP"
      },
      "source": [
        "# Making Predictions On Test Data\n",
        "predictions = autoencoder.predict(test_data)\n",
        "predictions = predictions.flatten()"
      ],
      "execution_count": 88,
      "outputs": []
    },
    {
      "cell_type": "code",
      "metadata": {
        "colab": {
          "base_uri": "https://localhost:8080/"
        },
        "id": "K3vm3omLgisE",
        "outputId": "9dda1839-b460-4c55-8b85-5c03266ef5d2"
      },
      "source": [
        "predictions"
      ],
      "execution_count": 93,
      "outputs": [
        {
          "output_type": "execute_result",
          "data": {
            "text/plain": [
              "array([0., 0., 0., ..., 0., 0., 0.], dtype=float32)"
            ]
          },
          "metadata": {
            "tags": []
          },
          "execution_count": 93
        }
      ]
    },
    {
      "cell_type": "code",
      "metadata": {
        "colab": {
          "base_uri": "https://localhost:8080/"
        },
        "id": "B4jFANmN3rH7",
        "outputId": "e82ad912-6d7d-4a7a-9edc-5dad76ad3c9b"
      },
      "source": [
        "testing = autoencoder.evaluate(test_data, test_labels)"
      ],
      "execution_count": 90,
      "outputs": [
        {
          "output_type": "stream",
          "text": [
            "2671/2671 [==============================] - 3s 1ms/step - loss: 0.0027 - accuracy: 0.9987\n"
          ],
          "name": "stdout"
        }
      ]
    },
    {
      "cell_type": "code",
      "metadata": {
        "colab": {
          "base_uri": "https://localhost:8080/"
        },
        "id": "fgLj2OH733LD",
        "outputId": "c2cf8c57-1a3e-4e85-efa7-b1218ae93fb2"
      },
      "source": [
        "print(f\"Test Loss: {testing[0]}\")\n",
        "print(f\"Test Accuracy: {testing[1]}\")"
      ],
      "execution_count": 91,
      "outputs": [
        {
          "output_type": "stream",
          "text": [
            "Test Loss: 0.0026640095748007298\n",
            "Test Accuracy: 0.9987359642982483\n"
          ],
          "name": "stdout"
        }
      ]
    }
  ]
}