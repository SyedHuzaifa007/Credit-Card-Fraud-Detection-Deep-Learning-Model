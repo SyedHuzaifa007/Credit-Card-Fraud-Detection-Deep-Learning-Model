{
  "nbformat": 4,
  "nbformat_minor": 0,
  "metadata": {
    "kernelspec": {
      "display_name": "Python 3",
      "language": "python",
      "name": "python3"
    },
    "language_info": {
      "codemirror_mode": {
        "name": "ipython",
        "version": 3
      },
      "file_extension": ".py",
      "mimetype": "text/x-python",
      "name": "python",
      "nbconvert_exporter": "python",
      "pygments_lexer": "ipython3",
      "version": "3.7.3"
    },
    "colab": {
      "name": "Credit Card Fraud Detection assignment.ipynb",
      "provenance": [],
      "collapsed_sections": [],
      "include_colab_link": true
    }
  },
  "cells": [
    {
      "cell_type": "markdown",
      "metadata": {
        "id": "view-in-github",
        "colab_type": "text"
      },
      "source": [
        "<a href=\"https://colab.research.google.com/github/SyedHuzaifa007/Credit-Card-Fraud-Detection-Deep-Learning-Model/blob/main/Credit_Card_Fraud_Detection_assignment.ipynb\" target=\"_parent\"><img src=\"https://colab.research.google.com/assets/colab-badge.svg\" alt=\"Open In Colab\"/></a>"
      ]
    },
    {
      "cell_type": "markdown",
      "metadata": {
        "id": "MuDH34_xCUbd"
      },
      "source": [
        "# Credit Card Fraud Detection::"
      ]
    },
    {
      "cell_type": "markdown",
      "metadata": {
        "id": "ak21mTSXCUbt"
      },
      "source": [
        "Download dataset from this link:\n",
        "\n",
        "https://www.kaggle.com/mlg-ulb/creditcardfraud"
      ]
    },
    {
      "cell_type": "markdown",
      "metadata": {
        "id": "mX-eM6WOCUbu"
      },
      "source": [
        "# Description about dataset::"
      ]
    },
    {
      "cell_type": "markdown",
      "metadata": {
        "id": "dte_3cuRCUbu"
      },
      "source": [
        "The datasets contains transactions made by credit cards in September 2013 by european cardholders.\n",
        "This dataset presents transactions that occurred in two days, where we have 492 frauds out of 284,807 transactions. The dataset is highly unbalanced, the positive class (frauds) account for 0.172% of all transactions.\n",
        "\n",
        "It contains only numerical input variables which are the result of a PCA transformation. Unfortunately, due to confidentiality issues, we cannot provide the original features and more background information about the data. Features V1, V2, … V28 are the principal components obtained with PCA, the only features which have not been transformed with PCA are 'Time' and 'Amount'. Feature 'Time' contains the seconds elapsed between each transaction and the first transaction in the dataset. The feature 'Amount' is the transaction Amount, this feature can be used for example-dependant cost-senstive learning. \n",
        "\n",
        "\n",
        "### Feature 'Class' is the response variable and it takes value 1 in case of fraud and 0 otherwise."
      ]
    },
    {
      "cell_type": "markdown",
      "metadata": {
        "id": "gBrDnuZhCUbv"
      },
      "source": [
        "# WORKFLOW :"
      ]
    },
    {
      "cell_type": "markdown",
      "metadata": {
        "id": "ULhsuHUaCUbv"
      },
      "source": [
        "1.Load Data\n",
        "\n",
        "2.Check Missing Values ( If Exist ; Fill each record with mean of its feature )\n",
        "\n",
        "3.Standardized the Input Variables. \n",
        "\n",
        "4.Split into 50% Training(Samples,Labels) , 30% Test(Samples,Labels) and 20% Validation Data(Samples,Labels).\n",
        "\n",
        "5.Model : input Layer (No. of features ), 3 hidden layers including 10,8,6 unit & Output Layer with activation function relu/tanh (check by experiment).\n",
        "\n",
        "6.Compilation Step (Note : Its a Binary problem , select loss , metrics according to it)\n",
        "\n",
        "7.Train the Model with Epochs (100).\n",
        "\n",
        "8.If the model gets overfit tune your model by changing the units , No. of layers , epochs , add dropout layer or add Regularizer according to the need .\n",
        "\n",
        "9.Prediction should be > 92%\n",
        "10.Evaluation Step\n",
        "11Prediction\n"
      ]
    },
    {
      "cell_type": "markdown",
      "metadata": {
        "id": "uKLPh7H6CUbv"
      },
      "source": [
        "# Task::"
      ]
    },
    {
      "cell_type": "markdown",
      "metadata": {
        "id": "rdMRPkKDCUbw"
      },
      "source": [
        "## Identify fraudulent credit card transactions."
      ]
    },
    {
      "cell_type": "code",
      "metadata": {
        "colab": {
          "base_uri": "https://localhost:8080/"
        },
        "id": "vF_5qwRUf0Mx",
        "outputId": "2cfcb837-6ca8-44b9-d10a-0f796e79e6c2"
      },
      "source": [
        "from google.colab import drive\n",
        "drive.mount('/content/drive')"
      ],
      "execution_count": 1,
      "outputs": [
        {
          "output_type": "stream",
          "text": [
            "Mounted at /content/drive\n"
          ],
          "name": "stdout"
        }
      ]
    },
    {
      "cell_type": "code",
      "metadata": {
        "id": "rgWbfJtJCUbw"
      },
      "source": [
        "# Importing Modules\n",
        "import numpy as np\n",
        "import pandas as pd\n",
        "import matplotlib.pyplot as plt\n",
        "import seaborn as sns\n",
        "from scipy import stats\n",
        "import tensorflow as tf\n",
        "from tensorflow.keras.models import Sequential\n",
        "from tensorflow.keras.layers import Dense, Dropout\n",
        "from tensorflow.keras import regularizers\n",
        "import tensorboard\n",
        "from pylab import rcParams"
      ],
      "execution_count": 2,
      "outputs": []
    },
    {
      "cell_type": "code",
      "metadata": {
        "colab": {
          "base_uri": "https://localhost:8080/",
          "height": 221
        },
        "id": "KusaLjcjCUbx",
        "outputId": "d32ff736-5208-45ed-eb47-d1cfd83a55b7"
      },
      "source": [
        "# Loading The Data\n",
        "df = pd.read_csv(\"/content/drive/MyDrive/ML_Datasets/creditcard.csv\")\n",
        "df.head()"
      ],
      "execution_count": 3,
      "outputs": [
        {
          "output_type": "execute_result",
          "data": {
            "text/html": [
              "<div>\n",
              "<style scoped>\n",
              "    .dataframe tbody tr th:only-of-type {\n",
              "        vertical-align: middle;\n",
              "    }\n",
              "\n",
              "    .dataframe tbody tr th {\n",
              "        vertical-align: top;\n",
              "    }\n",
              "\n",
              "    .dataframe thead th {\n",
              "        text-align: right;\n",
              "    }\n",
              "</style>\n",
              "<table border=\"1\" class=\"dataframe\">\n",
              "  <thead>\n",
              "    <tr style=\"text-align: right;\">\n",
              "      <th></th>\n",
              "      <th>Time</th>\n",
              "      <th>V1</th>\n",
              "      <th>V2</th>\n",
              "      <th>V3</th>\n",
              "      <th>V4</th>\n",
              "      <th>V5</th>\n",
              "      <th>V6</th>\n",
              "      <th>V7</th>\n",
              "      <th>V8</th>\n",
              "      <th>V9</th>\n",
              "      <th>V10</th>\n",
              "      <th>V11</th>\n",
              "      <th>V12</th>\n",
              "      <th>V13</th>\n",
              "      <th>V14</th>\n",
              "      <th>V15</th>\n",
              "      <th>V16</th>\n",
              "      <th>V17</th>\n",
              "      <th>V18</th>\n",
              "      <th>V19</th>\n",
              "      <th>V20</th>\n",
              "      <th>V21</th>\n",
              "      <th>V22</th>\n",
              "      <th>V23</th>\n",
              "      <th>V24</th>\n",
              "      <th>V25</th>\n",
              "      <th>V26</th>\n",
              "      <th>V27</th>\n",
              "      <th>V28</th>\n",
              "      <th>Amount</th>\n",
              "      <th>Class</th>\n",
              "    </tr>\n",
              "  </thead>\n",
              "  <tbody>\n",
              "    <tr>\n",
              "      <th>0</th>\n",
              "      <td>0.0</td>\n",
              "      <td>-1.359807</td>\n",
              "      <td>-0.072781</td>\n",
              "      <td>2.536347</td>\n",
              "      <td>1.378155</td>\n",
              "      <td>-0.338321</td>\n",
              "      <td>0.462388</td>\n",
              "      <td>0.239599</td>\n",
              "      <td>0.098698</td>\n",
              "      <td>0.363787</td>\n",
              "      <td>0.090794</td>\n",
              "      <td>-0.551600</td>\n",
              "      <td>-0.617801</td>\n",
              "      <td>-0.991390</td>\n",
              "      <td>-0.311169</td>\n",
              "      <td>1.468177</td>\n",
              "      <td>-0.470401</td>\n",
              "      <td>0.207971</td>\n",
              "      <td>0.025791</td>\n",
              "      <td>0.403993</td>\n",
              "      <td>0.251412</td>\n",
              "      <td>-0.018307</td>\n",
              "      <td>0.277838</td>\n",
              "      <td>-0.110474</td>\n",
              "      <td>0.066928</td>\n",
              "      <td>0.128539</td>\n",
              "      <td>-0.189115</td>\n",
              "      <td>0.133558</td>\n",
              "      <td>-0.021053</td>\n",
              "      <td>149.62</td>\n",
              "      <td>0</td>\n",
              "    </tr>\n",
              "    <tr>\n",
              "      <th>1</th>\n",
              "      <td>0.0</td>\n",
              "      <td>1.191857</td>\n",
              "      <td>0.266151</td>\n",
              "      <td>0.166480</td>\n",
              "      <td>0.448154</td>\n",
              "      <td>0.060018</td>\n",
              "      <td>-0.082361</td>\n",
              "      <td>-0.078803</td>\n",
              "      <td>0.085102</td>\n",
              "      <td>-0.255425</td>\n",
              "      <td>-0.166974</td>\n",
              "      <td>1.612727</td>\n",
              "      <td>1.065235</td>\n",
              "      <td>0.489095</td>\n",
              "      <td>-0.143772</td>\n",
              "      <td>0.635558</td>\n",
              "      <td>0.463917</td>\n",
              "      <td>-0.114805</td>\n",
              "      <td>-0.183361</td>\n",
              "      <td>-0.145783</td>\n",
              "      <td>-0.069083</td>\n",
              "      <td>-0.225775</td>\n",
              "      <td>-0.638672</td>\n",
              "      <td>0.101288</td>\n",
              "      <td>-0.339846</td>\n",
              "      <td>0.167170</td>\n",
              "      <td>0.125895</td>\n",
              "      <td>-0.008983</td>\n",
              "      <td>0.014724</td>\n",
              "      <td>2.69</td>\n",
              "      <td>0</td>\n",
              "    </tr>\n",
              "    <tr>\n",
              "      <th>2</th>\n",
              "      <td>1.0</td>\n",
              "      <td>-1.358354</td>\n",
              "      <td>-1.340163</td>\n",
              "      <td>1.773209</td>\n",
              "      <td>0.379780</td>\n",
              "      <td>-0.503198</td>\n",
              "      <td>1.800499</td>\n",
              "      <td>0.791461</td>\n",
              "      <td>0.247676</td>\n",
              "      <td>-1.514654</td>\n",
              "      <td>0.207643</td>\n",
              "      <td>0.624501</td>\n",
              "      <td>0.066084</td>\n",
              "      <td>0.717293</td>\n",
              "      <td>-0.165946</td>\n",
              "      <td>2.345865</td>\n",
              "      <td>-2.890083</td>\n",
              "      <td>1.109969</td>\n",
              "      <td>-0.121359</td>\n",
              "      <td>-2.261857</td>\n",
              "      <td>0.524980</td>\n",
              "      <td>0.247998</td>\n",
              "      <td>0.771679</td>\n",
              "      <td>0.909412</td>\n",
              "      <td>-0.689281</td>\n",
              "      <td>-0.327642</td>\n",
              "      <td>-0.139097</td>\n",
              "      <td>-0.055353</td>\n",
              "      <td>-0.059752</td>\n",
              "      <td>378.66</td>\n",
              "      <td>0</td>\n",
              "    </tr>\n",
              "    <tr>\n",
              "      <th>3</th>\n",
              "      <td>1.0</td>\n",
              "      <td>-0.966272</td>\n",
              "      <td>-0.185226</td>\n",
              "      <td>1.792993</td>\n",
              "      <td>-0.863291</td>\n",
              "      <td>-0.010309</td>\n",
              "      <td>1.247203</td>\n",
              "      <td>0.237609</td>\n",
              "      <td>0.377436</td>\n",
              "      <td>-1.387024</td>\n",
              "      <td>-0.054952</td>\n",
              "      <td>-0.226487</td>\n",
              "      <td>0.178228</td>\n",
              "      <td>0.507757</td>\n",
              "      <td>-0.287924</td>\n",
              "      <td>-0.631418</td>\n",
              "      <td>-1.059647</td>\n",
              "      <td>-0.684093</td>\n",
              "      <td>1.965775</td>\n",
              "      <td>-1.232622</td>\n",
              "      <td>-0.208038</td>\n",
              "      <td>-0.108300</td>\n",
              "      <td>0.005274</td>\n",
              "      <td>-0.190321</td>\n",
              "      <td>-1.175575</td>\n",
              "      <td>0.647376</td>\n",
              "      <td>-0.221929</td>\n",
              "      <td>0.062723</td>\n",
              "      <td>0.061458</td>\n",
              "      <td>123.50</td>\n",
              "      <td>0</td>\n",
              "    </tr>\n",
              "    <tr>\n",
              "      <th>4</th>\n",
              "      <td>2.0</td>\n",
              "      <td>-1.158233</td>\n",
              "      <td>0.877737</td>\n",
              "      <td>1.548718</td>\n",
              "      <td>0.403034</td>\n",
              "      <td>-0.407193</td>\n",
              "      <td>0.095921</td>\n",
              "      <td>0.592941</td>\n",
              "      <td>-0.270533</td>\n",
              "      <td>0.817739</td>\n",
              "      <td>0.753074</td>\n",
              "      <td>-0.822843</td>\n",
              "      <td>0.538196</td>\n",
              "      <td>1.345852</td>\n",
              "      <td>-1.119670</td>\n",
              "      <td>0.175121</td>\n",
              "      <td>-0.451449</td>\n",
              "      <td>-0.237033</td>\n",
              "      <td>-0.038195</td>\n",
              "      <td>0.803487</td>\n",
              "      <td>0.408542</td>\n",
              "      <td>-0.009431</td>\n",
              "      <td>0.798278</td>\n",
              "      <td>-0.137458</td>\n",
              "      <td>0.141267</td>\n",
              "      <td>-0.206010</td>\n",
              "      <td>0.502292</td>\n",
              "      <td>0.219422</td>\n",
              "      <td>0.215153</td>\n",
              "      <td>69.99</td>\n",
              "      <td>0</td>\n",
              "    </tr>\n",
              "  </tbody>\n",
              "</table>\n",
              "</div>"
            ],
            "text/plain": [
              "   Time        V1        V2        V3  ...       V27       V28  Amount  Class\n",
              "0   0.0 -1.359807 -0.072781  2.536347  ...  0.133558 -0.021053  149.62      0\n",
              "1   0.0  1.191857  0.266151  0.166480  ... -0.008983  0.014724    2.69      0\n",
              "2   1.0 -1.358354 -1.340163  1.773209  ... -0.055353 -0.059752  378.66      0\n",
              "3   1.0 -0.966272 -0.185226  1.792993  ...  0.062723  0.061458  123.50      0\n",
              "4   2.0 -1.158233  0.877737  1.548718  ...  0.219422  0.215153   69.99      0\n",
              "\n",
              "[5 rows x 31 columns]"
            ]
          },
          "metadata": {
            "tags": []
          },
          "execution_count": 3
        }
      ]
    },
    {
      "cell_type": "code",
      "metadata": {
        "id": "pmA22XBcPdUR"
      },
      "source": [
        "# Configuring Modules\n",
        "%matplotlib inline\n",
        "sns.set(style='whitegrid', palette='muted', font_scale = 1.5)\n",
        "rcParams['figure.figsize'] = 14, 8\n",
        "Random_Seed = 42"
      ],
      "execution_count": 4,
      "outputs": []
    },
    {
      "cell_type": "code",
      "metadata": {
        "id": "T2BAfWkwCUbx"
      },
      "source": [
        "# Renaming Columns\n",
        "df.rename(columns = {\"Class\": \"Fraud\"}, inplace = True)"
      ],
      "execution_count": 5,
      "outputs": []
    },
    {
      "cell_type": "code",
      "metadata": {
        "colab": {
          "base_uri": "https://localhost:8080/",
          "height": 221
        },
        "id": "oStDzFuTvyg2",
        "outputId": "a1959c38-c377-4157-ced3-455b68635417"
      },
      "source": [
        " df.head()"
      ],
      "execution_count": 6,
      "outputs": [
        {
          "output_type": "execute_result",
          "data": {
            "text/html": [
              "<div>\n",
              "<style scoped>\n",
              "    .dataframe tbody tr th:only-of-type {\n",
              "        vertical-align: middle;\n",
              "    }\n",
              "\n",
              "    .dataframe tbody tr th {\n",
              "        vertical-align: top;\n",
              "    }\n",
              "\n",
              "    .dataframe thead th {\n",
              "        text-align: right;\n",
              "    }\n",
              "</style>\n",
              "<table border=\"1\" class=\"dataframe\">\n",
              "  <thead>\n",
              "    <tr style=\"text-align: right;\">\n",
              "      <th></th>\n",
              "      <th>Time</th>\n",
              "      <th>V1</th>\n",
              "      <th>V2</th>\n",
              "      <th>V3</th>\n",
              "      <th>V4</th>\n",
              "      <th>V5</th>\n",
              "      <th>V6</th>\n",
              "      <th>V7</th>\n",
              "      <th>V8</th>\n",
              "      <th>V9</th>\n",
              "      <th>V10</th>\n",
              "      <th>V11</th>\n",
              "      <th>V12</th>\n",
              "      <th>V13</th>\n",
              "      <th>V14</th>\n",
              "      <th>V15</th>\n",
              "      <th>V16</th>\n",
              "      <th>V17</th>\n",
              "      <th>V18</th>\n",
              "      <th>V19</th>\n",
              "      <th>V20</th>\n",
              "      <th>V21</th>\n",
              "      <th>V22</th>\n",
              "      <th>V23</th>\n",
              "      <th>V24</th>\n",
              "      <th>V25</th>\n",
              "      <th>V26</th>\n",
              "      <th>V27</th>\n",
              "      <th>V28</th>\n",
              "      <th>Amount</th>\n",
              "      <th>Fraud</th>\n",
              "    </tr>\n",
              "  </thead>\n",
              "  <tbody>\n",
              "    <tr>\n",
              "      <th>0</th>\n",
              "      <td>0.0</td>\n",
              "      <td>-1.359807</td>\n",
              "      <td>-0.072781</td>\n",
              "      <td>2.536347</td>\n",
              "      <td>1.378155</td>\n",
              "      <td>-0.338321</td>\n",
              "      <td>0.462388</td>\n",
              "      <td>0.239599</td>\n",
              "      <td>0.098698</td>\n",
              "      <td>0.363787</td>\n",
              "      <td>0.090794</td>\n",
              "      <td>-0.551600</td>\n",
              "      <td>-0.617801</td>\n",
              "      <td>-0.991390</td>\n",
              "      <td>-0.311169</td>\n",
              "      <td>1.468177</td>\n",
              "      <td>-0.470401</td>\n",
              "      <td>0.207971</td>\n",
              "      <td>0.025791</td>\n",
              "      <td>0.403993</td>\n",
              "      <td>0.251412</td>\n",
              "      <td>-0.018307</td>\n",
              "      <td>0.277838</td>\n",
              "      <td>-0.110474</td>\n",
              "      <td>0.066928</td>\n",
              "      <td>0.128539</td>\n",
              "      <td>-0.189115</td>\n",
              "      <td>0.133558</td>\n",
              "      <td>-0.021053</td>\n",
              "      <td>149.62</td>\n",
              "      <td>0</td>\n",
              "    </tr>\n",
              "    <tr>\n",
              "      <th>1</th>\n",
              "      <td>0.0</td>\n",
              "      <td>1.191857</td>\n",
              "      <td>0.266151</td>\n",
              "      <td>0.166480</td>\n",
              "      <td>0.448154</td>\n",
              "      <td>0.060018</td>\n",
              "      <td>-0.082361</td>\n",
              "      <td>-0.078803</td>\n",
              "      <td>0.085102</td>\n",
              "      <td>-0.255425</td>\n",
              "      <td>-0.166974</td>\n",
              "      <td>1.612727</td>\n",
              "      <td>1.065235</td>\n",
              "      <td>0.489095</td>\n",
              "      <td>-0.143772</td>\n",
              "      <td>0.635558</td>\n",
              "      <td>0.463917</td>\n",
              "      <td>-0.114805</td>\n",
              "      <td>-0.183361</td>\n",
              "      <td>-0.145783</td>\n",
              "      <td>-0.069083</td>\n",
              "      <td>-0.225775</td>\n",
              "      <td>-0.638672</td>\n",
              "      <td>0.101288</td>\n",
              "      <td>-0.339846</td>\n",
              "      <td>0.167170</td>\n",
              "      <td>0.125895</td>\n",
              "      <td>-0.008983</td>\n",
              "      <td>0.014724</td>\n",
              "      <td>2.69</td>\n",
              "      <td>0</td>\n",
              "    </tr>\n",
              "    <tr>\n",
              "      <th>2</th>\n",
              "      <td>1.0</td>\n",
              "      <td>-1.358354</td>\n",
              "      <td>-1.340163</td>\n",
              "      <td>1.773209</td>\n",
              "      <td>0.379780</td>\n",
              "      <td>-0.503198</td>\n",
              "      <td>1.800499</td>\n",
              "      <td>0.791461</td>\n",
              "      <td>0.247676</td>\n",
              "      <td>-1.514654</td>\n",
              "      <td>0.207643</td>\n",
              "      <td>0.624501</td>\n",
              "      <td>0.066084</td>\n",
              "      <td>0.717293</td>\n",
              "      <td>-0.165946</td>\n",
              "      <td>2.345865</td>\n",
              "      <td>-2.890083</td>\n",
              "      <td>1.109969</td>\n",
              "      <td>-0.121359</td>\n",
              "      <td>-2.261857</td>\n",
              "      <td>0.524980</td>\n",
              "      <td>0.247998</td>\n",
              "      <td>0.771679</td>\n",
              "      <td>0.909412</td>\n",
              "      <td>-0.689281</td>\n",
              "      <td>-0.327642</td>\n",
              "      <td>-0.139097</td>\n",
              "      <td>-0.055353</td>\n",
              "      <td>-0.059752</td>\n",
              "      <td>378.66</td>\n",
              "      <td>0</td>\n",
              "    </tr>\n",
              "    <tr>\n",
              "      <th>3</th>\n",
              "      <td>1.0</td>\n",
              "      <td>-0.966272</td>\n",
              "      <td>-0.185226</td>\n",
              "      <td>1.792993</td>\n",
              "      <td>-0.863291</td>\n",
              "      <td>-0.010309</td>\n",
              "      <td>1.247203</td>\n",
              "      <td>0.237609</td>\n",
              "      <td>0.377436</td>\n",
              "      <td>-1.387024</td>\n",
              "      <td>-0.054952</td>\n",
              "      <td>-0.226487</td>\n",
              "      <td>0.178228</td>\n",
              "      <td>0.507757</td>\n",
              "      <td>-0.287924</td>\n",
              "      <td>-0.631418</td>\n",
              "      <td>-1.059647</td>\n",
              "      <td>-0.684093</td>\n",
              "      <td>1.965775</td>\n",
              "      <td>-1.232622</td>\n",
              "      <td>-0.208038</td>\n",
              "      <td>-0.108300</td>\n",
              "      <td>0.005274</td>\n",
              "      <td>-0.190321</td>\n",
              "      <td>-1.175575</td>\n",
              "      <td>0.647376</td>\n",
              "      <td>-0.221929</td>\n",
              "      <td>0.062723</td>\n",
              "      <td>0.061458</td>\n",
              "      <td>123.50</td>\n",
              "      <td>0</td>\n",
              "    </tr>\n",
              "    <tr>\n",
              "      <th>4</th>\n",
              "      <td>2.0</td>\n",
              "      <td>-1.158233</td>\n",
              "      <td>0.877737</td>\n",
              "      <td>1.548718</td>\n",
              "      <td>0.403034</td>\n",
              "      <td>-0.407193</td>\n",
              "      <td>0.095921</td>\n",
              "      <td>0.592941</td>\n",
              "      <td>-0.270533</td>\n",
              "      <td>0.817739</td>\n",
              "      <td>0.753074</td>\n",
              "      <td>-0.822843</td>\n",
              "      <td>0.538196</td>\n",
              "      <td>1.345852</td>\n",
              "      <td>-1.119670</td>\n",
              "      <td>0.175121</td>\n",
              "      <td>-0.451449</td>\n",
              "      <td>-0.237033</td>\n",
              "      <td>-0.038195</td>\n",
              "      <td>0.803487</td>\n",
              "      <td>0.408542</td>\n",
              "      <td>-0.009431</td>\n",
              "      <td>0.798278</td>\n",
              "      <td>-0.137458</td>\n",
              "      <td>0.141267</td>\n",
              "      <td>-0.206010</td>\n",
              "      <td>0.502292</td>\n",
              "      <td>0.219422</td>\n",
              "      <td>0.215153</td>\n",
              "      <td>69.99</td>\n",
              "      <td>0</td>\n",
              "    </tr>\n",
              "  </tbody>\n",
              "</table>\n",
              "</div>"
            ],
            "text/plain": [
              "   Time        V1        V2        V3  ...       V27       V28  Amount  Fraud\n",
              "0   0.0 -1.359807 -0.072781  2.536347  ...  0.133558 -0.021053  149.62      0\n",
              "1   0.0  1.191857  0.266151  0.166480  ... -0.008983  0.014724    2.69      0\n",
              "2   1.0 -1.358354 -1.340163  1.773209  ... -0.055353 -0.059752  378.66      0\n",
              "3   1.0 -0.966272 -0.185226  1.792993  ...  0.062723  0.061458  123.50      0\n",
              "4   2.0 -1.158233  0.877737  1.548718  ...  0.219422  0.215153   69.99      0\n",
              "\n",
              "[5 rows x 31 columns]"
            ]
          },
          "metadata": {
            "tags": []
          },
          "execution_count": 6
        }
      ]
    },
    {
      "cell_type": "code",
      "metadata": {
        "colab": {
          "base_uri": "https://localhost:8080/"
        },
        "id": "cJMf1iEbQKdQ",
        "outputId": "0f425dd5-0c5c-47dc-fa97-82c21db07abe"
      },
      "source": [
        "df.shape"
      ],
      "execution_count": 7,
      "outputs": [
        {
          "output_type": "execute_result",
          "data": {
            "text/plain": [
              "(284807, 31)"
            ]
          },
          "metadata": {
            "tags": []
          },
          "execution_count": 7
        }
      ]
    },
    {
      "cell_type": "code",
      "metadata": {
        "colab": {
          "base_uri": "https://localhost:8080/"
        },
        "id": "IMCRpYlHQOLj",
        "outputId": "f6c1d684-fede-4eb5-e213-08879ffe5549"
      },
      "source": [
        "# Checking Data For Null Values\n",
        "df.isnull().sum()"
      ],
      "execution_count": 8,
      "outputs": [
        {
          "output_type": "execute_result",
          "data": {
            "text/plain": [
              "Time      0\n",
              "V1        0\n",
              "V2        0\n",
              "V3        0\n",
              "V4        0\n",
              "V5        0\n",
              "V6        0\n",
              "V7        0\n",
              "V8        0\n",
              "V9        0\n",
              "V10       0\n",
              "V11       0\n",
              "V12       0\n",
              "V13       0\n",
              "V14       0\n",
              "V15       0\n",
              "V16       0\n",
              "V17       0\n",
              "V18       0\n",
              "V19       0\n",
              "V20       0\n",
              "V21       0\n",
              "V22       0\n",
              "V23       0\n",
              "V24       0\n",
              "V25       0\n",
              "V26       0\n",
              "V27       0\n",
              "V28       0\n",
              "Amount    0\n",
              "Fraud     0\n",
              "dtype: int64"
            ]
          },
          "metadata": {
            "tags": []
          },
          "execution_count": 8
        }
      ]
    },
    {
      "cell_type": "markdown",
      "metadata": {
        "id": "k67LLHi_QV9c"
      },
      "source": [
        "OUR DATA CONTAINS NO NULL VALUES"
      ]
    },
    {
      "cell_type": "code",
      "metadata": {
        "colab": {
          "base_uri": "https://localhost:8080/",
          "height": 665
        },
        "id": "V5-ThNAmm3a9",
        "outputId": "c69fc114-1d37-48a1-f6f1-616bfa22fac4"
      },
      "source": [
        "# Checking Correlations\n",
        "corr = df.corr()\n",
        "\n",
        "# generate a mask for the upper triangle\n",
        "mask = np.zeros_like(corr, dtype=np.bool)\n",
        "mask[np.triu_indices_from(mask)] = True\n",
        "\n",
        "# figure size\n",
        "f, ax = plt.subplots(figsize=(20, 10))\n",
        "\n",
        "# generate a custom diverging colormap\n",
        "cmap = sns.diverging_palette(220, 10, as_cmap=True)\n",
        "\n",
        "# draw the heatmap with the mask and correct aspect ratio\n",
        "sns.heatmap(corr, mask=mask, cmap='CMRmap_r', vmax=.3, center=0, square=True,\n",
        "            linewidths=.5, cbar_kws={\"shrink\": .5})"
      ],
      "execution_count": 9,
      "outputs": [
        {
          "output_type": "execute_result",
          "data": {
            "text/plain": [
              "<matplotlib.axes._subplots.AxesSubplot at 0x7f5e98f8bb90>"
            ]
          },
          "metadata": {
            "tags": []
          },
          "execution_count": 9
        },
        {
          "output_type": "display_data",
          "data": {
            "image/png": "[encoded data removed]",
            "text/plain": [
              "<Figure size 1440x720 with 2 Axes>"
            ]
          },
          "metadata": {
            "tags": []
          }
        }
      ]
    },
    {
      "cell_type": "code",
      "metadata": {
        "colab": {
          "base_uri": "https://localhost:8080/",
          "height": 535
        },
        "id": "E-yn1a5W5R1K",
        "outputId": "d8d594fa-167a-4722-8311-c2a4a40433c4"
      },
      "source": [
        "labels = ['Valid', 'Fraud']\n",
        "count_classes = pd.value_counts(df['Fraud'], sort = True)\n",
        "count_classes.plot(kind = 'bar', rot=0)\n",
        "plt.xticks(range(2), labels)\n",
        "plt.title(\"Transaction Class Distribution\")\n",
        "plt.xlabel(\"Class\")\n",
        "plt.ylabel(\"Number of Observations\");"
      ],
      "execution_count": 10,
      "outputs": [
        {
          "output_type": "display_data",
          "data": {
            "image/png": "[encoded data removed]",
            "text/plain": [
              "<Figure size 1008x576 with 1 Axes>"
            ]
          },
          "metadata": {
            "tags": []
          }
        }
      ]
    },
    {
      "cell_type": "code",
      "metadata": {
        "colab": {
          "base_uri": "https://localhost:8080/"
        },
        "id": "0IDKN_a0g6Jj",
        "outputId": "ca573374-9b98-4b45-c4c8-ae9a50a1c1b9"
      },
      "source": [
        "len(df)"
      ],
      "execution_count": 11,
      "outputs": [
        {
          "output_type": "execute_result",
          "data": {
            "text/plain": [
              "284807"
            ]
          },
          "metadata": {
            "tags": []
          },
          "execution_count": 11
        }
      ]
    },
    {
      "cell_type": "markdown",
      "metadata": {
        "id": "9RfRDFtZhUV8"
      },
      "source": [
        "There are total 284807 number of transactions"
      ]
    },
    {
      "cell_type": "code",
      "metadata": {
        "colab": {
          "base_uri": "https://localhost:8080/"
        },
        "id": "2Fh_MWithc6K",
        "outputId": "93572b16-271e-487b-8b16-b155e0e4f410"
      },
      "source": [
        "len_fraud = len(df[df.Fraud ==  1])\n",
        "len_fraud"
      ],
      "execution_count": 14,
      "outputs": [
        {
          "output_type": "execute_result",
          "data": {
            "text/plain": [
              "492"
            ]
          },
          "metadata": {
            "tags": []
          },
          "execution_count": 14
        }
      ]
    },
    {
      "cell_type": "markdown",
      "metadata": {
        "id": "J9xnV2V6iWgN"
      },
      "source": [
        "Out of 284807 transactions 492 are the fraud transactions"
      ]
    },
    {
      "cell_type": "code",
      "metadata": {
        "colab": {
          "base_uri": "https://localhost:8080/"
        },
        "id": "6A1Myx-liYLZ",
        "outputId": "6890c791-adeb-4811-9971-e1ce767c63a1"
      },
      "source": [
        "len_valid = 284807 - 492\n",
        "len_valid"
      ],
      "execution_count": 15,
      "outputs": [
        {
          "output_type": "execute_result",
          "data": {
            "text/plain": [
              "284315"
            ]
          },
          "metadata": {
            "tags": []
          },
          "execution_count": 15
        }
      ]
    },
    {
      "cell_type": "markdown",
      "metadata": {
        "id": "bNjRC8ugiz30"
      },
      "source": [
        "Out of 284807 transactions 284315 are the valid transactions"
      ]
    },
    {
      "cell_type": "code",
      "metadata": {
        "colab": {
          "base_uri": "https://localhost:8080/"
        },
        "id": "5lgYeuh3i4pt",
        "outputId": "c777f5c0-6902-4e37-b735-237ca35b2d08"
      },
      "source": [
        "perc_fraud = (len_fraud * 100) / len(df)\n",
        "perc_fraud"
      ],
      "execution_count": 16,
      "outputs": [
        {
          "output_type": "execute_result",
          "data": {
            "text/plain": [
              "0.1727485630620034"
            ]
          },
          "metadata": {
            "tags": []
          },
          "execution_count": 16
        }
      ]
    },
    {
      "cell_type": "markdown",
      "metadata": {
        "id": "pcPJ5MsMjXhl"
      },
      "source": [
        "As you can see out of total transactions only 0.17 % are the fraud transactions.It means that we have highly imbalance dataset in our hand. There is a large margin between the valid transactions and fraud transactions."
      ]
    },
    {
      "cell_type": "code",
      "metadata": {
        "id": "geMt_1EKCUby"
      },
      "source": [
        "# Renaming The Columns\n",
        "Fraud_df = df[df.Fraud == 1]\n",
        "Valid_df = df[df.Fraud == 0]"
      ],
      "execution_count": 17,
      "outputs": []
    },
    {
      "cell_type": "code",
      "metadata": {
        "id": "4dVTVTCFCUbz",
        "colab": {
          "base_uri": "https://localhost:8080/"
        },
        "outputId": "980e53db-3c4a-4993-b585-fcb5916e82db"
      },
      "source": [
        "# Checking Important Stats of Amount used in Fraud Transactions\n",
        "Fraud_df.Amount.describe()"
      ],
      "execution_count": 18,
      "outputs": [
        {
          "output_type": "execute_result",
          "data": {
            "text/plain": [
              "count     492.000000\n",
              "mean      122.211321\n",
              "std       256.683288\n",
              "min         0.000000\n",
              "25%         1.000000\n",
              "50%         9.250000\n",
              "75%       105.890000\n",
              "max      2125.870000\n",
              "Name: Amount, dtype: float64"
            ]
          },
          "metadata": {
            "tags": []
          },
          "execution_count": 18
        }
      ]
    },
    {
      "cell_type": "code",
      "metadata": {
        "id": "WM4n9N33CUbz",
        "colab": {
          "base_uri": "https://localhost:8080/"
        },
        "outputId": "1446e177-7e89-4dd9-c384-5c316aa7b093"
      },
      "source": [
        "# Checking Imprtant Stats of Amount used in Valid Transactions\n",
        "Valid_df.Amount.describe()"
      ],
      "execution_count": 19,
      "outputs": [
        {
          "output_type": "execute_result",
          "data": {
            "text/plain": [
              "count    284315.000000\n",
              "mean         88.291022\n",
              "std         250.105092\n",
              "min           0.000000\n",
              "25%           5.650000\n",
              "50%          22.000000\n",
              "75%          77.050000\n",
              "max       25691.160000\n",
              "Name: Amount, dtype: float64"
            ]
          },
          "metadata": {
            "tags": []
          },
          "execution_count": 19
        }
      ]
    },
    {
      "cell_type": "code",
      "metadata": {
        "id": "Q6NhhhQtCUbz",
        "colab": {
          "base_uri": "https://localhost:8080/",
          "height": 573
        },
        "outputId": "c4d1f9c1-4a30-40ec-c2b7-61dbf056ab94"
      },
      "source": [
        "# Amount per transaction by class\n",
        "f, (ax1, ax2) = plt.subplots(2, 1, sharex=True)\n",
        "f.suptitle('Amount Per Transaction')\n",
        "\n",
        "bins = 50\n",
        "\n",
        "ax1.hist(Fraud_df.Amount, bins = bins, color='blue')\n",
        "ax1.set_title('Fraud Transactions')\n",
        "\n",
        "ax2.hist(Valid_df.Amount, bins = bins, color='red', alpha = 0.5)\n",
        "ax2.set_title('Valid Transactions')\n",
        "\n",
        "plt.xlabel('Amount ($)')\n",
        "plt.ylabel('Number of Transactions')\n",
        "plt.xlim((0, 20000))\n",
        "plt.yscale('log')\n",
        "plt.show();"
      ],
      "execution_count": 20,
      "outputs": [
        {
          "output_type": "display_data",
          "data": {
            "image/png": "[encoded data removed]",
            "text/plain": [
              "<Figure size 1008x576 with 2 Axes>"
            ]
          },
          "metadata": {
            "tags": []
          }
        }
      ]
    },
    {
      "cell_type": "code",
      "metadata": {
        "id": "bZ2VVGtxCUbz",
        "colab": {
          "base_uri": "https://localhost:8080/",
          "height": 573
        },
        "outputId": "938e9277-cede-4d4a-ad14-e353f203a576"
      },
      "source": [
        "# Time of transaction vs Amount by class\n",
        "f, (ax1, ax2) = plt.subplots(2, 1, sharex=True)\n",
        "f.suptitle('Time of Transaction VS Amount')\n",
        "\n",
        "ax1.scatter(Fraud_df.Time, Fraud_df.Amount)\n",
        "ax1.set_title('Fraud Transactions')\n",
        "\n",
        "ax2.scatter(Valid_df.Time,Valid_df.Amount)\n",
        "ax2.set_title('Valid Transactions')\n",
        "\n",
        "plt.xlabel('Time (in Seconds)')\n",
        "plt.ylabel('Amount')\n",
        "plt.show()"
      ],
      "execution_count": 21,
      "outputs": [
        {
          "output_type": "display_data",
          "data": {
            "image/png": "[encoded data removed]",
            "text/plain": [
              "<Figure size 1008x576 with 2 Axes>"
            ]
          },
          "metadata": {
            "tags": []
          }
        }
      ]
    },
    {
      "cell_type": "code",
      "metadata": {
        "id": "zPWOjARG72ts"
      },
      "source": [
        "# Normalizing Data\n",
        "# We Need To Normalize Two Features: Time And Amount\n",
        "from sklearn.preprocessing import StandardScaler\n",
        "df_norm = df\n",
        "df_norm['Time'] = StandardScaler().fit_transform(df_norm['Time'].values.reshape(-1, 1))\n",
        "df_norm['Amount'] = StandardScaler().fit_transform(df_norm['Amount'].values.reshape(-1, 1))"
      ],
      "execution_count": 22,
      "outputs": []
    },
    {
      "cell_type": "markdown",
      "metadata": {
        "id": "K8sXKIvh9Pvh"
      },
      "source": [
        "Splitting Into Testing and Training Data"
      ]
    },
    {
      "cell_type": "code",
      "metadata": {
        "colab": {
          "base_uri": "https://localhost:8080/"
        },
        "id": "D-pi_aIR4y68",
        "outputId": "5bfc2895-0245-4b72-e173-bbcfdef70e14"
      },
      "source": [
        "# Training Data\n",
        "train_data = df_norm.iloc[:199365,:]\n",
        "train_data.shape"
      ],
      "execution_count": 23,
      "outputs": [
        {
          "output_type": "execute_result",
          "data": {
            "text/plain": [
              "(199365, 31)"
            ]
          },
          "metadata": {
            "tags": []
          },
          "execution_count": 23
        }
      ]
    },
    {
      "cell_type": "code",
      "metadata": {
        "colab": {
          "base_uri": "https://localhost:8080/"
        },
        "id": "Gfl-fR5z5Ead",
        "outputId": "f589df92-7868-45a3-9061-37fca679c602"
      },
      "source": [
        "# Testing Data\n",
        "test_data = df_norm.iloc[199365:,:]\n",
        "test_data.shape"
      ],
      "execution_count": 24,
      "outputs": [
        {
          "output_type": "execute_result",
          "data": {
            "text/plain": [
              "(85442, 31)"
            ]
          },
          "metadata": {
            "tags": []
          },
          "execution_count": 24
        }
      ]
    },
    {
      "cell_type": "code",
      "metadata": {
        "colab": {
          "base_uri": "https://localhost:8080/",
          "height": 221
        },
        "id": "5u2O87f_5PRu",
        "outputId": "b95862a5-2156-4a03-a081-e06a041914f8"
      },
      "source": [
        "train_data.head()"
      ],
      "execution_count": 25,
      "outputs": [
        {
          "output_type": "execute_result",
          "data": {
            "text/html": [
              "<div>\n",
              "<style scoped>\n",
              "    .dataframe tbody tr th:only-of-type {\n",
              "        vertical-align: middle;\n",
              "    }\n",
              "\n",
              "    .dataframe tbody tr th {\n",
              "        vertical-align: top;\n",
              "    }\n",
              "\n",
              "    .dataframe thead th {\n",
              "        text-align: right;\n",
              "    }\n",
              "</style>\n",
              "<table border=\"1\" class=\"dataframe\">\n",
              "  <thead>\n",
              "    <tr style=\"text-align: right;\">\n",
              "      <th></th>\n",
              "      <th>Time</th>\n",
              "      <th>V1</th>\n",
              "      <th>V2</th>\n",
              "      <th>V3</th>\n",
              "      <th>V4</th>\n",
              "      <th>V5</th>\n",
              "      <th>V6</th>\n",
              "      <th>V7</th>\n",
              "      <th>V8</th>\n",
              "      <th>V9</th>\n",
              "      <th>V10</th>\n",
              "      <th>V11</th>\n",
              "      <th>V12</th>\n",
              "      <th>V13</th>\n",
              "      <th>V14</th>\n",
              "      <th>V15</th>\n",
              "      <th>V16</th>\n",
              "      <th>V17</th>\n",
              "      <th>V18</th>\n",
              "      <th>V19</th>\n",
              "      <th>V20</th>\n",
              "      <th>V21</th>\n",
              "      <th>V22</th>\n",
              "      <th>V23</th>\n",
              "      <th>V24</th>\n",
              "      <th>V25</th>\n",
              "      <th>V26</th>\n",
              "      <th>V27</th>\n",
              "      <th>V28</th>\n",
              "      <th>Amount</th>\n",
              "      <th>Fraud</th>\n",
              "    </tr>\n",
              "  </thead>\n",
              "  <tbody>\n",
              "    <tr>\n",
              "      <th>0</th>\n",
              "      <td>-1.996583</td>\n",
              "      <td>-1.359807</td>\n",
              "      <td>-0.072781</td>\n",
              "      <td>2.536347</td>\n",
              "      <td>1.378155</td>\n",
              "      <td>-0.338321</td>\n",
              "      <td>0.462388</td>\n",
              "      <td>0.239599</td>\n",
              "      <td>0.098698</td>\n",
              "      <td>0.363787</td>\n",
              "      <td>0.090794</td>\n",
              "      <td>-0.551600</td>\n",
              "      <td>-0.617801</td>\n",
              "      <td>-0.991390</td>\n",
              "      <td>-0.311169</td>\n",
              "      <td>1.468177</td>\n",
              "      <td>-0.470401</td>\n",
              "      <td>0.207971</td>\n",
              "      <td>0.025791</td>\n",
              "      <td>0.403993</td>\n",
              "      <td>0.251412</td>\n",
              "      <td>-0.018307</td>\n",
              "      <td>0.277838</td>\n",
              "      <td>-0.110474</td>\n",
              "      <td>0.066928</td>\n",
              "      <td>0.128539</td>\n",
              "      <td>-0.189115</td>\n",
              "      <td>0.133558</td>\n",
              "      <td>-0.021053</td>\n",
              "      <td>0.244964</td>\n",
              "      <td>0</td>\n",
              "    </tr>\n",
              "    <tr>\n",
              "      <th>1</th>\n",
              "      <td>-1.996583</td>\n",
              "      <td>1.191857</td>\n",
              "      <td>0.266151</td>\n",
              "      <td>0.166480</td>\n",
              "      <td>0.448154</td>\n",
              "      <td>0.060018</td>\n",
              "      <td>-0.082361</td>\n",
              "      <td>-0.078803</td>\n",
              "      <td>0.085102</td>\n",
              "      <td>-0.255425</td>\n",
              "      <td>-0.166974</td>\n",
              "      <td>1.612727</td>\n",
              "      <td>1.065235</td>\n",
              "      <td>0.489095</td>\n",
              "      <td>-0.143772</td>\n",
              "      <td>0.635558</td>\n",
              "      <td>0.463917</td>\n",
              "      <td>-0.114805</td>\n",
              "      <td>-0.183361</td>\n",
              "      <td>-0.145783</td>\n",
              "      <td>-0.069083</td>\n",
              "      <td>-0.225775</td>\n",
              "      <td>-0.638672</td>\n",
              "      <td>0.101288</td>\n",
              "      <td>-0.339846</td>\n",
              "      <td>0.167170</td>\n",
              "      <td>0.125895</td>\n",
              "      <td>-0.008983</td>\n",
              "      <td>0.014724</td>\n",
              "      <td>-0.342475</td>\n",
              "      <td>0</td>\n",
              "    </tr>\n",
              "    <tr>\n",
              "      <th>2</th>\n",
              "      <td>-1.996562</td>\n",
              "      <td>-1.358354</td>\n",
              "      <td>-1.340163</td>\n",
              "      <td>1.773209</td>\n",
              "      <td>0.379780</td>\n",
              "      <td>-0.503198</td>\n",
              "      <td>1.800499</td>\n",
              "      <td>0.791461</td>\n",
              "      <td>0.247676</td>\n",
              "      <td>-1.514654</td>\n",
              "      <td>0.207643</td>\n",
              "      <td>0.624501</td>\n",
              "      <td>0.066084</td>\n",
              "      <td>0.717293</td>\n",
              "      <td>-0.165946</td>\n",
              "      <td>2.345865</td>\n",
              "      <td>-2.890083</td>\n",
              "      <td>1.109969</td>\n",
              "      <td>-0.121359</td>\n",
              "      <td>-2.261857</td>\n",
              "      <td>0.524980</td>\n",
              "      <td>0.247998</td>\n",
              "      <td>0.771679</td>\n",
              "      <td>0.909412</td>\n",
              "      <td>-0.689281</td>\n",
              "      <td>-0.327642</td>\n",
              "      <td>-0.139097</td>\n",
              "      <td>-0.055353</td>\n",
              "      <td>-0.059752</td>\n",
              "      <td>1.160686</td>\n",
              "      <td>0</td>\n",
              "    </tr>\n",
              "    <tr>\n",
              "      <th>3</th>\n",
              "      <td>-1.996562</td>\n",
              "      <td>-0.966272</td>\n",
              "      <td>-0.185226</td>\n",
              "      <td>1.792993</td>\n",
              "      <td>-0.863291</td>\n",
              "      <td>-0.010309</td>\n",
              "      <td>1.247203</td>\n",
              "      <td>0.237609</td>\n",
              "      <td>0.377436</td>\n",
              "      <td>-1.387024</td>\n",
              "      <td>-0.054952</td>\n",
              "      <td>-0.226487</td>\n",
              "      <td>0.178228</td>\n",
              "      <td>0.507757</td>\n",
              "      <td>-0.287924</td>\n",
              "      <td>-0.631418</td>\n",
              "      <td>-1.059647</td>\n",
              "      <td>-0.684093</td>\n",
              "      <td>1.965775</td>\n",
              "      <td>-1.232622</td>\n",
              "      <td>-0.208038</td>\n",
              "      <td>-0.108300</td>\n",
              "      <td>0.005274</td>\n",
              "      <td>-0.190321</td>\n",
              "      <td>-1.175575</td>\n",
              "      <td>0.647376</td>\n",
              "      <td>-0.221929</td>\n",
              "      <td>0.062723</td>\n",
              "      <td>0.061458</td>\n",
              "      <td>0.140534</td>\n",
              "      <td>0</td>\n",
              "    </tr>\n",
              "    <tr>\n",
              "      <th>4</th>\n",
              "      <td>-1.996541</td>\n",
              "      <td>-1.158233</td>\n",
              "      <td>0.877737</td>\n",
              "      <td>1.548718</td>\n",
              "      <td>0.403034</td>\n",
              "      <td>-0.407193</td>\n",
              "      <td>0.095921</td>\n",
              "      <td>0.592941</td>\n",
              "      <td>-0.270533</td>\n",
              "      <td>0.817739</td>\n",
              "      <td>0.753074</td>\n",
              "      <td>-0.822843</td>\n",
              "      <td>0.538196</td>\n",
              "      <td>1.345852</td>\n",
              "      <td>-1.119670</td>\n",
              "      <td>0.175121</td>\n",
              "      <td>-0.451449</td>\n",
              "      <td>-0.237033</td>\n",
              "      <td>-0.038195</td>\n",
              "      <td>0.803487</td>\n",
              "      <td>0.408542</td>\n",
              "      <td>-0.009431</td>\n",
              "      <td>0.798278</td>\n",
              "      <td>-0.137458</td>\n",
              "      <td>0.141267</td>\n",
              "      <td>-0.206010</td>\n",
              "      <td>0.502292</td>\n",
              "      <td>0.219422</td>\n",
              "      <td>0.215153</td>\n",
              "      <td>-0.073403</td>\n",
              "      <td>0</td>\n",
              "    </tr>\n",
              "  </tbody>\n",
              "</table>\n",
              "</div>"
            ],
            "text/plain": [
              "       Time        V1        V2        V3  ...       V27       V28    Amount  Fraud\n",
              "0 -1.996583 -1.359807 -0.072781  2.536347  ...  0.133558 -0.021053  0.244964      0\n",
              "1 -1.996583  1.191857  0.266151  0.166480  ... -0.008983  0.014724 -0.342475      0\n",
              "2 -1.996562 -1.358354 -1.340163  1.773209  ... -0.055353 -0.059752  1.160686      0\n",
              "3 -1.996562 -0.966272 -0.185226  1.792993  ...  0.062723  0.061458  0.140534      0\n",
              "4 -1.996541 -1.158233  0.877737  1.548718  ...  0.219422  0.215153 -0.073403      0\n",
              "\n",
              "[5 rows x 31 columns]"
            ]
          },
          "metadata": {
            "tags": []
          },
          "execution_count": 25
        }
      ]
    },
    {
      "cell_type": "code",
      "metadata": {
        "colab": {
          "base_uri": "https://localhost:8080/",
          "height": 221
        },
        "id": "wZc3H2A15UMX",
        "outputId": "76c2556c-c18d-48a3-8d16-785c51706ced"
      },
      "source": [
        "test_data.head()"
      ],
      "execution_count": 26,
      "outputs": [
        {
          "output_type": "execute_result",
          "data": {
            "text/html": [
              "<div>\n",
              "<style scoped>\n",
              "    .dataframe tbody tr th:only-of-type {\n",
              "        vertical-align: middle;\n",
              "    }\n",
              "\n",
              "    .dataframe tbody tr th {\n",
              "        vertical-align: top;\n",
              "    }\n",
              "\n",
              "    .dataframe thead th {\n",
              "        text-align: right;\n",
              "    }\n",
              "</style>\n",
              "<table border=\"1\" class=\"dataframe\">\n",
              "  <thead>\n",
              "    <tr style=\"text-align: right;\">\n",
              "      <th></th>\n",
              "      <th>Time</th>\n",
              "      <th>V1</th>\n",
              "      <th>V2</th>\n",
              "      <th>V3</th>\n",
              "      <th>V4</th>\n",
              "      <th>V5</th>\n",
              "      <th>V6</th>\n",
              "      <th>V7</th>\n",
              "      <th>V8</th>\n",
              "      <th>V9</th>\n",
              "      <th>V10</th>\n",
              "      <th>V11</th>\n",
              "      <th>V12</th>\n",
              "      <th>V13</th>\n",
              "      <th>V14</th>\n",
              "      <th>V15</th>\n",
              "      <th>V16</th>\n",
              "      <th>V17</th>\n",
              "      <th>V18</th>\n",
              "      <th>V19</th>\n",
              "      <th>V20</th>\n",
              "      <th>V21</th>\n",
              "      <th>V22</th>\n",
              "      <th>V23</th>\n",
              "      <th>V24</th>\n",
              "      <th>V25</th>\n",
              "      <th>V26</th>\n",
              "      <th>V27</th>\n",
              "      <th>V28</th>\n",
              "      <th>Amount</th>\n",
              "      <th>Fraud</th>\n",
              "    </tr>\n",
              "  </thead>\n",
              "  <tbody>\n",
              "    <tr>\n",
              "      <th>199365</th>\n",
              "      <td>0.802626</td>\n",
              "      <td>2.152590</td>\n",
              "      <td>-0.900447</td>\n",
              "      <td>-1.092456</td>\n",
              "      <td>-0.994969</td>\n",
              "      <td>-0.613447</td>\n",
              "      <td>-0.760012</td>\n",
              "      <td>-0.530218</td>\n",
              "      <td>-0.222248</td>\n",
              "      <td>-0.214416</td>\n",
              "      <td>0.746967</td>\n",
              "      <td>-1.256213</td>\n",
              "      <td>-0.762171</td>\n",
              "      <td>0.086847</td>\n",
              "      <td>-0.133543</td>\n",
              "      <td>0.365813</td>\n",
              "      <td>1.400839</td>\n",
              "      <td>-0.115840</td>\n",
              "      <td>-1.594770</td>\n",
              "      <td>1.026636</td>\n",
              "      <td>0.060715</td>\n",
              "      <td>-0.281725</td>\n",
              "      <td>-0.987236</td>\n",
              "      <td>0.358646</td>\n",
              "      <td>-0.782338</td>\n",
              "      <td>-0.480245</td>\n",
              "      <td>-0.647930</td>\n",
              "      <td>-0.023563</td>\n",
              "      <td>-0.044354</td>\n",
              "      <td>-0.129536</td>\n",
              "      <td>0</td>\n",
              "    </tr>\n",
              "    <tr>\n",
              "      <th>199366</th>\n",
              "      <td>0.802626</td>\n",
              "      <td>1.811278</td>\n",
              "      <td>0.224393</td>\n",
              "      <td>0.542888</td>\n",
              "      <td>3.606222</td>\n",
              "      <td>-0.162910</td>\n",
              "      <td>1.171241</td>\n",
              "      <td>-0.874598</td>\n",
              "      <td>0.419449</td>\n",
              "      <td>-0.546470</td>\n",
              "      <td>1.493825</td>\n",
              "      <td>0.583293</td>\n",
              "      <td>0.884700</td>\n",
              "      <td>0.831223</td>\n",
              "      <td>-0.293394</td>\n",
              "      <td>-0.870717</td>\n",
              "      <td>1.653737</td>\n",
              "      <td>-1.335181</td>\n",
              "      <td>0.431294</td>\n",
              "      <td>-1.605950</td>\n",
              "      <td>-0.198616</td>\n",
              "      <td>0.109290</td>\n",
              "      <td>0.345703</td>\n",
              "      <td>0.365984</td>\n",
              "      <td>0.663253</td>\n",
              "      <td>-0.531272</td>\n",
              "      <td>-0.225013</td>\n",
              "      <td>0.032563</td>\n",
              "      <td>-0.022693</td>\n",
              "      <td>-0.350071</td>\n",
              "      <td>0</td>\n",
              "    </tr>\n",
              "    <tr>\n",
              "      <th>199367</th>\n",
              "      <td>0.802626</td>\n",
              "      <td>-1.524832</td>\n",
              "      <td>-0.544095</td>\n",
              "      <td>-0.288824</td>\n",
              "      <td>-0.916791</td>\n",
              "      <td>3.524219</td>\n",
              "      <td>-1.830070</td>\n",
              "      <td>1.375925</td>\n",
              "      <td>-0.814647</td>\n",
              "      <td>-0.648070</td>\n",
              "      <td>-0.072189</td>\n",
              "      <td>1.020453</td>\n",
              "      <td>0.808519</td>\n",
              "      <td>0.179530</td>\n",
              "      <td>0.403686</td>\n",
              "      <td>-1.355320</td>\n",
              "      <td>-0.890292</td>\n",
              "      <td>-0.823874</td>\n",
              "      <td>-0.161798</td>\n",
              "      <td>-0.240885</td>\n",
              "      <td>-0.209666</td>\n",
              "      <td>0.272832</td>\n",
              "      <td>1.245119</td>\n",
              "      <td>-0.867245</td>\n",
              "      <td>0.838885</td>\n",
              "      <td>0.860487</td>\n",
              "      <td>-0.081074</td>\n",
              "      <td>-0.252743</td>\n",
              "      <td>-0.377957</td>\n",
              "      <td>-0.229689</td>\n",
              "      <td>0</td>\n",
              "    </tr>\n",
              "    <tr>\n",
              "      <th>199368</th>\n",
              "      <td>0.802647</td>\n",
              "      <td>0.099135</td>\n",
              "      <td>0.873164</td>\n",
              "      <td>-0.362487</td>\n",
              "      <td>-0.612234</td>\n",
              "      <td>0.747229</td>\n",
              "      <td>-0.629384</td>\n",
              "      <td>0.755890</td>\n",
              "      <td>0.126794</td>\n",
              "      <td>-0.051667</td>\n",
              "      <td>-0.613531</td>\n",
              "      <td>0.826612</td>\n",
              "      <td>-0.315592</td>\n",
              "      <td>-1.848798</td>\n",
              "      <td>-0.465431</td>\n",
              "      <td>-0.757847</td>\n",
              "      <td>0.571839</td>\n",
              "      <td>0.262660</td>\n",
              "      <td>0.450587</td>\n",
              "      <td>0.023705</td>\n",
              "      <td>-0.090654</td>\n",
              "      <td>-0.302759</td>\n",
              "      <td>-0.840999</td>\n",
              "      <td>0.115856</td>\n",
              "      <td>0.613080</td>\n",
              "      <td>-0.528392</td>\n",
              "      <td>0.092546</td>\n",
              "      <td>0.207960</td>\n",
              "      <td>0.071553</td>\n",
              "      <td>-0.346113</td>\n",
              "      <td>0</td>\n",
              "    </tr>\n",
              "    <tr>\n",
              "      <th>199369</th>\n",
              "      <td>0.802647</td>\n",
              "      <td>2.005556</td>\n",
              "      <td>-0.146704</td>\n",
              "      <td>-1.019430</td>\n",
              "      <td>0.330239</td>\n",
              "      <td>-0.180449</td>\n",
              "      <td>-0.953319</td>\n",
              "      <td>0.053860</td>\n",
              "      <td>-0.165823</td>\n",
              "      <td>0.352282</td>\n",
              "      <td>0.255342</td>\n",
              "      <td>0.953976</td>\n",
              "      <td>0.886864</td>\n",
              "      <td>-0.546470</td>\n",
              "      <td>0.579937</td>\n",
              "      <td>-0.610841</td>\n",
              "      <td>0.088436</td>\n",
              "      <td>-0.475671</td>\n",
              "      <td>-0.341351</td>\n",
              "      <td>0.402815</td>\n",
              "      <td>-0.241755</td>\n",
              "      <td>-0.235137</td>\n",
              "      <td>-0.613122</td>\n",
              "      <td>0.342269</td>\n",
              "      <td>0.063677</td>\n",
              "      <td>-0.359509</td>\n",
              "      <td>0.174021</td>\n",
              "      <td>-0.078440</td>\n",
              "      <td>-0.069642</td>\n",
              "      <td>-0.331760</td>\n",
              "      <td>0</td>\n",
              "    </tr>\n",
              "  </tbody>\n",
              "</table>\n",
              "</div>"
            ],
            "text/plain": [
              "            Time        V1        V2  ...       V28    Amount  Fraud\n",
              "199365  0.802626  2.152590 -0.900447  ... -0.044354 -0.129536      0\n",
              "199366  0.802626  1.811278  0.224393  ... -0.022693 -0.350071      0\n",
              "199367  0.802626 -1.524832 -0.544095  ... -0.377957 -0.229689      0\n",
              "199368  0.802647  0.099135  0.873164  ...  0.071553 -0.346113      0\n",
              "199369  0.802647  2.005556 -0.146704  ... -0.069642 -0.331760      0\n",
              "\n",
              "[5 rows x 31 columns]"
            ]
          },
          "metadata": {
            "tags": []
          },
          "execution_count": 26
        }
      ]
    },
    {
      "cell_type": "code",
      "metadata": {
        "colab": {
          "base_uri": "https://localhost:8080/",
          "height": 221
        },
        "id": "fJxL4xAI5dBc",
        "outputId": "4553a43f-bf18-4093-9bca-b5fa40d4c23c"
      },
      "source": [
        "# Shuffling Training And Testing Data\n",
        "train_data.sample(frac=1)\n",
        "train_data.head()"
      ],
      "execution_count": 27,
      "outputs": [
        {
          "output_type": "execute_result",
          "data": {
            "text/html": [
              "<div>\n",
              "<style scoped>\n",
              "    .dataframe tbody tr th:only-of-type {\n",
              "        vertical-align: middle;\n",
              "    }\n",
              "\n",
              "    .dataframe tbody tr th {\n",
              "        vertical-align: top;\n",
              "    }\n",
              "\n",
              "    .dataframe thead th {\n",
              "        text-align: right;\n",
              "    }\n",
              "</style>\n",
              "<table border=\"1\" class=\"dataframe\">\n",
              "  <thead>\n",
              "    <tr style=\"text-align: right;\">\n",
              "      <th></th>\n",
              "      <th>Time</th>\n",
              "      <th>V1</th>\n",
              "      <th>V2</th>\n",
              "      <th>V3</th>\n",
              "      <th>V4</th>\n",
              "      <th>V5</th>\n",
              "      <th>V6</th>\n",
              "      <th>V7</th>\n",
              "      <th>V8</th>\n",
              "      <th>V9</th>\n",
              "      <th>V10</th>\n",
              "      <th>V11</th>\n",
              "      <th>V12</th>\n",
              "      <th>V13</th>\n",
              "      <th>V14</th>\n",
              "      <th>V15</th>\n",
              "      <th>V16</th>\n",
              "      <th>V17</th>\n",
              "      <th>V18</th>\n",
              "      <th>V19</th>\n",
              "      <th>V20</th>\n",
              "      <th>V21</th>\n",
              "      <th>V22</th>\n",
              "      <th>V23</th>\n",
              "      <th>V24</th>\n",
              "      <th>V25</th>\n",
              "      <th>V26</th>\n",
              "      <th>V27</th>\n",
              "      <th>V28</th>\n",
              "      <th>Amount</th>\n",
              "      <th>Fraud</th>\n",
              "    </tr>\n",
              "  </thead>\n",
              "  <tbody>\n",
              "    <tr>\n",
              "      <th>0</th>\n",
              "      <td>-1.996583</td>\n",
              "      <td>-1.359807</td>\n",
              "      <td>-0.072781</td>\n",
              "      <td>2.536347</td>\n",
              "      <td>1.378155</td>\n",
              "      <td>-0.338321</td>\n",
              "      <td>0.462388</td>\n",
              "      <td>0.239599</td>\n",
              "      <td>0.098698</td>\n",
              "      <td>0.363787</td>\n",
              "      <td>0.090794</td>\n",
              "      <td>-0.551600</td>\n",
              "      <td>-0.617801</td>\n",
              "      <td>-0.991390</td>\n",
              "      <td>-0.311169</td>\n",
              "      <td>1.468177</td>\n",
              "      <td>-0.470401</td>\n",
              "      <td>0.207971</td>\n",
              "      <td>0.025791</td>\n",
              "      <td>0.403993</td>\n",
              "      <td>0.251412</td>\n",
              "      <td>-0.018307</td>\n",
              "      <td>0.277838</td>\n",
              "      <td>-0.110474</td>\n",
              "      <td>0.066928</td>\n",
              "      <td>0.128539</td>\n",
              "      <td>-0.189115</td>\n",
              "      <td>0.133558</td>\n",
              "      <td>-0.021053</td>\n",
              "      <td>0.244964</td>\n",
              "      <td>0</td>\n",
              "    </tr>\n",
              "    <tr>\n",
              "      <th>1</th>\n",
              "      <td>-1.996583</td>\n",
              "      <td>1.191857</td>\n",
              "      <td>0.266151</td>\n",
              "      <td>0.166480</td>\n",
              "      <td>0.448154</td>\n",
              "      <td>0.060018</td>\n",
              "      <td>-0.082361</td>\n",
              "      <td>-0.078803</td>\n",
              "      <td>0.085102</td>\n",
              "      <td>-0.255425</td>\n",
              "      <td>-0.166974</td>\n",
              "      <td>1.612727</td>\n",
              "      <td>1.065235</td>\n",
              "      <td>0.489095</td>\n",
              "      <td>-0.143772</td>\n",
              "      <td>0.635558</td>\n",
              "      <td>0.463917</td>\n",
              "      <td>-0.114805</td>\n",
              "      <td>-0.183361</td>\n",
              "      <td>-0.145783</td>\n",
              "      <td>-0.069083</td>\n",
              "      <td>-0.225775</td>\n",
              "      <td>-0.638672</td>\n",
              "      <td>0.101288</td>\n",
              "      <td>-0.339846</td>\n",
              "      <td>0.167170</td>\n",
              "      <td>0.125895</td>\n",
              "      <td>-0.008983</td>\n",
              "      <td>0.014724</td>\n",
              "      <td>-0.342475</td>\n",
              "      <td>0</td>\n",
              "    </tr>\n",
              "    <tr>\n",
              "      <th>2</th>\n",
              "      <td>-1.996562</td>\n",
              "      <td>-1.358354</td>\n",
              "      <td>-1.340163</td>\n",
              "      <td>1.773209</td>\n",
              "      <td>0.379780</td>\n",
              "      <td>-0.503198</td>\n",
              "      <td>1.800499</td>\n",
              "      <td>0.791461</td>\n",
              "      <td>0.247676</td>\n",
              "      <td>-1.514654</td>\n",
              "      <td>0.207643</td>\n",
              "      <td>0.624501</td>\n",
              "      <td>0.066084</td>\n",
              "      <td>0.717293</td>\n",
              "      <td>-0.165946</td>\n",
              "      <td>2.345865</td>\n",
              "      <td>-2.890083</td>\n",
              "      <td>1.109969</td>\n",
              "      <td>-0.121359</td>\n",
              "      <td>-2.261857</td>\n",
              "      <td>0.524980</td>\n",
              "      <td>0.247998</td>\n",
              "      <td>0.771679</td>\n",
              "      <td>0.909412</td>\n",
              "      <td>-0.689281</td>\n",
              "      <td>-0.327642</td>\n",
              "      <td>-0.139097</td>\n",
              "      <td>-0.055353</td>\n",
              "      <td>-0.059752</td>\n",
              "      <td>1.160686</td>\n",
              "      <td>0</td>\n",
              "    </tr>\n",
              "    <tr>\n",
              "      <th>3</th>\n",
              "      <td>-1.996562</td>\n",
              "      <td>-0.966272</td>\n",
              "      <td>-0.185226</td>\n",
              "      <td>1.792993</td>\n",
              "      <td>-0.863291</td>\n",
              "      <td>-0.010309</td>\n",
              "      <td>1.247203</td>\n",
              "      <td>0.237609</td>\n",
              "      <td>0.377436</td>\n",
              "      <td>-1.387024</td>\n",
              "      <td>-0.054952</td>\n",
              "      <td>-0.226487</td>\n",
              "      <td>0.178228</td>\n",
              "      <td>0.507757</td>\n",
              "      <td>-0.287924</td>\n",
              "      <td>-0.631418</td>\n",
              "      <td>-1.059647</td>\n",
              "      <td>-0.684093</td>\n",
              "      <td>1.965775</td>\n",
              "      <td>-1.232622</td>\n",
              "      <td>-0.208038</td>\n",
              "      <td>-0.108300</td>\n",
              "      <td>0.005274</td>\n",
              "      <td>-0.190321</td>\n",
              "      <td>-1.175575</td>\n",
              "      <td>0.647376</td>\n",
              "      <td>-0.221929</td>\n",
              "      <td>0.062723</td>\n",
              "      <td>0.061458</td>\n",
              "      <td>0.140534</td>\n",
              "      <td>0</td>\n",
              "    </tr>\n",
              "    <tr>\n",
              "      <th>4</th>\n",
              "      <td>-1.996541</td>\n",
              "      <td>-1.158233</td>\n",
              "      <td>0.877737</td>\n",
              "      <td>1.548718</td>\n",
              "      <td>0.403034</td>\n",
              "      <td>-0.407193</td>\n",
              "      <td>0.095921</td>\n",
              "      <td>0.592941</td>\n",
              "      <td>-0.270533</td>\n",
              "      <td>0.817739</td>\n",
              "      <td>0.753074</td>\n",
              "      <td>-0.822843</td>\n",
              "      <td>0.538196</td>\n",
              "      <td>1.345852</td>\n",
              "      <td>-1.119670</td>\n",
              "      <td>0.175121</td>\n",
              "      <td>-0.451449</td>\n",
              "      <td>-0.237033</td>\n",
              "      <td>-0.038195</td>\n",
              "      <td>0.803487</td>\n",
              "      <td>0.408542</td>\n",
              "      <td>-0.009431</td>\n",
              "      <td>0.798278</td>\n",
              "      <td>-0.137458</td>\n",
              "      <td>0.141267</td>\n",
              "      <td>-0.206010</td>\n",
              "      <td>0.502292</td>\n",
              "      <td>0.219422</td>\n",
              "      <td>0.215153</td>\n",
              "      <td>-0.073403</td>\n",
              "      <td>0</td>\n",
              "    </tr>\n",
              "  </tbody>\n",
              "</table>\n",
              "</div>"
            ],
            "text/plain": [
              "       Time        V1        V2        V3  ...       V27       V28    Amount  Fraud\n",
              "0 -1.996583 -1.359807 -0.072781  2.536347  ...  0.133558 -0.021053  0.244964      0\n",
              "1 -1.996583  1.191857  0.266151  0.166480  ... -0.008983  0.014724 -0.342475      0\n",
              "2 -1.996562 -1.358354 -1.340163  1.773209  ... -0.055353 -0.059752  1.160686      0\n",
              "3 -1.996562 -0.966272 -0.185226  1.792993  ...  0.062723  0.061458  0.140534      0\n",
              "4 -1.996541 -1.158233  0.877737  1.548718  ...  0.219422  0.215153 -0.073403      0\n",
              "\n",
              "[5 rows x 31 columns]"
            ]
          },
          "metadata": {
            "tags": []
          },
          "execution_count": 27
        }
      ]
    },
    {
      "cell_type": "code",
      "metadata": {
        "colab": {
          "base_uri": "https://localhost:8080/",
          "height": 221
        },
        "id": "6gCGM1A76qJp",
        "outputId": "d67c6187-e479-413b-dfb2-fced377080fd"
      },
      "source": [
        "test_data.sample(frac = 1)\n",
        "test_data.head()"
      ],
      "execution_count": 28,
      "outputs": [
        {
          "output_type": "execute_result",
          "data": {
            "text/html": [
              "<div>\n",
              "<style scoped>\n",
              "    .dataframe tbody tr th:only-of-type {\n",
              "        vertical-align: middle;\n",
              "    }\n",
              "\n",
              "    .dataframe tbody tr th {\n",
              "        vertical-align: top;\n",
              "    }\n",
              "\n",
              "    .dataframe thead th {\n",
              "        text-align: right;\n",
              "    }\n",
              "</style>\n",
              "<table border=\"1\" class=\"dataframe\">\n",
              "  <thead>\n",
              "    <tr style=\"text-align: right;\">\n",
              "      <th></th>\n",
              "      <th>Time</th>\n",
              "      <th>V1</th>\n",
              "      <th>V2</th>\n",
              "      <th>V3</th>\n",
              "      <th>V4</th>\n",
              "      <th>V5</th>\n",
              "      <th>V6</th>\n",
              "      <th>V7</th>\n",
              "      <th>V8</th>\n",
              "      <th>V9</th>\n",
              "      <th>V10</th>\n",
              "      <th>V11</th>\n",
              "      <th>V12</th>\n",
              "      <th>V13</th>\n",
              "      <th>V14</th>\n",
              "      <th>V15</th>\n",
              "      <th>V16</th>\n",
              "      <th>V17</th>\n",
              "      <th>V18</th>\n",
              "      <th>V19</th>\n",
              "      <th>V20</th>\n",
              "      <th>V21</th>\n",
              "      <th>V22</th>\n",
              "      <th>V23</th>\n",
              "      <th>V24</th>\n",
              "      <th>V25</th>\n",
              "      <th>V26</th>\n",
              "      <th>V27</th>\n",
              "      <th>V28</th>\n",
              "      <th>Amount</th>\n",
              "      <th>Fraud</th>\n",
              "    </tr>\n",
              "  </thead>\n",
              "  <tbody>\n",
              "    <tr>\n",
              "      <th>199365</th>\n",
              "      <td>0.802626</td>\n",
              "      <td>2.152590</td>\n",
              "      <td>-0.900447</td>\n",
              "      <td>-1.092456</td>\n",
              "      <td>-0.994969</td>\n",
              "      <td>-0.613447</td>\n",
              "      <td>-0.760012</td>\n",
              "      <td>-0.530218</td>\n",
              "      <td>-0.222248</td>\n",
              "      <td>-0.214416</td>\n",
              "      <td>0.746967</td>\n",
              "      <td>-1.256213</td>\n",
              "      <td>-0.762171</td>\n",
              "      <td>0.086847</td>\n",
              "      <td>-0.133543</td>\n",
              "      <td>0.365813</td>\n",
              "      <td>1.400839</td>\n",
              "      <td>-0.115840</td>\n",
              "      <td>-1.594770</td>\n",
              "      <td>1.026636</td>\n",
              "      <td>0.060715</td>\n",
              "      <td>-0.281725</td>\n",
              "      <td>-0.987236</td>\n",
              "      <td>0.358646</td>\n",
              "      <td>-0.782338</td>\n",
              "      <td>-0.480245</td>\n",
              "      <td>-0.647930</td>\n",
              "      <td>-0.023563</td>\n",
              "      <td>-0.044354</td>\n",
              "      <td>-0.129536</td>\n",
              "      <td>0</td>\n",
              "    </tr>\n",
              "    <tr>\n",
              "      <th>199366</th>\n",
              "      <td>0.802626</td>\n",
              "      <td>1.811278</td>\n",
              "      <td>0.224393</td>\n",
              "      <td>0.542888</td>\n",
              "      <td>3.606222</td>\n",
              "      <td>-0.162910</td>\n",
              "      <td>1.171241</td>\n",
              "      <td>-0.874598</td>\n",
              "      <td>0.419449</td>\n",
              "      <td>-0.546470</td>\n",
              "      <td>1.493825</td>\n",
              "      <td>0.583293</td>\n",
              "      <td>0.884700</td>\n",
              "      <td>0.831223</td>\n",
              "      <td>-0.293394</td>\n",
              "      <td>-0.870717</td>\n",
              "      <td>1.653737</td>\n",
              "      <td>-1.335181</td>\n",
              "      <td>0.431294</td>\n",
              "      <td>-1.605950</td>\n",
              "      <td>-0.198616</td>\n",
              "      <td>0.109290</td>\n",
              "      <td>0.345703</td>\n",
              "      <td>0.365984</td>\n",
              "      <td>0.663253</td>\n",
              "      <td>-0.531272</td>\n",
              "      <td>-0.225013</td>\n",
              "      <td>0.032563</td>\n",
              "      <td>-0.022693</td>\n",
              "      <td>-0.350071</td>\n",
              "      <td>0</td>\n",
              "    </tr>\n",
              "    <tr>\n",
              "      <th>199367</th>\n",
              "      <td>0.802626</td>\n",
              "      <td>-1.524832</td>\n",
              "      <td>-0.544095</td>\n",
              "      <td>-0.288824</td>\n",
              "      <td>-0.916791</td>\n",
              "      <td>3.524219</td>\n",
              "      <td>-1.830070</td>\n",
              "      <td>1.375925</td>\n",
              "      <td>-0.814647</td>\n",
              "      <td>-0.648070</td>\n",
              "      <td>-0.072189</td>\n",
              "      <td>1.020453</td>\n",
              "      <td>0.808519</td>\n",
              "      <td>0.179530</td>\n",
              "      <td>0.403686</td>\n",
              "      <td>-1.355320</td>\n",
              "      <td>-0.890292</td>\n",
              "      <td>-0.823874</td>\n",
              "      <td>-0.161798</td>\n",
              "      <td>-0.240885</td>\n",
              "      <td>-0.209666</td>\n",
              "      <td>0.272832</td>\n",
              "      <td>1.245119</td>\n",
              "      <td>-0.867245</td>\n",
              "      <td>0.838885</td>\n",
              "      <td>0.860487</td>\n",
              "      <td>-0.081074</td>\n",
              "      <td>-0.252743</td>\n",
              "      <td>-0.377957</td>\n",
              "      <td>-0.229689</td>\n",
              "      <td>0</td>\n",
              "    </tr>\n",
              "    <tr>\n",
              "      <th>199368</th>\n",
              "      <td>0.802647</td>\n",
              "      <td>0.099135</td>\n",
              "      <td>0.873164</td>\n",
              "      <td>-0.362487</td>\n",
              "      <td>-0.612234</td>\n",
              "      <td>0.747229</td>\n",
              "      <td>-0.629384</td>\n",
              "      <td>0.755890</td>\n",
              "      <td>0.126794</td>\n",
              "      <td>-0.051667</td>\n",
              "      <td>-0.613531</td>\n",
              "      <td>0.826612</td>\n",
              "      <td>-0.315592</td>\n",
              "      <td>-1.848798</td>\n",
              "      <td>-0.465431</td>\n",
              "      <td>-0.757847</td>\n",
              "      <td>0.571839</td>\n",
              "      <td>0.262660</td>\n",
              "      <td>0.450587</td>\n",
              "      <td>0.023705</td>\n",
              "      <td>-0.090654</td>\n",
              "      <td>-0.302759</td>\n",
              "      <td>-0.840999</td>\n",
              "      <td>0.115856</td>\n",
              "      <td>0.613080</td>\n",
              "      <td>-0.528392</td>\n",
              "      <td>0.092546</td>\n",
              "      <td>0.207960</td>\n",
              "      <td>0.071553</td>\n",
              "      <td>-0.346113</td>\n",
              "      <td>0</td>\n",
              "    </tr>\n",
              "    <tr>\n",
              "      <th>199369</th>\n",
              "      <td>0.802647</td>\n",
              "      <td>2.005556</td>\n",
              "      <td>-0.146704</td>\n",
              "      <td>-1.019430</td>\n",
              "      <td>0.330239</td>\n",
              "      <td>-0.180449</td>\n",
              "      <td>-0.953319</td>\n",
              "      <td>0.053860</td>\n",
              "      <td>-0.165823</td>\n",
              "      <td>0.352282</td>\n",
              "      <td>0.255342</td>\n",
              "      <td>0.953976</td>\n",
              "      <td>0.886864</td>\n",
              "      <td>-0.546470</td>\n",
              "      <td>0.579937</td>\n",
              "      <td>-0.610841</td>\n",
              "      <td>0.088436</td>\n",
              "      <td>-0.475671</td>\n",
              "      <td>-0.341351</td>\n",
              "      <td>0.402815</td>\n",
              "      <td>-0.241755</td>\n",
              "      <td>-0.235137</td>\n",
              "      <td>-0.613122</td>\n",
              "      <td>0.342269</td>\n",
              "      <td>0.063677</td>\n",
              "      <td>-0.359509</td>\n",
              "      <td>0.174021</td>\n",
              "      <td>-0.078440</td>\n",
              "      <td>-0.069642</td>\n",
              "      <td>-0.331760</td>\n",
              "      <td>0</td>\n",
              "    </tr>\n",
              "  </tbody>\n",
              "</table>\n",
              "</div>"
            ],
            "text/plain": [
              "            Time        V1        V2  ...       V28    Amount  Fraud\n",
              "199365  0.802626  2.152590 -0.900447  ... -0.044354 -0.129536      0\n",
              "199366  0.802626  1.811278  0.224393  ... -0.022693 -0.350071      0\n",
              "199367  0.802626 -1.524832 -0.544095  ... -0.377957 -0.229689      0\n",
              "199368  0.802647  0.099135  0.873164  ...  0.071553 -0.346113      0\n",
              "199369  0.802647  2.005556 -0.146704  ... -0.069642 -0.331760      0\n",
              "\n",
              "[5 rows x 31 columns]"
            ]
          },
          "metadata": {
            "tags": []
          },
          "execution_count": 28
        }
      ]
    },
    {
      "cell_type": "code",
      "metadata": {
        "id": "6h94jL_m6386"
      },
      "source": [
        "# Droping Labels From Testing And Training Data\n",
        "train_labels = train_data.pop('Fraud')\n",
        "train_labels = train_labels.values\n",
        "test_labels = test_data.pop('Fraud')\n",
        "test_labels = test_labels.values"
      ],
      "execution_count": 29,
      "outputs": []
    },
    {
      "cell_type": "code",
      "metadata": {
        "colab": {
          "base_uri": "https://localhost:8080/"
        },
        "id": "Wphs0xZT7ZBZ",
        "outputId": "518ad3b7-a59a-464a-8c7e-2cb0b316cb58"
      },
      "source": [
        "train_labels"
      ],
      "execution_count": 30,
      "outputs": [
        {
          "output_type": "execute_result",
          "data": {
            "text/plain": [
              "array([0, 0, 0, ..., 0, 0, 0])"
            ]
          },
          "metadata": {
            "tags": []
          },
          "execution_count": 30
        }
      ]
    },
    {
      "cell_type": "code",
      "metadata": {
        "colab": {
          "base_uri": "https://localhost:8080/"
        },
        "id": "zBxfHoHX7eMD",
        "outputId": "37b32517-91b0-4905-84df-18d6490e5be9"
      },
      "source": [
        "test_labels"
      ],
      "execution_count": 31,
      "outputs": [
        {
          "output_type": "execute_result",
          "data": {
            "text/plain": [
              "array([0, 0, 0, ..., 0, 0, 0])"
            ]
          },
          "metadata": {
            "tags": []
          },
          "execution_count": 31
        }
      ]
    },
    {
      "cell_type": "code",
      "metadata": {
        "colab": {
          "base_uri": "https://localhost:8080/"
        },
        "id": "9SO6glL5ZxrM",
        "outputId": "9f233d7c-e7d2-492e-b132-9b01d75809a3"
      },
      "source": [
        "# Building Base Model\n",
        "model = Sequential()\n",
        "model.add(Dense(10, activation = 'relu', input_shape = [len(train_data.keys())]))\n",
        "model.add(Dense(8, activation = 'relu'))\n",
        "model.add(Dense(6, activation = 'relu'))\n",
        "model.add(Dense(1, activation='sigmoid'))\n",
        "model.compile(optimizer = 'adam', loss = 'binary_crossentropy', metrics = ['accuracy'])\n",
        "model.summary()"
      ],
      "execution_count": 69,
      "outputs": [
        {
          "output_type": "stream",
          "text": [
            "Model: \"sequential_4\"\n",
            "_________________________________________________________________\n",
            "Layer (type)                 Output Shape              Param #   \n",
            "=================================================================\n",
            "dense_20 (Dense)             (None, 10)                310       \n",
            "_________________________________________________________________\n",
            "dense_21 (Dense)             (None, 8)                 88        \n",
            "_________________________________________________________________\n",
            "dense_22 (Dense)             (None, 6)                 54        \n",
            "_________________________________________________________________\n",
            "dense_23 (Dense)             (None, 1)                 7         \n",
            "=================================================================\n",
            "Total params: 459\n",
            "Trainable params: 459\n",
            "Non-trainable params: 0\n",
            "_________________________________________________________________\n"
          ],
          "name": "stdout"
        }
      ]
    },
    {
      "cell_type": "code",
      "metadata": {
        "id": "8EJqcdyZ_dGm"
      },
      "source": [
        "from keras.callbacks import ModelCheckpoint, TensorBoard\n",
        "checkpointer = ModelCheckpoint(filepath = 'CreditCardFraudDetectionModel.h5', verbose = 0, save_best_only = True)\n",
        "tensorboard = TensorBoard(log_dir = './logs', histogram_freq = 0, write_graph = True, write_images = True)"
      ],
      "execution_count": 70,
      "outputs": []
    },
    {
      "cell_type": "code",
      "metadata": {
        "colab": {
          "base_uri": "https://localhost:8080/"
        },
        "id": "Px_es8qxAP8X",
        "outputId": "c1a6fc1a-a4f8-4d11-ea79-0e04940444b2"
      },
      "source": [
        "history = model.fit(train_data, train_labels, epochs = 100, batch_size = 32, shuffle=True, validation_split=0.2, verbose = 1, callbacks=[checkpointer, tensorboard]).history"
      ],
      "execution_count": 71,
      "outputs": [
        {
          "output_type": "stream",
          "text": [
            "Epoch 1/100\n",
            "4985/4985 [==============================] - 9s 2ms/step - loss: 0.0373 - accuracy: 0.9978 - val_loss: 0.0035 - val_accuracy: 0.9996\n",
            "Epoch 2/100\n",
            "4985/4985 [==============================] - 8s 2ms/step - loss: 0.0047 - accuracy: 0.9991 - val_loss: 0.0029 - val_accuracy: 0.9996\n",
            "Epoch 3/100\n",
            "4985/4985 [==============================] - 8s 2ms/step - loss: 0.0035 - accuracy: 0.9992 - val_loss: 0.0035 - val_accuracy: 0.9993\n",
            "Epoch 4/100\n",
            "4985/4985 [==============================] - 8s 2ms/step - loss: 0.0034 - accuracy: 0.9993 - val_loss: 0.0028 - val_accuracy: 0.9996\n",
            "Epoch 5/100\n",
            "4985/4985 [==============================] - 8s 2ms/step - loss: 0.0036 - accuracy: 0.9991 - val_loss: 0.0028 - val_accuracy: 0.9996\n",
            "Epoch 6/100\n",
            "4985/4985 [==============================] - 8s 2ms/step - loss: 0.0029 - accuracy: 0.9993 - val_loss: 0.0028 - val_accuracy: 0.9996\n",
            "Epoch 7/100\n",
            "4985/4985 [==============================] - 8s 2ms/step - loss: 0.0029 - accuracy: 0.9993 - val_loss: 0.0036 - val_accuracy: 0.9991\n",
            "Epoch 8/100\n",
            "4985/4985 [==============================] - 8s 2ms/step - loss: 0.0027 - accuracy: 0.9993 - val_loss: 0.0027 - val_accuracy: 0.9996\n",
            "Epoch 9/100\n",
            "4985/4985 [==============================] - 8s 2ms/step - loss: 0.0027 - accuracy: 0.9993 - val_loss: 0.0032 - val_accuracy: 0.9995\n",
            "Epoch 10/100\n",
            "4985/4985 [==============================] - 8s 2ms/step - loss: 0.0027 - accuracy: 0.9993 - val_loss: 0.0030 - val_accuracy: 0.9995\n",
            "Epoch 11/100\n",
            "4985/4985 [==============================] - 8s 2ms/step - loss: 0.0025 - accuracy: 0.9994 - val_loss: 0.0031 - val_accuracy: 0.9993\n",
            "Epoch 12/100\n",
            "4985/4985 [==============================] - 8s 2ms/step - loss: 0.0028 - accuracy: 0.9992 - val_loss: 0.0033 - val_accuracy: 0.9993\n",
            "Epoch 13/100\n",
            "4985/4985 [==============================] - 8s 2ms/step - loss: 0.0027 - accuracy: 0.9993 - val_loss: 0.0037 - val_accuracy: 0.9993\n",
            "Epoch 14/100\n",
            "4985/4985 [==============================] - 8s 2ms/step - loss: 0.0023 - accuracy: 0.9994 - val_loss: 0.0039 - val_accuracy: 0.9993\n",
            "Epoch 15/100\n",
            "4985/4985 [==============================] - 8s 2ms/step - loss: 0.0028 - accuracy: 0.9993 - val_loss: 0.0035 - val_accuracy: 0.9994\n",
            "Epoch 16/100\n",
            "4985/4985 [==============================] - 8s 2ms/step - loss: 0.0024 - accuracy: 0.9994 - val_loss: 0.0035 - val_accuracy: 0.9993\n",
            "Epoch 17/100\n",
            "4985/4985 [==============================] - 8s 2ms/step - loss: 0.0027 - accuracy: 0.9993 - val_loss: 0.0036 - val_accuracy: 0.9994\n",
            "Epoch 18/100\n",
            "4985/4985 [==============================] - 8s 2ms/step - loss: 0.0022 - accuracy: 0.9994 - val_loss: 0.0038 - val_accuracy: 0.9991\n",
            "Epoch 19/100\n",
            "4985/4985 [==============================] - 8s 2ms/step - loss: 0.0025 - accuracy: 0.9994 - val_loss: 0.0035 - val_accuracy: 0.9994\n",
            "Epoch 20/100\n",
            "4985/4985 [==============================] - 8s 2ms/step - loss: 0.0024 - accuracy: 0.9993 - val_loss: 0.0036 - val_accuracy: 0.9993\n",
            "Epoch 21/100\n",
            "4985/4985 [==============================] - 8s 2ms/step - loss: 0.0024 - accuracy: 0.9993 - val_loss: 0.0038 - val_accuracy: 0.9992\n",
            "Epoch 22/100\n",
            "4985/4985 [==============================] - 8s 2ms/step - loss: 0.0027 - accuracy: 0.9992 - val_loss: 0.0042 - val_accuracy: 0.9990\n",
            "Epoch 23/100\n",
            "4985/4985 [==============================] - 8s 2ms/step - loss: 0.0021 - accuracy: 0.9994 - val_loss: 0.0037 - val_accuracy: 0.9994\n",
            "Epoch 24/100\n",
            "4985/4985 [==============================] - 8s 2ms/step - loss: 0.0022 - accuracy: 0.9994 - val_loss: 0.0046 - val_accuracy: 0.9989\n",
            "Epoch 25/100\n",
            "4985/4985 [==============================] - 8s 2ms/step - loss: 0.0021 - accuracy: 0.9994 - val_loss: 0.0041 - val_accuracy: 0.9993\n",
            "Epoch 26/100\n",
            "4985/4985 [==============================] - 8s 2ms/step - loss: 0.0025 - accuracy: 0.9994 - val_loss: 0.0045 - val_accuracy: 0.9989\n",
            "Epoch 27/100\n",
            "4985/4985 [==============================] - 8s 2ms/step - loss: 0.0022 - accuracy: 0.9993 - val_loss: 0.0041 - val_accuracy: 0.9994\n",
            "Epoch 28/100\n",
            "4985/4985 [==============================] - 8s 2ms/step - loss: 0.0028 - accuracy: 0.9992 - val_loss: 0.0041 - val_accuracy: 0.9993\n",
            "Epoch 29/100\n",
            "4985/4985 [==============================] - 8s 2ms/step - loss: 0.0023 - accuracy: 0.9993 - val_loss: 0.0044 - val_accuracy: 0.9992\n",
            "Epoch 30/100\n",
            "4985/4985 [==============================] - 8s 2ms/step - loss: 0.0022 - accuracy: 0.9994 - val_loss: 0.0045 - val_accuracy: 0.9992\n",
            "Epoch 31/100\n",
            "4985/4985 [==============================] - 8s 2ms/step - loss: 0.0020 - accuracy: 0.9994 - val_loss: 0.0054 - val_accuracy: 0.9989\n",
            "Epoch 32/100\n",
            "4985/4985 [==============================] - 8s 2ms/step - loss: 0.0019 - accuracy: 0.9994 - val_loss: 0.0046 - val_accuracy: 0.9991\n",
            "Epoch 33/100\n",
            "4985/4985 [==============================] - 8s 2ms/step - loss: 0.0021 - accuracy: 0.9994 - val_loss: 0.0044 - val_accuracy: 0.9991\n",
            "Epoch 34/100\n",
            "4985/4985 [==============================] - 8s 2ms/step - loss: 0.0022 - accuracy: 0.9994 - val_loss: 0.0043 - val_accuracy: 0.9993\n",
            "Epoch 35/100\n",
            "4985/4985 [==============================] - 8s 2ms/step - loss: 0.0021 - accuracy: 0.9994 - val_loss: 0.0048 - val_accuracy: 0.9993\n",
            "Epoch 36/100\n",
            "4985/4985 [==============================] - 8s 2ms/step - loss: 0.0022 - accuracy: 0.9994 - val_loss: 0.0053 - val_accuracy: 0.9991\n",
            "Epoch 37/100\n",
            "4985/4985 [==============================] - 8s 2ms/step - loss: 0.0024 - accuracy: 0.9993 - val_loss: 0.0057 - val_accuracy: 0.9986\n",
            "Epoch 38/100\n",
            "4985/4985 [==============================] - 8s 2ms/step - loss: 0.0021 - accuracy: 0.9994 - val_loss: 0.0054 - val_accuracy: 0.9990\n",
            "Epoch 39/100\n",
            "4985/4985 [==============================] - 8s 2ms/step - loss: 0.0018 - accuracy: 0.9995 - val_loss: 0.0050 - val_accuracy: 0.9991\n",
            "Epoch 40/100\n",
            "4985/4985 [==============================] - 8s 2ms/step - loss: 0.0020 - accuracy: 0.9994 - val_loss: 0.0047 - val_accuracy: 0.9992\n",
            "Epoch 41/100\n",
            "4985/4985 [==============================] - 8s 2ms/step - loss: 0.0025 - accuracy: 0.9994 - val_loss: 0.0065 - val_accuracy: 0.9981\n",
            "Epoch 42/100\n",
            "4985/4985 [==============================] - 8s 2ms/step - loss: 0.0022 - accuracy: 0.9994 - val_loss: 0.0051 - val_accuracy: 0.9991\n",
            "Epoch 43/100\n",
            "4985/4985 [==============================] - 8s 2ms/step - loss: 0.0022 - accuracy: 0.9994 - val_loss: 0.0050 - val_accuracy: 0.9991\n",
            "Epoch 44/100\n",
            "4985/4985 [==============================] - 8s 2ms/step - loss: 0.0018 - accuracy: 0.9995 - val_loss: 0.0052 - val_accuracy: 0.9990\n",
            "Epoch 45/100\n",
            "4985/4985 [==============================] - 8s 2ms/step - loss: 0.0019 - accuracy: 0.9995 - val_loss: 0.0054 - val_accuracy: 0.9991\n",
            "Epoch 46/100\n",
            "4985/4985 [==============================] - 8s 2ms/step - loss: 0.0020 - accuracy: 0.9995 - val_loss: 0.0057 - val_accuracy: 0.9989\n",
            "Epoch 47/100\n",
            "4985/4985 [==============================] - 8s 2ms/step - loss: 0.0023 - accuracy: 0.9993 - val_loss: 0.0054 - val_accuracy: 0.9990\n",
            "Epoch 48/100\n",
            "4985/4985 [==============================] - 8s 2ms/step - loss: 0.0020 - accuracy: 0.9995 - val_loss: 0.0055 - val_accuracy: 0.9990\n",
            "Epoch 49/100\n",
            "4985/4985 [==============================] - 8s 2ms/step - loss: 0.0017 - accuracy: 0.9996 - val_loss: 0.0058 - val_accuracy: 0.9989\n",
            "Epoch 50/100\n",
            "4985/4985 [==============================] - 8s 2ms/step - loss: 0.0020 - accuracy: 0.9995 - val_loss: 0.0060 - val_accuracy: 0.9990\n",
            "Epoch 51/100\n",
            "4985/4985 [==============================] - 8s 2ms/step - loss: 0.0021 - accuracy: 0.9994 - val_loss: 0.0055 - val_accuracy: 0.9990\n",
            "Epoch 52/100\n",
            "4985/4985 [==============================] - 8s 2ms/step - loss: 0.0021 - accuracy: 0.9994 - val_loss: 0.0058 - val_accuracy: 0.9989\n",
            "Epoch 53/100\n",
            "4985/4985 [==============================] - 8s 2ms/step - loss: 0.0017 - accuracy: 0.9995 - val_loss: 0.0057 - val_accuracy: 0.9989\n",
            "Epoch 54/100\n",
            "4985/4985 [==============================] - 8s 2ms/step - loss: 0.0018 - accuracy: 0.9995 - val_loss: 0.0064 - val_accuracy: 0.9989\n",
            "Epoch 55/100\n",
            "4985/4985 [==============================] - 8s 2ms/step - loss: 0.0018 - accuracy: 0.9995 - val_loss: 0.0062 - val_accuracy: 0.9991\n",
            "Epoch 56/100\n",
            "4985/4985 [==============================] - 8s 2ms/step - loss: 0.0018 - accuracy: 0.9995 - val_loss: 0.0064 - val_accuracy: 0.9990\n",
            "Epoch 57/100\n",
            "4985/4985 [==============================] - 8s 2ms/step - loss: 0.0020 - accuracy: 0.9995 - val_loss: 0.0061 - val_accuracy: 0.9990\n",
            "Epoch 58/100\n",
            "4985/4985 [==============================] - 8s 2ms/step - loss: 0.0017 - accuracy: 0.9995 - val_loss: 0.0066 - val_accuracy: 0.9986\n",
            "Epoch 59/100\n",
            "4985/4985 [==============================] - 8s 2ms/step - loss: 0.0020 - accuracy: 0.9994 - val_loss: 0.0064 - val_accuracy: 0.9988\n",
            "Epoch 60/100\n",
            "4985/4985 [==============================] - 8s 2ms/step - loss: 0.0019 - accuracy: 0.9995 - val_loss: 0.0074 - val_accuracy: 0.9985\n",
            "Epoch 61/100\n",
            "4985/4985 [==============================] - 8s 2ms/step - loss: 0.0019 - accuracy: 0.9995 - val_loss: 0.0070 - val_accuracy: 0.9989\n",
            "Epoch 62/100\n",
            "4985/4985 [==============================] - 8s 2ms/step - loss: 0.0015 - accuracy: 0.9995 - val_loss: 0.0065 - val_accuracy: 0.9990\n",
            "Epoch 63/100\n",
            "4985/4985 [==============================] - 8s 2ms/step - loss: 0.0018 - accuracy: 0.9994 - val_loss: 0.0069 - val_accuracy: 0.9990\n",
            "Epoch 64/100\n",
            "4985/4985 [==============================] - 8s 2ms/step - loss: 0.0015 - accuracy: 0.9996 - val_loss: 0.0069 - val_accuracy: 0.9989\n",
            "Epoch 65/100\n",
            "4985/4985 [==============================] - 8s 2ms/step - loss: 0.0018 - accuracy: 0.9995 - val_loss: 0.0067 - val_accuracy: 0.9990\n",
            "Epoch 66/100\n",
            "4985/4985 [==============================] - 8s 2ms/step - loss: 0.0019 - accuracy: 0.9994 - val_loss: 0.0072 - val_accuracy: 0.9986\n",
            "Epoch 67/100\n",
            "4985/4985 [==============================] - 8s 2ms/step - loss: 0.0021 - accuracy: 0.9994 - val_loss: 0.0069 - val_accuracy: 0.9987\n",
            "Epoch 68/100\n",
            "4985/4985 [==============================] - 8s 2ms/step - loss: 0.0018 - accuracy: 0.9995 - val_loss: 0.0068 - val_accuracy: 0.9988\n",
            "Epoch 69/100\n",
            "4985/4985 [==============================] - 8s 2ms/step - loss: 0.0016 - accuracy: 0.9995 - val_loss: 0.0067 - val_accuracy: 0.9989\n",
            "Epoch 70/100\n",
            "4985/4985 [==============================] - 8s 2ms/step - loss: 0.0020 - accuracy: 0.9995 - val_loss: 0.0070 - val_accuracy: 0.9987\n",
            "Epoch 71/100\n",
            "4985/4985 [==============================] - 8s 2ms/step - loss: 0.0016 - accuracy: 0.9995 - val_loss: 0.0074 - val_accuracy: 0.9986\n",
            "Epoch 72/100\n",
            "4985/4985 [==============================] - 8s 2ms/step - loss: 0.0017 - accuracy: 0.9995 - val_loss: 0.0066 - val_accuracy: 0.9990\n",
            "Epoch 73/100\n",
            "4985/4985 [==============================] - 8s 2ms/step - loss: 0.0016 - accuracy: 0.9995 - val_loss: 0.0078 - val_accuracy: 0.9986\n",
            "Epoch 74/100\n",
            "4985/4985 [==============================] - 8s 2ms/step - loss: 0.0017 - accuracy: 0.9995 - val_loss: 0.0068 - val_accuracy: 0.9988\n",
            "Epoch 75/100\n",
            "4985/4985 [==============================] - 8s 2ms/step - loss: 0.0019 - accuracy: 0.9994 - val_loss: 0.0073 - val_accuracy: 0.9988\n",
            "Epoch 76/100\n",
            "4985/4985 [==============================] - 8s 2ms/step - loss: 0.0018 - accuracy: 0.9996 - val_loss: 0.0073 - val_accuracy: 0.9987\n",
            "Epoch 77/100\n",
            "4985/4985 [==============================] - 8s 2ms/step - loss: 0.0016 - accuracy: 0.9995 - val_loss: 0.0077 - val_accuracy: 0.9989\n",
            "Epoch 78/100\n",
            "4985/4985 [==============================] - 8s 2ms/step - loss: 0.0018 - accuracy: 0.9995 - val_loss: 0.0073 - val_accuracy: 0.9989\n",
            "Epoch 79/100\n",
            "4985/4985 [==============================] - 8s 2ms/step - loss: 0.0019 - accuracy: 0.9995 - val_loss: 0.0075 - val_accuracy: 0.9987\n",
            "Epoch 80/100\n",
            "4985/4985 [==============================] - 8s 2ms/step - loss: 0.0020 - accuracy: 0.9995 - val_loss: 0.0074 - val_accuracy: 0.9989\n",
            "Epoch 81/100\n",
            "4985/4985 [==============================] - 8s 2ms/step - loss: 0.0017 - accuracy: 0.9995 - val_loss: 0.0075 - val_accuracy: 0.9988\n",
            "Epoch 82/100\n",
            "4985/4985 [==============================] - 8s 2ms/step - loss: 0.0015 - accuracy: 0.9996 - val_loss: 0.0071 - val_accuracy: 0.9987\n",
            "Epoch 83/100\n",
            "4985/4985 [==============================] - 8s 2ms/step - loss: 0.0016 - accuracy: 0.9995 - val_loss: 0.0069 - val_accuracy: 0.9991\n",
            "Epoch 84/100\n",
            "4985/4985 [==============================] - 8s 2ms/step - loss: 0.0019 - accuracy: 0.9995 - val_loss: 0.0073 - val_accuracy: 0.9989\n",
            "Epoch 85/100\n",
            "4985/4985 [==============================] - 8s 2ms/step - loss: 0.0020 - accuracy: 0.9994 - val_loss: 0.0079 - val_accuracy: 0.9990\n",
            "Epoch 86/100\n",
            "4985/4985 [==============================] - 8s 2ms/step - loss: 0.0013 - accuracy: 0.9997 - val_loss: 0.0073 - val_accuracy: 0.9987\n",
            "Epoch 87/100\n",
            "4985/4985 [==============================] - 8s 2ms/step - loss: 0.0017 - accuracy: 0.9996 - val_loss: 0.0076 - val_accuracy: 0.9987\n",
            "Epoch 88/100\n",
            "4985/4985 [==============================] - 8s 2ms/step - loss: 0.0018 - accuracy: 0.9996 - val_loss: 0.0078 - val_accuracy: 0.9984\n",
            "Epoch 89/100\n",
            "4985/4985 [==============================] - 8s 2ms/step - loss: 0.0016 - accuracy: 0.9995 - val_loss: 0.0079 - val_accuracy: 0.9988\n",
            "Epoch 90/100\n",
            "4985/4985 [==============================] - 8s 2ms/step - loss: 0.0020 - accuracy: 0.9994 - val_loss: 0.0081 - val_accuracy: 0.9989\n",
            "Epoch 91/100\n",
            "4985/4985 [==============================] - 8s 2ms/step - loss: 0.0018 - accuracy: 0.9995 - val_loss: 0.0083 - val_accuracy: 0.9985\n",
            "Epoch 92/100\n",
            "4985/4985 [==============================] - 8s 2ms/step - loss: 0.0016 - accuracy: 0.9996 - val_loss: 0.0088 - val_accuracy: 0.9985\n",
            "Epoch 93/100\n",
            "4985/4985 [==============================] - 8s 2ms/step - loss: 0.0016 - accuracy: 0.9994 - val_loss: 0.0082 - val_accuracy: 0.9991\n",
            "Epoch 94/100\n",
            "4985/4985 [==============================] - 8s 2ms/step - loss: 0.0017 - accuracy: 0.9994 - val_loss: 0.0083 - val_accuracy: 0.9987\n",
            "Epoch 95/100\n",
            "4985/4985 [==============================] - 8s 2ms/step - loss: 0.0016 - accuracy: 0.9995 - val_loss: 0.0081 - val_accuracy: 0.9992\n",
            "Epoch 96/100\n",
            "4985/4985 [==============================] - 8s 2ms/step - loss: 0.0014 - accuracy: 0.9996 - val_loss: 0.0084 - val_accuracy: 0.9988\n",
            "Epoch 97/100\n",
            "4985/4985 [==============================] - 8s 2ms/step - loss: 0.0017 - accuracy: 0.9995 - val_loss: 0.0082 - val_accuracy: 0.9991\n",
            "Epoch 98/100\n",
            "4985/4985 [==============================] - 8s 2ms/step - loss: 0.0016 - accuracy: 0.9996 - val_loss: 0.0079 - val_accuracy: 0.9992\n",
            "Epoch 99/100\n",
            "4985/4985 [==============================] - 8s 2ms/step - loss: 0.0016 - accuracy: 0.9995 - val_loss: 0.0083 - val_accuracy: 0.9989\n",
            "Epoch 100/100\n",
            "4985/4985 [==============================] - 8s 2ms/step - loss: 0.0020 - accuracy: 0.9994 - val_loss: 0.0084 - val_accuracy: 0.9986\n"
          ],
          "name": "stdout"
        }
      ]
    },
    {
      "cell_type": "code",
      "metadata": {
        "colab": {
          "base_uri": "https://localhost:8080/",
          "height": 201
        },
        "id": "fAG3XeEu23Sk",
        "outputId": "f82f7510-48e4-436d-df36-036f01f9e80a"
      },
      "source": [
        "# Storing History In A Data Frame\n",
        "history_df = pd.DataFrame(history)\n",
        "history_df.tail()"
      ],
      "execution_count": 73,
      "outputs": [
        {
          "output_type": "execute_result",
          "data": {
            "text/html": [
              "<div>\n",
              "<style scoped>\n",
              "    .dataframe tbody tr th:only-of-type {\n",
              "        vertical-align: middle;\n",
              "    }\n",
              "\n",
              "    .dataframe tbody tr th {\n",
              "        vertical-align: top;\n",
              "    }\n",
              "\n",
              "    .dataframe thead th {\n",
              "        text-align: right;\n",
              "    }\n",
              "</style>\n",
              "<table border=\"1\" class=\"dataframe\">\n",
              "  <thead>\n",
              "    <tr style=\"text-align: right;\">\n",
              "      <th></th>\n",
              "      <th>loss</th>\n",
              "      <th>accuracy</th>\n",
              "      <th>val_loss</th>\n",
              "      <th>val_accuracy</th>\n",
              "    </tr>\n",
              "  </thead>\n",
              "  <tbody>\n",
              "    <tr>\n",
              "      <th>95</th>\n",
              "      <td>0.001675</td>\n",
              "      <td>0.999523</td>\n",
              "      <td>0.008399</td>\n",
              "      <td>0.998846</td>\n",
              "    </tr>\n",
              "    <tr>\n",
              "      <th>96</th>\n",
              "      <td>0.001724</td>\n",
              "      <td>0.999511</td>\n",
              "      <td>0.008176</td>\n",
              "      <td>0.999147</td>\n",
              "    </tr>\n",
              "    <tr>\n",
              "      <th>97</th>\n",
              "      <td>0.001810</td>\n",
              "      <td>0.999492</td>\n",
              "      <td>0.007946</td>\n",
              "      <td>0.999248</td>\n",
              "    </tr>\n",
              "    <tr>\n",
              "      <th>98</th>\n",
              "      <td>0.001648</td>\n",
              "      <td>0.999486</td>\n",
              "      <td>0.008339</td>\n",
              "      <td>0.998896</td>\n",
              "    </tr>\n",
              "    <tr>\n",
              "      <th>99</th>\n",
              "      <td>0.001752</td>\n",
              "      <td>0.999498</td>\n",
              "      <td>0.008365</td>\n",
              "      <td>0.998646</td>\n",
              "    </tr>\n",
              "  </tbody>\n",
              "</table>\n",
              "</div>"
            ],
            "text/plain": [
              "        loss  accuracy  val_loss  val_accuracy\n",
              "95  0.001675  0.999523  0.008399      0.998846\n",
              "96  0.001724  0.999511  0.008176      0.999147\n",
              "97  0.001810  0.999492  0.007946      0.999248\n",
              "98  0.001648  0.999486  0.008339      0.998896\n",
              "99  0.001752  0.999498  0.008365      0.998646"
            ]
          },
          "metadata": {
            "tags": []
          },
          "execution_count": 73
        }
      ]
    },
    {
      "cell_type": "code",
      "metadata": {
        "colab": {
          "base_uri": "https://localhost:8080/",
          "height": 535
        },
        "id": "i1m248J918AS",
        "outputId": "c05b31c8-fe56-4383-c31c-ce1c6cf46768"
      },
      "source": [
        "# Plotting Loss and Accuracy\n",
        "plt.plot(history_df['loss'])\n",
        "plt.plot(history_df['accuracy'])\n",
        "plt.plot(history_df['val_loss'])\n",
        "plt.plot(history_df['val_accuracy'])\n",
        "plt.title('Model Loss')\n",
        "plt.ylabel('Loss')\n",
        "plt.xlabel('Epoch')\n",
        "plt.legend(['Training Loss', 'Training Accuracy', 'Validation Loss', 'Validation Accuracy'], loc='upper right');"
      ],
      "execution_count": 74,
      "outputs": [
        {
          "output_type": "display_data",
          "data": {
            "image/png": "[encoded data removed]",
            "text/plain": [
              "<Figure size 1008x576 with 1 Axes>"
            ]
          },
          "metadata": {
            "tags": []
          }
        }
      ]
    },
    {
      "cell_type": "code",
      "metadata": {
        "id": "emgq3jFf2hoP"
      },
      "source": [
        "# Making Predictions On Test Data\n",
        "predictions = model.predict(test_data)\n",
        "predictions = predictions.flatten()"
      ],
      "execution_count": 75,
      "outputs": []
    },
    {
      "cell_type": "code",
      "metadata": {
        "colab": {
          "base_uri": "https://localhost:8080/"
        },
        "id": "K3vm3omLgisE",
        "outputId": "ba816d07-ce33-4aaf-c705-65340b71a99b"
      },
      "source": [
        "predictions"
      ],
      "execution_count": 76,
      "outputs": [
        {
          "output_type": "execute_result",
          "data": {
            "text/plain": [
              "array([5.9627352e-13, 1.2204945e-13, 1.6048047e-33, ..., 4.6574701e-28,\n",
              "       1.8394591e-09, 9.8766686e-06], dtype=float32)"
            ]
          },
          "metadata": {
            "tags": []
          },
          "execution_count": 76
        }
      ]
    },
    {
      "cell_type": "code",
      "metadata": {
        "colab": {
          "base_uri": "https://localhost:8080/"
        },
        "id": "B4jFANmN3rH7",
        "outputId": "a6fc33b5-009b-4b4c-dfe3-2f3e63e2e189"
      },
      "source": [
        "testing = model.evaluate(test_data, test_labels)"
      ],
      "execution_count": 77,
      "outputs": [
        {
          "output_type": "stream",
          "text": [
            "2671/2671 [==============================] - 3s 994us/step - loss: 0.0098 - accuracy: 0.9991\n"
          ],
          "name": "stdout"
        }
      ]
    },
    {
      "cell_type": "code",
      "metadata": {
        "colab": {
          "base_uri": "https://localhost:8080/"
        },
        "id": "fgLj2OH733LD",
        "outputId": "84fd2270-0a9c-43fc-b67f-e6fb238a929d"
      },
      "source": [
        "print(f\"Test Loss: {testing[0]}\")\n",
        "print(f\"Test Accuracy: {testing[1]}\")"
      ],
      "execution_count": 78,
      "outputs": [
        {
          "output_type": "stream",
          "text": [
            "Test Loss: 0.009829854592680931\n",
            "Test Accuracy: 0.9990987777709961\n"
          ],
          "name": "stdout"
        }
      ]
    },
    {
      "cell_type": "markdown",
      "metadata": {
        "id": "UuSKGg2ab9f-"
      },
      "source": [
        "## Unbalanced Data\n",
        "### As we can see that our model is overfitted because it is most probably unable to discriminate between valid transactions and fraud transactions because the mass of fraud transactions is very low as compared to the valid transactions and our model can treat them as normal transactions. Lets overcome this problem.\n"
      ]
    },
    {
      "cell_type": "code",
      "metadata": {
        "colab": {
          "base_uri": "https://localhost:8080/",
          "height": 1000
        },
        "id": "Hyyw0IYdeg9I",
        "outputId": "0295cd02-6986-4e12-8055-39dec6a2f821"
      },
      "source": [
        "from sklearn import preprocessing\n",
        "from sklearn import decomposition\n",
        "from mpl_toolkits.mplot3d import Axes3D\n",
        "fig = plt.figure()\n",
        "ax = fig.add_subplot(projection='3d')\n",
        "def show_pca_df(df):\n",
        "\tx = df[df.columns[1:30]].to_numpy()\n",
        "\ty = df[df.columns[30]].to_numpy()\n",
        "\n",
        "\tx = preprocessing.MinMaxScaler().fit_transform(x)\n",
        "\tpca = decomposition.PCA(n_components=3)\n",
        "\tpca_result = pca.fit_transform(x)\n",
        "\tprint(pca.explained_variance_ratio_)\n",
        "\n",
        "\tpca_df = pd.DataFrame(data=pca_result, columns=['pc_1', 'pc_2', 'pc_3'])\n",
        "\tpca_df = pd.concat([pca_df, pd.DataFrame({'label': y})], axis=1)\n",
        "\n",
        "\tax = Axes3D(plt.figure(figsize=(8, 8)))\n",
        "\tax.scatter(xs=pca_df['pc_1'], ys=pca_df['pc_2'], zs=pca_df['pc_3'], c=pca_df['label'], s=25)\n",
        "\tax.set_xlabel(\"pc_1\")\n",
        "\tax.set_ylabel(\"pc_2\")\n",
        "\tax.set_zlabel(\"pc_3\")\n",
        "\tplt.show()\n",
        "\n",
        "# df = pd.read_csv('creditcard.csv')\n",
        "\n",
        "show_pca_df(df)"
      ],
      "execution_count": 47,
      "outputs": [
        {
          "output_type": "stream",
          "text": [
            "[0.13501016 0.12577773 0.12031404]\n"
          ],
          "name": "stdout"
        },
        {
          "output_type": "display_data",
          "data": {
            "image/png": "[encoded data removed]",
            "text/plain": [
              "<Figure size 1008x576 with 1 Axes>"
            ]
          },
          "metadata": {
            "tags": []
          }
        },
        {
          "output_type": "display_data",
          "data": {
            "image/png": "[encoded data removed]",
            "text/plain": [
              "<Figure size 576x576 with 1 Axes>"
            ]
          },
          "metadata": {
            "tags": []
          }
        }
      ]
    },
    {
      "cell_type": "markdown",
      "metadata": {
        "id": "apjAgCB2O3N9"
      },
      "source": [
        "# Building Second Model For Overcoming Unbalanced Data Problem"
      ]
    },
    {
      "cell_type": "markdown",
      "metadata": {
        "id": "ogV5ghuFcTdq"
      },
      "source": [
        "There are many techniques to solve this problem but here I am using Autoencoder. Basically, Autoencoder is a type of Artificial Neural Networks that can learn efficient data encodings in an Unsupervised Manner by training a network to ignore noise in the data. "
      ]
    },
    {
      "cell_type": "code",
      "metadata": {
        "id": "TluqY9zhO-RF"
      },
      "source": [
        "# Building Second Model With Auto Encoders"
      ],
      "execution_count": 49,
      "outputs": []
    },
    {
      "cell_type": "code",
      "metadata": {
        "colab": {
          "base_uri": "https://localhost:8080/"
        },
        "id": "Oa0iZJgg0Zmz",
        "outputId": "5f033f46-1ed8-4505-c22e-8b05e2efbcec"
      },
      "source": [
        "from tensorflow.keras.models import Sequential\n",
        "encoder = Sequential(name = 'encoder')\n",
        "encoder.add(Dense(10, activation='relu', input_shape = (train_data.shape[-1],)))\n",
        "encoder.add(Dropout(0.1))\n",
        "encoder.add(Dense(8, activation = 'relu'))\n",
        "encoder.add(Dropout(0.1))\n",
        "encoder.add(Dense(6, activation='relu'))\n",
        "\n",
        "decoder = Sequential(name = 'decoder') \n",
        "decoder.add(Dense(10, activation='relu', input_shape = (train_data.shape[-1],)))\n",
        "decoder.add(Dense(20, activation = 'relu'))\n",
        "decoder.add(Dropout(0.1))\n",
        "decoder.add(Dense(units = len(train_data.columns), activation='sigmoid'))\n",
        "\n",
        "autoencoder = Sequential(encoder, decoder)\n",
        "autoencoder.compile(loss = 'mse', optimizer = 'adam', metrics = ['mse'])\n",
        "autoencoder.summary()"
      ],
      "execution_count": 86,
      "outputs": [
        {
          "output_type": "stream",
          "text": [
            "Model: \"<tensorflow.python.keras.engine.sequential.Sequential object at 0x7f5e7a9d2550>\"\n",
            "_________________________________________________________________\n",
            "Layer (type)                 Output Shape              Param #   \n",
            "=================================================================\n",
            "encoder (Sequential)         (None, 6)                 452       \n",
            "=================================================================\n",
            "Total params: 452\n",
            "Trainable params: 452\n",
            "Non-trainable params: 0\n",
            "_________________________________________________________________\n"
          ],
          "name": "stdout"
        }
      ]
    },
    {
      "cell_type": "code",
      "metadata": {
        "id": "59Os0JxwSOdP"
      },
      "source": [
        "from keras.callbacks import EarlyStopping\n",
        "es = EarlyStopping(monitor='val_loss', min_delta=0.00001, patience=20, restore_best_weights=True)"
      ],
      "execution_count": 89,
      "outputs": []
    },
    {
      "cell_type": "code",
      "metadata": {
        "id": "70CDrYoVPLN6"
      },
      "source": [
        "from keras.callbacks import ModelCheckpoint, TensorBoard\n",
        "checkpointer = ModelCheckpoint(filepath = 'CreditCardFraudDetectionModel.h5', verbose = 0, save_best_only = True)\n",
        "tensorboard = TensorBoard(log_dir = './logs', histogram_freq = 0, write_graph = True, write_images = True)"
      ],
      "execution_count": 90,
      "outputs": []
    },
    {
      "cell_type": "code",
      "metadata": {
        "id": "kYh6XieOSSzc"
      },
      "source": [
        "history1 = autoencoder.fit(train_data, train_labels, epochs=100, verbose=1, validation_data=[test_data, test_labels], callbacks=[es, tensorboard]).history"
      ],
      "execution_count": null,
      "outputs": []
    },
    {
      "cell_type": "code",
      "metadata": {
        "colab": {
          "base_uri": "https://localhost:8080/"
        },
        "id": "kek9sSXZPaGk",
        "outputId": "62552703-ad05-4303-954f-04b1ffa89b9a"
      },
      "source": [
        "# Fitting Model\n",
        "history1 = model2.fit(train_data, train_labels, epochs = 100, batch_size = 32, shuffle=True, validation_split=0.2, verbose = 1, callbacks=[checkpointer, tensorboard]).history"
      ],
      "execution_count": null,
      "outputs": [
        {
          "output_type": "stream",
          "text": [
            "Epoch 1/100\n",
            "4985/4985 [==============================] - 7s 1ms/step - loss: 0.0744 - accuracy: 0.9793 - val_loss: 0.0067 - val_accuracy: 0.9993\n",
            "Epoch 2/100\n",
            "4985/4985 [==============================] - 7s 1ms/step - loss: 0.0038 - accuracy: 0.9989 - val_loss: 0.0039 - val_accuracy: 0.9996\n",
            "Epoch 3/100\n",
            "4985/4985 [==============================] - 6s 1ms/step - loss: 0.0036 - accuracy: 0.9992 - val_loss: 0.0045 - val_accuracy: 0.9991\n",
            "Epoch 4/100\n",
            "4985/4985 [==============================] - 7s 1ms/step - loss: 0.0030 - accuracy: 0.9993 - val_loss: 0.0039 - val_accuracy: 0.9994\n",
            "Epoch 5/100\n",
            "4985/4985 [==============================] - 7s 1ms/step - loss: 0.0031 - accuracy: 0.9991 - val_loss: 0.0029 - val_accuracy: 0.9992\n",
            "Epoch 6/100\n",
            "4985/4985 [==============================] - 7s 1ms/step - loss: 0.0027 - accuracy: 0.9993 - val_loss: 0.0048 - val_accuracy: 0.9986\n",
            "Epoch 7/100\n",
            "4985/4985 [==============================] - 7s 1ms/step - loss: 0.0026 - accuracy: 0.9993 - val_loss: 0.0034 - val_accuracy: 0.9992\n",
            "Epoch 8/100\n",
            "4985/4985 [==============================] - 7s 1ms/step - loss: 0.0022 - accuracy: 0.9994 - val_loss: 0.0028 - val_accuracy: 0.9994\n",
            "Epoch 9/100\n",
            "4985/4985 [==============================] - 7s 1ms/step - loss: 0.0026 - accuracy: 0.9993 - val_loss: 0.0025 - val_accuracy: 0.9995\n",
            "Epoch 10/100\n",
            "4985/4985 [==============================] - 7s 1ms/step - loss: 0.0024 - accuracy: 0.9994 - val_loss: 0.0039 - val_accuracy: 0.9991\n",
            "Epoch 11/100\n",
            "4985/4985 [==============================] - 6s 1ms/step - loss: 0.0026 - accuracy: 0.9994 - val_loss: 0.0029 - val_accuracy: 0.9994\n",
            "Epoch 12/100\n",
            "4985/4985 [==============================] - 7s 1ms/step - loss: 0.0023 - accuracy: 0.9995 - val_loss: 0.0034 - val_accuracy: 0.9990\n",
            "Epoch 13/100\n",
            "4985/4985 [==============================] - 7s 1ms/step - loss: 0.0023 - accuracy: 0.9994 - val_loss: 0.0025 - val_accuracy: 0.9996\n",
            "Epoch 14/100\n",
            "4985/4985 [==============================] - 7s 1ms/step - loss: 0.0022 - accuracy: 0.9994 - val_loss: 0.0028 - val_accuracy: 0.9994\n",
            "Epoch 15/100\n",
            "4985/4985 [==============================] - 6s 1ms/step - loss: 0.0026 - accuracy: 0.9993 - val_loss: 0.0026 - val_accuracy: 0.9996\n",
            "Epoch 16/100\n",
            "4985/4985 [==============================] - 7s 1ms/step - loss: 0.0022 - accuracy: 0.9994 - val_loss: 0.0027 - val_accuracy: 0.9995\n",
            "Epoch 17/100\n",
            "4985/4985 [==============================] - 6s 1ms/step - loss: 0.0022 - accuracy: 0.9994 - val_loss: 0.0026 - val_accuracy: 0.9995\n",
            "Epoch 18/100\n",
            "4985/4985 [==============================] - 7s 1ms/step - loss: 0.0023 - accuracy: 0.9993 - val_loss: 0.0026 - val_accuracy: 0.9996\n",
            "Epoch 19/100\n",
            "4985/4985 [==============================] - 7s 1ms/step - loss: 0.0020 - accuracy: 0.9995 - val_loss: 0.0030 - val_accuracy: 0.9994\n",
            "Epoch 20/100\n",
            "4985/4985 [==============================] - 7s 1ms/step - loss: 0.0024 - accuracy: 0.9994 - val_loss: 0.0031 - val_accuracy: 0.9993\n",
            "Epoch 21/100\n",
            "4985/4985 [==============================] - 6s 1ms/step - loss: 0.0019 - accuracy: 0.9995 - val_loss: 0.0031 - val_accuracy: 0.9994\n",
            "Epoch 22/100\n",
            "4985/4985 [==============================] - 7s 1ms/step - loss: 0.0020 - accuracy: 0.9994 - val_loss: 0.0026 - val_accuracy: 0.9996\n",
            "Epoch 23/100\n",
            "4985/4985 [==============================] - 7s 1ms/step - loss: 0.0019 - accuracy: 0.9995 - val_loss: 0.0038 - val_accuracy: 0.9990\n",
            "Epoch 24/100\n",
            "4985/4985 [==============================] - 7s 1ms/step - loss: 0.0024 - accuracy: 0.9994 - val_loss: 0.0032 - val_accuracy: 0.9994\n",
            "Epoch 25/100\n",
            "4985/4985 [==============================] - 7s 1ms/step - loss: 0.0019 - accuracy: 0.9996 - val_loss: 0.0035 - val_accuracy: 0.9993\n",
            "Epoch 26/100\n",
            "4985/4985 [==============================] - 7s 1ms/step - loss: 0.0022 - accuracy: 0.9995 - val_loss: 0.0033 - val_accuracy: 0.9993\n",
            "Epoch 27/100\n",
            "4985/4985 [==============================] - 7s 1ms/step - loss: 0.0023 - accuracy: 0.9993 - val_loss: 0.0036 - val_accuracy: 0.9992\n",
            "Epoch 28/100\n",
            "4985/4985 [==============================] - 7s 1ms/step - loss: 0.0018 - accuracy: 0.9995 - val_loss: 0.0028 - val_accuracy: 0.9995\n",
            "Epoch 29/100\n",
            "4985/4985 [==============================] - 7s 1ms/step - loss: 0.0020 - accuracy: 0.9994 - val_loss: 0.0036 - val_accuracy: 0.9993\n",
            "Epoch 30/100\n",
            "4985/4985 [==============================] - 7s 1ms/step - loss: 0.0019 - accuracy: 0.9995 - val_loss: 0.0037 - val_accuracy: 0.9993\n",
            "Epoch 31/100\n",
            "4985/4985 [==============================] - 7s 1ms/step - loss: 0.0023 - accuracy: 0.9995 - val_loss: 0.0035 - val_accuracy: 0.9995\n",
            "Epoch 32/100\n",
            "4985/4985 [==============================] - 7s 1ms/step - loss: 0.0019 - accuracy: 0.9995 - val_loss: 0.0038 - val_accuracy: 0.9994\n",
            "Epoch 33/100\n",
            "4985/4985 [==============================] - 6s 1ms/step - loss: 0.0017 - accuracy: 0.9994 - val_loss: 0.0033 - val_accuracy: 0.9994\n",
            "Epoch 34/100\n",
            "4985/4985 [==============================] - 7s 1ms/step - loss: 0.0021 - accuracy: 0.9995 - val_loss: 0.0042 - val_accuracy: 0.9992\n",
            "Epoch 35/100\n",
            "4985/4985 [==============================] - 7s 1ms/step - loss: 0.0014 - accuracy: 0.9996 - val_loss: 0.0036 - val_accuracy: 0.9995\n",
            "Epoch 36/100\n",
            "4985/4985 [==============================] - 7s 1ms/step - loss: 0.0017 - accuracy: 0.9994 - val_loss: 0.0039 - val_accuracy: 0.9993\n",
            "Epoch 37/100\n",
            "4985/4985 [==============================] - 7s 1ms/step - loss: 0.0021 - accuracy: 0.9994 - val_loss: 0.0043 - val_accuracy: 0.9992\n",
            "Epoch 38/100\n",
            "4985/4985 [==============================] - 7s 1ms/step - loss: 0.0018 - accuracy: 0.9994 - val_loss: 0.0036 - val_accuracy: 0.9994\n",
            "Epoch 39/100\n",
            "4985/4985 [==============================] - 7s 1ms/step - loss: 0.0013 - accuracy: 0.9996 - val_loss: 0.0047 - val_accuracy: 0.9991\n",
            "Epoch 40/100\n",
            "4985/4985 [==============================] - 7s 1ms/step - loss: 0.0014 - accuracy: 0.9996 - val_loss: 0.0040 - val_accuracy: 0.9995\n",
            "Epoch 41/100\n",
            "4985/4985 [==============================] - 7s 1ms/step - loss: 0.0019 - accuracy: 0.9995 - val_loss: 0.0057 - val_accuracy: 0.9990\n",
            "Epoch 42/100\n",
            "4985/4985 [==============================] - 7s 1ms/step - loss: 0.0016 - accuracy: 0.9995 - val_loss: 0.0046 - val_accuracy: 0.9994\n",
            "Epoch 43/100\n",
            "4985/4985 [==============================] - 7s 1ms/step - loss: 0.0015 - accuracy: 0.9995 - val_loss: 0.0044 - val_accuracy: 0.9993\n",
            "Epoch 44/100\n",
            "4985/4985 [==============================] - 7s 1ms/step - loss: 0.0017 - accuracy: 0.9994 - val_loss: 0.0048 - val_accuracy: 0.9992\n",
            "Epoch 45/100\n",
            "4985/4985 [==============================] - 7s 1ms/step - loss: 0.0017 - accuracy: 0.9994 - val_loss: 0.0053 - val_accuracy: 0.9992\n",
            "Epoch 46/100\n",
            "4985/4985 [==============================] - 7s 1ms/step - loss: 0.0017 - accuracy: 0.9995 - val_loss: 0.0054 - val_accuracy: 0.9990\n",
            "Epoch 47/100\n",
            "4985/4985 [==============================] - 7s 1ms/step - loss: 0.0016 - accuracy: 0.9995 - val_loss: 0.0052 - val_accuracy: 0.9994\n",
            "Epoch 48/100\n",
            "4985/4985 [==============================] - 7s 1ms/step - loss: 0.0014 - accuracy: 0.9996 - val_loss: 0.0047 - val_accuracy: 0.9994\n",
            "Epoch 49/100\n",
            "4985/4985 [==============================] - 7s 1ms/step - loss: 0.0021 - accuracy: 0.9994 - val_loss: 0.0049 - val_accuracy: 0.9995\n",
            "Epoch 50/100\n",
            "4985/4985 [==============================] - 7s 1ms/step - loss: 0.0016 - accuracy: 0.9995 - val_loss: 0.0059 - val_accuracy: 0.9993\n",
            "Epoch 51/100\n",
            "4985/4985 [==============================] - 7s 1ms/step - loss: 0.0014 - accuracy: 0.9996 - val_loss: 0.0062 - val_accuracy: 0.9989\n",
            "Epoch 52/100\n",
            "4985/4985 [==============================] - 7s 1ms/step - loss: 0.0018 - accuracy: 0.9995 - val_loss: 0.0054 - val_accuracy: 0.9993\n",
            "Epoch 53/100\n",
            "4985/4985 [==============================] - 7s 1ms/step - loss: 0.0017 - accuracy: 0.9995 - val_loss: 0.0060 - val_accuracy: 0.9991\n",
            "Epoch 54/100\n",
            "4985/4985 [==============================] - 7s 1ms/step - loss: 0.0013 - accuracy: 0.9996 - val_loss: 0.0057 - val_accuracy: 0.9991\n",
            "Epoch 55/100\n",
            "4985/4985 [==============================] - 7s 1ms/step - loss: 0.0016 - accuracy: 0.9995 - val_loss: 0.0057 - val_accuracy: 0.9992\n",
            "Epoch 56/100\n",
            "4985/4985 [==============================] - 7s 1ms/step - loss: 0.0017 - accuracy: 0.9995 - val_loss: 0.0053 - val_accuracy: 0.9993\n",
            "Epoch 57/100\n",
            "4985/4985 [==============================] - 7s 1ms/step - loss: 0.0015 - accuracy: 0.9995 - val_loss: 0.0063 - val_accuracy: 0.9990\n",
            "Epoch 58/100\n",
            "4985/4985 [==============================] - 7s 1ms/step - loss: 0.0017 - accuracy: 0.9995 - val_loss: 0.0060 - val_accuracy: 0.9991\n",
            "Epoch 59/100\n",
            "4985/4985 [==============================] - 7s 1ms/step - loss: 0.0014 - accuracy: 0.9996 - val_loss: 0.0070 - val_accuracy: 0.9988\n",
            "Epoch 60/100\n",
            "4985/4985 [==============================] - 7s 1ms/step - loss: 0.0014 - accuracy: 0.9995 - val_loss: 0.0064 - val_accuracy: 0.9989\n",
            "Epoch 61/100\n",
            "4985/4985 [==============================] - 7s 1ms/step - loss: 0.0014 - accuracy: 0.9995 - val_loss: 0.0057 - val_accuracy: 0.9993\n",
            "Epoch 62/100\n",
            "4985/4985 [==============================] - 7s 1ms/step - loss: 0.0013 - accuracy: 0.9996 - val_loss: 0.0088 - val_accuracy: 0.9988\n",
            "Epoch 63/100\n",
            "4985/4985 [==============================] - 7s 1ms/step - loss: 0.0016 - accuracy: 0.9995 - val_loss: 0.0074 - val_accuracy: 0.9990\n",
            "Epoch 64/100\n",
            "4985/4985 [==============================] - 7s 1ms/step - loss: 0.0015 - accuracy: 0.9995 - val_loss: 0.0080 - val_accuracy: 0.9989\n",
            "Epoch 65/100\n",
            "4985/4985 [==============================] - 7s 1ms/step - loss: 0.0013 - accuracy: 0.9996 - val_loss: 0.0083 - val_accuracy: 0.9986\n",
            "Epoch 66/100\n",
            "4985/4985 [==============================] - 7s 1ms/step - loss: 0.0015 - accuracy: 0.9995 - val_loss: 0.0062 - val_accuracy: 0.9993\n",
            "Epoch 67/100\n",
            "4985/4985 [==============================] - 7s 1ms/step - loss: 0.0014 - accuracy: 0.9995 - val_loss: 0.0064 - val_accuracy: 0.9991\n",
            "Epoch 68/100\n",
            "4985/4985 [==============================] - 6s 1ms/step - loss: 0.0013 - accuracy: 0.9996 - val_loss: 0.0065 - val_accuracy: 0.9992\n",
            "Epoch 69/100\n",
            "4985/4985 [==============================] - 7s 1ms/step - loss: 0.0014 - accuracy: 0.9995 - val_loss: 0.0076 - val_accuracy: 0.9992\n",
            "Epoch 70/100\n",
            "4985/4985 [==============================] - 7s 1ms/step - loss: 0.0015 - accuracy: 0.9994 - val_loss: 0.0080 - val_accuracy: 0.9989\n",
            "Epoch 71/100\n",
            "4985/4985 [==============================] - 7s 1ms/step - loss: 0.0015 - accuracy: 0.9995 - val_loss: 0.0074 - val_accuracy: 0.9991\n",
            "Epoch 72/100\n",
            "4985/4985 [==============================] - 7s 1ms/step - loss: 0.0013 - accuracy: 0.9995 - val_loss: 0.0105 - val_accuracy: 0.9987\n",
            "Epoch 73/100\n",
            "4985/4985 [==============================] - 7s 1ms/step - loss: 0.0014 - accuracy: 0.9994 - val_loss: 0.0067 - val_accuracy: 0.9993\n",
            "Epoch 74/100\n",
            "4985/4985 [==============================] - 7s 1ms/step - loss: 0.0015 - accuracy: 0.9995 - val_loss: 0.0082 - val_accuracy: 0.9990\n",
            "Epoch 75/100\n",
            "4985/4985 [==============================] - 7s 1ms/step - loss: 0.0014 - accuracy: 0.9996 - val_loss: 0.0077 - val_accuracy: 0.9991\n",
            "Epoch 76/100\n",
            "4985/4985 [==============================] - 7s 1ms/step - loss: 0.0013 - accuracy: 0.9996 - val_loss: 0.0095 - val_accuracy: 0.9988\n",
            "Epoch 77/100\n",
            "4985/4985 [==============================] - 7s 1ms/step - loss: 0.0011 - accuracy: 0.9997 - val_loss: 0.0071 - val_accuracy: 0.9991\n",
            "Epoch 78/100\n",
            "4985/4985 [==============================] - 7s 1ms/step - loss: 0.0013 - accuracy: 0.9996 - val_loss: 0.0066 - val_accuracy: 0.9992\n",
            "Epoch 79/100\n",
            "4985/4985 [==============================] - 7s 1ms/step - loss: 0.0012 - accuracy: 0.9996 - val_loss: 0.0083 - val_accuracy: 0.9990\n",
            "Epoch 80/100\n",
            "4985/4985 [==============================] - 7s 1ms/step - loss: 0.0014 - accuracy: 0.9996 - val_loss: 0.0077 - val_accuracy: 0.9991\n",
            "Epoch 81/100\n",
            "4985/4985 [==============================] - 7s 1ms/step - loss: 0.0013 - accuracy: 0.9996 - val_loss: 0.0072 - val_accuracy: 0.9990\n",
            "Epoch 82/100\n",
            "4985/4985 [==============================] - 7s 1ms/step - loss: 0.0011 - accuracy: 0.9997 - val_loss: 0.0087 - val_accuracy: 0.9988\n",
            "Epoch 83/100\n",
            "4985/4985 [==============================] - 7s 1ms/step - loss: 0.0013 - accuracy: 0.9996 - val_loss: 0.0081 - val_accuracy: 0.9987\n",
            "Epoch 84/100\n",
            "4985/4985 [==============================] - 7s 1ms/step - loss: 0.0013 - accuracy: 0.9996 - val_loss: 0.0087 - val_accuracy: 0.9987\n",
            "Epoch 85/100\n",
            "4985/4985 [==============================] - 7s 1ms/step - loss: 0.0011 - accuracy: 0.9997 - val_loss: 0.0068 - val_accuracy: 0.9992\n",
            "Epoch 86/100\n",
            "4985/4985 [==============================] - 7s 1ms/step - loss: 0.0013 - accuracy: 0.9996 - val_loss: 0.0066 - val_accuracy: 0.9991\n",
            "Epoch 87/100\n",
            "4985/4985 [==============================] - 7s 1ms/step - loss: 0.0013 - accuracy: 0.9997 - val_loss: 0.0084 - val_accuracy: 0.9991\n",
            "Epoch 88/100\n",
            "4985/4985 [==============================] - 7s 1ms/step - loss: 0.0012 - accuracy: 0.9997 - val_loss: 0.0085 - val_accuracy: 0.9988\n",
            "Epoch 89/100\n",
            "4985/4985 [==============================] - 7s 1ms/step - loss: 0.0013 - accuracy: 0.9996 - val_loss: 0.0081 - val_accuracy: 0.9988\n",
            "Epoch 90/100\n",
            "4985/4985 [==============================] - 7s 1ms/step - loss: 0.0012 - accuracy: 0.9996 - val_loss: 0.0151 - val_accuracy: 0.9978\n",
            "Epoch 91/100\n",
            "4985/4985 [==============================] - 7s 1ms/step - loss: 0.0016 - accuracy: 0.9996 - val_loss: 0.0093 - val_accuracy: 0.9988\n",
            "Epoch 92/100\n",
            "4985/4985 [==============================] - 7s 1ms/step - loss: 0.0011 - accuracy: 0.9997 - val_loss: 0.0085 - val_accuracy: 0.9989\n",
            "Epoch 93/100\n",
            "4985/4985 [==============================] - 7s 1ms/step - loss: 0.0013 - accuracy: 0.9995 - val_loss: 0.0118 - val_accuracy: 0.9982\n",
            "Epoch 94/100\n",
            "4985/4985 [==============================] - 7s 1ms/step - loss: 0.0011 - accuracy: 0.9996 - val_loss: 0.0079 - val_accuracy: 0.9991\n",
            "Epoch 95/100\n",
            "4985/4985 [==============================] - 7s 1ms/step - loss: 0.0011 - accuracy: 0.9996 - val_loss: 0.0083 - val_accuracy: 0.9989\n",
            "Epoch 96/100\n",
            "4985/4985 [==============================] - 7s 1ms/step - loss: 0.0012 - accuracy: 0.9996 - val_loss: 0.0094 - val_accuracy: 0.9987\n",
            "Epoch 97/100\n",
            "4985/4985 [==============================] - 7s 1ms/step - loss: 0.0011 - accuracy: 0.9996 - val_loss: 0.0087 - val_accuracy: 0.9992\n",
            "Epoch 98/100\n",
            "4985/4985 [==============================] - 7s 1ms/step - loss: 9.9532e-04 - accuracy: 0.9997 - val_loss: 0.0095 - val_accuracy: 0.9989\n",
            "Epoch 99/100\n",
            "4985/4985 [==============================] - 7s 1ms/step - loss: 0.0014 - accuracy: 0.9997 - val_loss: 0.0097 - val_accuracy: 0.9991\n",
            "Epoch 100/100\n",
            "4985/4985 [==============================] - 7s 1ms/step - loss: 7.3753e-04 - accuracy: 0.9997 - val_loss: 0.0109 - val_accuracy: 0.9986\n"
          ],
          "name": "stdout"
        }
      ]
    },
    {
      "cell_type": "code",
      "metadata": {
        "colab": {
          "base_uri": "https://localhost:8080/",
          "height": 201
        },
        "id": "mS25qDuyTyIk",
        "outputId": "d156ebfa-b0e8-4d02-de0f-5e43fcf56326"
      },
      "source": [
        "# Storing History In A Data Frame\n",
        "history_df1 = pd.DataFrame(history1)\n",
        "history_df1.tail()"
      ],
      "execution_count": null,
      "outputs": [
        {
          "output_type": "execute_result",
          "data": {
            "text/html": [
              "<div>\n",
              "<style scoped>\n",
              "    .dataframe tbody tr th:only-of-type {\n",
              "        vertical-align: middle;\n",
              "    }\n",
              "\n",
              "    .dataframe tbody tr th {\n",
              "        vertical-align: top;\n",
              "    }\n",
              "\n",
              "    .dataframe thead th {\n",
              "        text-align: right;\n",
              "    }\n",
              "</style>\n",
              "<table border=\"1\" class=\"dataframe\">\n",
              "  <thead>\n",
              "    <tr style=\"text-align: right;\">\n",
              "      <th></th>\n",
              "      <th>loss</th>\n",
              "      <th>accuracy</th>\n",
              "      <th>val_loss</th>\n",
              "      <th>val_accuracy</th>\n",
              "    </tr>\n",
              "  </thead>\n",
              "  <tbody>\n",
              "    <tr>\n",
              "      <th>95</th>\n",
              "      <td>0.001300</td>\n",
              "      <td>0.999574</td>\n",
              "      <td>0.009385</td>\n",
              "      <td>0.998746</td>\n",
              "    </tr>\n",
              "    <tr>\n",
              "      <th>96</th>\n",
              "      <td>0.001287</td>\n",
              "      <td>0.999542</td>\n",
              "      <td>0.008730</td>\n",
              "      <td>0.999197</td>\n",
              "    </tr>\n",
              "    <tr>\n",
              "      <th>97</th>\n",
              "      <td>0.001209</td>\n",
              "      <td>0.999586</td>\n",
              "      <td>0.009500</td>\n",
              "      <td>0.998922</td>\n",
              "    </tr>\n",
              "    <tr>\n",
              "      <th>98</th>\n",
              "      <td>0.001180</td>\n",
              "      <td>0.999668</td>\n",
              "      <td>0.009723</td>\n",
              "      <td>0.999097</td>\n",
              "    </tr>\n",
              "    <tr>\n",
              "      <th>99</th>\n",
              "      <td>0.001168</td>\n",
              "      <td>0.999630</td>\n",
              "      <td>0.010863</td>\n",
              "      <td>0.998596</td>\n",
              "    </tr>\n",
              "  </tbody>\n",
              "</table>\n",
              "</div>"
            ],
            "text/plain": [
              "        loss  accuracy  val_loss  val_accuracy\n",
              "95  0.001300  0.999574  0.009385      0.998746\n",
              "96  0.001287  0.999542  0.008730      0.999197\n",
              "97  0.001209  0.999586  0.009500      0.998922\n",
              "98  0.001180  0.999668  0.009723      0.999097\n",
              "99  0.001168  0.999630  0.010863      0.998596"
            ]
          },
          "metadata": {
            "tags": []
          },
          "execution_count": 112
        }
      ]
    },
    {
      "cell_type": "code",
      "metadata": {
        "colab": {
          "base_uri": "https://localhost:8080/",
          "height": 535
        },
        "id": "AyAQpePTUjUo",
        "outputId": "5b304c36-8916-4461-9627-274f45ef035a"
      },
      "source": [
        "# Plotting Loss on Validation Data\n",
        "plt.plot(history_df1['loss'])\n",
        "plt.plot(history_df1['val_loss'])\n",
        "plt.title('Model Loss on Validation Data')\n",
        "plt.ylabel('Loss')\n",
        "plt.xlabel('Epoch')\n",
        "plt.legend(['Training Loss', 'Validation Loss'], loc='upper right');"
      ],
      "execution_count": null,
      "outputs": [
        {
          "output_type": "display_data",
          "data": {
            "image/png": "[encoded data removed]",
            "text/plain": [
              "<Figure size 1008x576 with 1 Axes>"
            ]
          },
          "metadata": {
            "tags": []
          }
        }
      ]
    },
    {
      "cell_type": "code",
      "metadata": {
        "colab": {
          "base_uri": "https://localhost:8080/",
          "height": 221
        },
        "id": "Rtvqq0YLviDJ",
        "outputId": "c79d195b-ef47-4033-c5b7-928a2196cee4"
      },
      "source": [
        "# Normal Distribution of the Classes\n",
        "\n",
        "# Shuffling Data\n",
        "df = df.sample(frac=1)\n",
        "\n",
        "# Amount of Fraud Classes\n",
        "fraud_df = df.loc[df['Fraud'] == 1]\n",
        "non_fraud_df = df.loc[df['Fraud'] == 0] [:492]\n",
        "\n",
        "normal_distributed_df = pd.concat([fraud_df, non_fraud_df])\n",
        "\n",
        "# Shuffling DataFrame Rows\n",
        "new_df = normal_distributed_df.sample(frac=1, random_state=42)\n",
        "\n",
        "new_df.head()"
      ],
      "execution_count": null,
      "outputs": [
        {
          "output_type": "execute_result",
          "data": {
            "text/html": [
              "<div>\n",
              "<style scoped>\n",
              "    .dataframe tbody tr th:only-of-type {\n",
              "        vertical-align: middle;\n",
              "    }\n",
              "\n",
              "    .dataframe tbody tr th {\n",
              "        vertical-align: top;\n",
              "    }\n",
              "\n",
              "    .dataframe thead th {\n",
              "        text-align: right;\n",
              "    }\n",
              "</style>\n",
              "<table border=\"1\" class=\"dataframe\">\n",
              "  <thead>\n",
              "    <tr style=\"text-align: right;\">\n",
              "      <th></th>\n",
              "      <th>Time</th>\n",
              "      <th>V1</th>\n",
              "      <th>V2</th>\n",
              "      <th>V3</th>\n",
              "      <th>V4</th>\n",
              "      <th>V5</th>\n",
              "      <th>V6</th>\n",
              "      <th>V7</th>\n",
              "      <th>V8</th>\n",
              "      <th>V9</th>\n",
              "      <th>V10</th>\n",
              "      <th>V11</th>\n",
              "      <th>V12</th>\n",
              "      <th>V13</th>\n",
              "      <th>V14</th>\n",
              "      <th>V15</th>\n",
              "      <th>V16</th>\n",
              "      <th>V17</th>\n",
              "      <th>V18</th>\n",
              "      <th>V19</th>\n",
              "      <th>V20</th>\n",
              "      <th>V21</th>\n",
              "      <th>V22</th>\n",
              "      <th>V23</th>\n",
              "      <th>V24</th>\n",
              "      <th>V25</th>\n",
              "      <th>V26</th>\n",
              "      <th>V27</th>\n",
              "      <th>V28</th>\n",
              "      <th>Amount</th>\n",
              "      <th>Fraud</th>\n",
              "    </tr>\n",
              "  </thead>\n",
              "  <tbody>\n",
              "    <tr>\n",
              "      <th>37340</th>\n",
              "      <td>38915.0</td>\n",
              "      <td>0.963509</td>\n",
              "      <td>-0.145489</td>\n",
              "      <td>0.244346</td>\n",
              "      <td>1.363054</td>\n",
              "      <td>-0.534689</td>\n",
              "      <td>-0.843156</td>\n",
              "      <td>0.266334</td>\n",
              "      <td>-0.193699</td>\n",
              "      <td>0.081263</td>\n",
              "      <td>0.022207</td>\n",
              "      <td>-0.541824</td>\n",
              "      <td>-0.216343</td>\n",
              "      <td>-0.670213</td>\n",
              "      <td>0.505541</td>\n",
              "      <td>1.035221</td>\n",
              "      <td>0.202338</td>\n",
              "      <td>-0.426546</td>\n",
              "      <td>0.049084</td>\n",
              "      <td>-0.514631</td>\n",
              "      <td>0.095950</td>\n",
              "      <td>0.146483</td>\n",
              "      <td>0.119036</td>\n",
              "      <td>-0.223208</td>\n",
              "      <td>0.389033</td>\n",
              "      <td>0.597640</td>\n",
              "      <td>-0.293507</td>\n",
              "      <td>-0.012980</td>\n",
              "      <td>0.044874</td>\n",
              "      <td>144.00</td>\n",
              "      <td>0</td>\n",
              "    </tr>\n",
              "    <tr>\n",
              "      <th>124036</th>\n",
              "      <td>77154.0</td>\n",
              "      <td>-0.715414</td>\n",
              "      <td>0.608590</td>\n",
              "      <td>1.155501</td>\n",
              "      <td>-0.267565</td>\n",
              "      <td>-0.563748</td>\n",
              "      <td>-0.618898</td>\n",
              "      <td>0.698308</td>\n",
              "      <td>0.069837</td>\n",
              "      <td>-0.133341</td>\n",
              "      <td>-1.025335</td>\n",
              "      <td>1.500629</td>\n",
              "      <td>-0.417898</td>\n",
              "      <td>-1.590295</td>\n",
              "      <td>-1.074999</td>\n",
              "      <td>0.288234</td>\n",
              "      <td>1.377769</td>\n",
              "      <td>0.223887</td>\n",
              "      <td>1.311073</td>\n",
              "      <td>-0.896072</td>\n",
              "      <td>-0.186978</td>\n",
              "      <td>0.130749</td>\n",
              "      <td>0.239389</td>\n",
              "      <td>-0.090227</td>\n",
              "      <td>0.411572</td>\n",
              "      <td>-0.216126</td>\n",
              "      <td>0.353896</td>\n",
              "      <td>-0.062361</td>\n",
              "      <td>0.008433</td>\n",
              "      <td>129.00</td>\n",
              "      <td>1</td>\n",
              "    </tr>\n",
              "    <tr>\n",
              "      <th>206089</th>\n",
              "      <td>136062.0</td>\n",
              "      <td>0.179425</td>\n",
              "      <td>0.459563</td>\n",
              "      <td>-0.274027</td>\n",
              "      <td>-0.509078</td>\n",
              "      <td>1.094935</td>\n",
              "      <td>-0.187408</td>\n",
              "      <td>0.850863</td>\n",
              "      <td>-0.082497</td>\n",
              "      <td>-0.384299</td>\n",
              "      <td>-0.289698</td>\n",
              "      <td>-0.149805</td>\n",
              "      <td>0.731040</td>\n",
              "      <td>0.543407</td>\n",
              "      <td>0.217046</td>\n",
              "      <td>-1.116737</td>\n",
              "      <td>0.037818</td>\n",
              "      <td>-0.791725</td>\n",
              "      <td>0.087234</td>\n",
              "      <td>1.139021</td>\n",
              "      <td>0.024983</td>\n",
              "      <td>-0.119551</td>\n",
              "      <td>-0.297488</td>\n",
              "      <td>0.034322</td>\n",
              "      <td>-1.010702</td>\n",
              "      <td>-0.698509</td>\n",
              "      <td>0.262177</td>\n",
              "      <td>0.059221</td>\n",
              "      <td>0.082485</td>\n",
              "      <td>27.19</td>\n",
              "      <td>0</td>\n",
              "    </tr>\n",
              "    <tr>\n",
              "      <th>235634</th>\n",
              "      <td>148476.0</td>\n",
              "      <td>-1.125092</td>\n",
              "      <td>3.682876</td>\n",
              "      <td>-6.556168</td>\n",
              "      <td>4.016731</td>\n",
              "      <td>-0.425571</td>\n",
              "      <td>-2.031210</td>\n",
              "      <td>-2.650137</td>\n",
              "      <td>1.131249</td>\n",
              "      <td>-2.946890</td>\n",
              "      <td>-4.816401</td>\n",
              "      <td>2.155796</td>\n",
              "      <td>-6.285125</td>\n",
              "      <td>-1.125625</td>\n",
              "      <td>-6.800098</td>\n",
              "      <td>0.924934</td>\n",
              "      <td>-5.239604</td>\n",
              "      <td>-5.017908</td>\n",
              "      <td>-1.349309</td>\n",
              "      <td>2.868603</td>\n",
              "      <td>0.452241</td>\n",
              "      <td>1.185580</td>\n",
              "      <td>1.348156</td>\n",
              "      <td>-0.053686</td>\n",
              "      <td>0.284122</td>\n",
              "      <td>-1.174469</td>\n",
              "      <td>-0.087832</td>\n",
              "      <td>0.718790</td>\n",
              "      <td>0.676216</td>\n",
              "      <td>0.76</td>\n",
              "      <td>1</td>\n",
              "    </tr>\n",
              "    <tr>\n",
              "      <th>244004</th>\n",
              "      <td>152165.0</td>\n",
              "      <td>-4.673231</td>\n",
              "      <td>4.195976</td>\n",
              "      <td>-8.392423</td>\n",
              "      <td>7.743215</td>\n",
              "      <td>-1.138803</td>\n",
              "      <td>-2.094899</td>\n",
              "      <td>-3.839487</td>\n",
              "      <td>0.543053</td>\n",
              "      <td>-1.528448</td>\n",
              "      <td>-2.325113</td>\n",
              "      <td>4.355770</td>\n",
              "      <td>-8.663031</td>\n",
              "      <td>-1.153993</td>\n",
              "      <td>-13.481705</td>\n",
              "      <td>1.208454</td>\n",
              "      <td>-4.287960</td>\n",
              "      <td>-5.651765</td>\n",
              "      <td>-1.235889</td>\n",
              "      <td>1.080133</td>\n",
              "      <td>-0.180279</td>\n",
              "      <td>0.554185</td>\n",
              "      <td>0.656076</td>\n",
              "      <td>0.482417</td>\n",
              "      <td>-0.624399</td>\n",
              "      <td>-0.296289</td>\n",
              "      <td>0.374802</td>\n",
              "      <td>-2.678544</td>\n",
              "      <td>0.412368</td>\n",
              "      <td>1.00</td>\n",
              "      <td>1</td>\n",
              "    </tr>\n",
              "  </tbody>\n",
              "</table>\n",
              "</div>"
            ],
            "text/plain": [
              "            Time        V1        V2  ...       V28  Amount  Fraud\n",
              "37340    38915.0  0.963509 -0.145489  ...  0.044874  144.00      0\n",
              "124036   77154.0 -0.715414  0.608590  ...  0.008433  129.00      1\n",
              "206089  136062.0  0.179425  0.459563  ...  0.082485   27.19      0\n",
              "235634  148476.0 -1.125092  3.682876  ...  0.676216    0.76      1\n",
              "244004  152165.0 -4.673231  4.195976  ...  0.412368    1.00      1\n",
              "\n",
              "[5 rows x 31 columns]"
            ]
          },
          "metadata": {
            "tags": []
          },
          "execution_count": 142
        }
      ]
    },
    {
      "cell_type": "code",
      "metadata": {
        "colab": {
          "base_uri": "https://localhost:8080/",
          "height": 653
        },
        "id": "FdDYvXkxvvxq",
        "outputId": "c8f0c570-9047-4730-80bd-3489812e1d5b"
      },
      "source": [
        "# Visualizing The Dataframe\n",
        "print('Distribution of the Classes in the New DataFrame')\n",
        "print(new_df['Fraud'].value_counts()/len(new_df))\n",
        "sns.countplot('Fraud', data=new_df)\n",
        "plt.title('Equally Distributed Classes', fontsize=14)\n",
        "plt.show()"
      ],
      "execution_count": null,
      "outputs": [
        {
          "output_type": "stream",
          "text": [
            "Distribution of the Classes in the New DataFrame\n",
            "1    0.5\n",
            "0    0.5\n",
            "Name: Fraud, dtype: float64\n"
          ],
          "name": "stdout"
        },
        {
          "output_type": "stream",
          "text": [
            "/usr/local/lib/python3.7/dist-packages/seaborn/_decorators.py:43: FutureWarning: Pass the following variable as a keyword arg: x. From version 0.12, the only valid positional argument will be `data`, and passing other arguments without an explicit keyword will result in an error or misinterpretation.\n",
            "  FutureWarning\n"
          ],
          "name": "stderr"
        },
        {
          "output_type": "display_data",
          "data": {
            "image/png": "[encoded data removed]",
            "text/plain": [
              "<Figure size 1008x576 with 1 Axes>"
            ]
          },
          "metadata": {
            "tags": []
          }
        }
      ]
    },
    {
      "cell_type": "code",
      "metadata": {
        "colab": {
          "base_uri": "https://localhost:8080/",
          "height": 1000
        },
        "id": "ONryREFkw5pY",
        "outputId": "599136a1-f8c2-4bd2-d47c-3c02d2ec6d3d"
      },
      "source": [
        "# Making a Heatmap To Check New Dataset Correlation\n",
        "\n",
        "# Original Unbalanced DataSet\n",
        "f, (ax1, ax2) = plt.subplots(2, 1, figsize=(24,20))\n",
        "corr = df.corr()\n",
        "sns.heatmap(corr, cmap='coolwarm_r', annot_kws={'size':20}, ax=ax1)\n",
        "ax1.set_title(\"Imbalanced Correlation Matrix\", fontsize=14)\n",
        "\n",
        "# New Balanced Dataset\n",
        "new_corr = new_df.corr()\n",
        "sns.heatmap(new_corr, cmap='CMRmap_r', annot_kws={'size':20}, ax=ax2)\n",
        "ax2.set_title('Balanced Correlation Matrix', fontsize=14)\n",
        "plt.show()"
      ],
      "execution_count": null,
      "outputs": [
        {
          "output_type": "display_data",
          "data": {
            "image/png": "[encoded data removed]",
            "text/plain": [
              "<Figure size 1728x1440 with 4 Axes>"
            ]
          },
          "metadata": {
            "tags": []
          }
        }
      ]
    },
    {
      "cell_type": "code",
      "metadata": {
        "colab": {
          "base_uri": "https://localhost:8080/",
          "height": 221
        },
        "id": "N7Z-enu_yyGO",
        "outputId": "09fe85d5-fba7-49bb-a83c-cf37b01735ff"
      },
      "source": [
        "# Checking New DataSet\n",
        "new_df.head()"
      ],
      "execution_count": null,
      "outputs": [
        {
          "output_type": "execute_result",
          "data": {
            "text/html": [
              "<div>\n",
              "<style scoped>\n",
              "    .dataframe tbody tr th:only-of-type {\n",
              "        vertical-align: middle;\n",
              "    }\n",
              "\n",
              "    .dataframe tbody tr th {\n",
              "        vertical-align: top;\n",
              "    }\n",
              "\n",
              "    .dataframe thead th {\n",
              "        text-align: right;\n",
              "    }\n",
              "</style>\n",
              "<table border=\"1\" class=\"dataframe\">\n",
              "  <thead>\n",
              "    <tr style=\"text-align: right;\">\n",
              "      <th></th>\n",
              "      <th>Time</th>\n",
              "      <th>V1</th>\n",
              "      <th>V2</th>\n",
              "      <th>V3</th>\n",
              "      <th>V4</th>\n",
              "      <th>V5</th>\n",
              "      <th>V6</th>\n",
              "      <th>V7</th>\n",
              "      <th>V8</th>\n",
              "      <th>V9</th>\n",
              "      <th>V10</th>\n",
              "      <th>V11</th>\n",
              "      <th>V12</th>\n",
              "      <th>V13</th>\n",
              "      <th>V14</th>\n",
              "      <th>V15</th>\n",
              "      <th>V16</th>\n",
              "      <th>V17</th>\n",
              "      <th>V18</th>\n",
              "      <th>V19</th>\n",
              "      <th>V20</th>\n",
              "      <th>V21</th>\n",
              "      <th>V22</th>\n",
              "      <th>V23</th>\n",
              "      <th>V24</th>\n",
              "      <th>V25</th>\n",
              "      <th>V26</th>\n",
              "      <th>V27</th>\n",
              "      <th>V28</th>\n",
              "      <th>Amount</th>\n",
              "      <th>Fraud</th>\n",
              "    </tr>\n",
              "  </thead>\n",
              "  <tbody>\n",
              "    <tr>\n",
              "      <th>37340</th>\n",
              "      <td>38915.0</td>\n",
              "      <td>0.963509</td>\n",
              "      <td>-0.145489</td>\n",
              "      <td>0.244346</td>\n",
              "      <td>1.363054</td>\n",
              "      <td>-0.534689</td>\n",
              "      <td>-0.843156</td>\n",
              "      <td>0.266334</td>\n",
              "      <td>-0.193699</td>\n",
              "      <td>0.081263</td>\n",
              "      <td>0.022207</td>\n",
              "      <td>-0.541824</td>\n",
              "      <td>-0.216343</td>\n",
              "      <td>-0.670213</td>\n",
              "      <td>0.505541</td>\n",
              "      <td>1.035221</td>\n",
              "      <td>0.202338</td>\n",
              "      <td>-0.426546</td>\n",
              "      <td>0.049084</td>\n",
              "      <td>-0.514631</td>\n",
              "      <td>0.095950</td>\n",
              "      <td>0.146483</td>\n",
              "      <td>0.119036</td>\n",
              "      <td>-0.223208</td>\n",
              "      <td>0.389033</td>\n",
              "      <td>0.597640</td>\n",
              "      <td>-0.293507</td>\n",
              "      <td>-0.012980</td>\n",
              "      <td>0.044874</td>\n",
              "      <td>144.00</td>\n",
              "      <td>0</td>\n",
              "    </tr>\n",
              "    <tr>\n",
              "      <th>124036</th>\n",
              "      <td>77154.0</td>\n",
              "      <td>-0.715414</td>\n",
              "      <td>0.608590</td>\n",
              "      <td>1.155501</td>\n",
              "      <td>-0.267565</td>\n",
              "      <td>-0.563748</td>\n",
              "      <td>-0.618898</td>\n",
              "      <td>0.698308</td>\n",
              "      <td>0.069837</td>\n",
              "      <td>-0.133341</td>\n",
              "      <td>-1.025335</td>\n",
              "      <td>1.500629</td>\n",
              "      <td>-0.417898</td>\n",
              "      <td>-1.590295</td>\n",
              "      <td>-1.074999</td>\n",
              "      <td>0.288234</td>\n",
              "      <td>1.377769</td>\n",
              "      <td>0.223887</td>\n",
              "      <td>1.311073</td>\n",
              "      <td>-0.896072</td>\n",
              "      <td>-0.186978</td>\n",
              "      <td>0.130749</td>\n",
              "      <td>0.239389</td>\n",
              "      <td>-0.090227</td>\n",
              "      <td>0.411572</td>\n",
              "      <td>-0.216126</td>\n",
              "      <td>0.353896</td>\n",
              "      <td>-0.062361</td>\n",
              "      <td>0.008433</td>\n",
              "      <td>129.00</td>\n",
              "      <td>1</td>\n",
              "    </tr>\n",
              "    <tr>\n",
              "      <th>206089</th>\n",
              "      <td>136062.0</td>\n",
              "      <td>0.179425</td>\n",
              "      <td>0.459563</td>\n",
              "      <td>-0.274027</td>\n",
              "      <td>-0.509078</td>\n",
              "      <td>1.094935</td>\n",
              "      <td>-0.187408</td>\n",
              "      <td>0.850863</td>\n",
              "      <td>-0.082497</td>\n",
              "      <td>-0.384299</td>\n",
              "      <td>-0.289698</td>\n",
              "      <td>-0.149805</td>\n",
              "      <td>0.731040</td>\n",
              "      <td>0.543407</td>\n",
              "      <td>0.217046</td>\n",
              "      <td>-1.116737</td>\n",
              "      <td>0.037818</td>\n",
              "      <td>-0.791725</td>\n",
              "      <td>0.087234</td>\n",
              "      <td>1.139021</td>\n",
              "      <td>0.024983</td>\n",
              "      <td>-0.119551</td>\n",
              "      <td>-0.297488</td>\n",
              "      <td>0.034322</td>\n",
              "      <td>-1.010702</td>\n",
              "      <td>-0.698509</td>\n",
              "      <td>0.262177</td>\n",
              "      <td>0.059221</td>\n",
              "      <td>0.082485</td>\n",
              "      <td>27.19</td>\n",
              "      <td>0</td>\n",
              "    </tr>\n",
              "    <tr>\n",
              "      <th>235634</th>\n",
              "      <td>148476.0</td>\n",
              "      <td>-1.125092</td>\n",
              "      <td>3.682876</td>\n",
              "      <td>-6.556168</td>\n",
              "      <td>4.016731</td>\n",
              "      <td>-0.425571</td>\n",
              "      <td>-2.031210</td>\n",
              "      <td>-2.650137</td>\n",
              "      <td>1.131249</td>\n",
              "      <td>-2.946890</td>\n",
              "      <td>-4.816401</td>\n",
              "      <td>2.155796</td>\n",
              "      <td>-6.285125</td>\n",
              "      <td>-1.125625</td>\n",
              "      <td>-6.800098</td>\n",
              "      <td>0.924934</td>\n",
              "      <td>-5.239604</td>\n",
              "      <td>-5.017908</td>\n",
              "      <td>-1.349309</td>\n",
              "      <td>2.868603</td>\n",
              "      <td>0.452241</td>\n",
              "      <td>1.185580</td>\n",
              "      <td>1.348156</td>\n",
              "      <td>-0.053686</td>\n",
              "      <td>0.284122</td>\n",
              "      <td>-1.174469</td>\n",
              "      <td>-0.087832</td>\n",
              "      <td>0.718790</td>\n",
              "      <td>0.676216</td>\n",
              "      <td>0.76</td>\n",
              "      <td>1</td>\n",
              "    </tr>\n",
              "    <tr>\n",
              "      <th>244004</th>\n",
              "      <td>152165.0</td>\n",
              "      <td>-4.673231</td>\n",
              "      <td>4.195976</td>\n",
              "      <td>-8.392423</td>\n",
              "      <td>7.743215</td>\n",
              "      <td>-1.138803</td>\n",
              "      <td>-2.094899</td>\n",
              "      <td>-3.839487</td>\n",
              "      <td>0.543053</td>\n",
              "      <td>-1.528448</td>\n",
              "      <td>-2.325113</td>\n",
              "      <td>4.355770</td>\n",
              "      <td>-8.663031</td>\n",
              "      <td>-1.153993</td>\n",
              "      <td>-13.481705</td>\n",
              "      <td>1.208454</td>\n",
              "      <td>-4.287960</td>\n",
              "      <td>-5.651765</td>\n",
              "      <td>-1.235889</td>\n",
              "      <td>1.080133</td>\n",
              "      <td>-0.180279</td>\n",
              "      <td>0.554185</td>\n",
              "      <td>0.656076</td>\n",
              "      <td>0.482417</td>\n",
              "      <td>-0.624399</td>\n",
              "      <td>-0.296289</td>\n",
              "      <td>0.374802</td>\n",
              "      <td>-2.678544</td>\n",
              "      <td>0.412368</td>\n",
              "      <td>1.00</td>\n",
              "      <td>1</td>\n",
              "    </tr>\n",
              "  </tbody>\n",
              "</table>\n",
              "</div>"
            ],
            "text/plain": [
              "            Time        V1        V2  ...       V28  Amount  Fraud\n",
              "37340    38915.0  0.963509 -0.145489  ...  0.044874  144.00      0\n",
              "124036   77154.0 -0.715414  0.608590  ...  0.008433  129.00      1\n",
              "206089  136062.0  0.179425  0.459563  ...  0.082485   27.19      0\n",
              "235634  148476.0 -1.125092  3.682876  ...  0.676216    0.76      1\n",
              "244004  152165.0 -4.673231  4.195976  ...  0.412368    1.00      1\n",
              "\n",
              "[5 rows x 31 columns]"
            ]
          },
          "metadata": {
            "tags": []
          },
          "execution_count": 144
        }
      ]
    },
    {
      "cell_type": "code",
      "metadata": {
        "colab": {
          "base_uri": "https://localhost:8080/"
        },
        "id": "gOZvRjt00RsV",
        "outputId": "a06329ca-7b21-4473-f023-57ce22553528"
      },
      "source": [
        "df.shape"
      ],
      "execution_count": null,
      "outputs": [
        {
          "output_type": "execute_result",
          "data": {
            "text/plain": [
              "(284807, 31)"
            ]
          },
          "metadata": {
            "tags": []
          },
          "execution_count": 146
        }
      ]
    },
    {
      "cell_type": "code",
      "metadata": {
        "colab": {
          "base_uri": "https://localhost:8080/"
        },
        "id": "ylt8tYQ6z2lq",
        "outputId": "30573870-3d61-4d80-b19a-52bd8b6bb5c5"
      },
      "source": [
        "new_df.shape"
      ],
      "execution_count": null,
      "outputs": [
        {
          "output_type": "execute_result",
          "data": {
            "text/plain": [
              "(984, 31)"
            ]
          },
          "metadata": {
            "tags": []
          },
          "execution_count": 145
        }
      ]
    },
    {
      "cell_type": "code",
      "metadata": {
        "id": "-81A8qDC0Wso"
      },
      "source": [
        "# Splitting New Dataset Into Training and Testing Dataset\n",
        "new_train_data = new_df.iloc[:688,:]"
      ],
      "execution_count": null,
      "outputs": []
    },
    {
      "cell_type": "code",
      "metadata": {
        "id": "6OBm725k0ok9"
      },
      "source": [
        "new_test_data = new_df.iloc[688:,:]"
      ],
      "execution_count": null,
      "outputs": []
    }
  ]
}